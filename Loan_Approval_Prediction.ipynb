{
 "cells": [
  {
   "cell_type": "markdown",
   "id": "5e828b18",
   "metadata": {},
   "source": [
    "# Loan Approval Prediction"
   ]
  },
  {
   "cell_type": "markdown",
   "id": "94046019",
   "metadata": {},
   "source": [
    "## Dataset: Load_Approval_Dataset (KAGGLE)\n",
    "### Importing necessary libraries"
   ]
  },
  {
   "cell_type": "code",
   "execution_count": 149,
   "id": "5876b162",
   "metadata": {},
   "outputs": [],
   "source": [
    "import numpy as np \n",
    "import pandas as pd \n",
    "import seaborn as sns \n",
    "import matplotlib.pyplot as plt \n",
    "import plotly.express as px \n",
    "import plotly.graph_objects as go \n",
    "\n",
    "from sklearn.model_selection import train_test_split , GridSearchCV , StratifiedKFold , cross_val_score\n",
    "from sklearn.preprocessing import OneHotEncoder , StandardScaler , OrdinalEncoder\n",
    "from sklearn.compose import ColumnTransformer\n",
    "from sklearn.pipeline import Pipeline\n",
    "from sklearn.impute import SimpleImputer\n",
    "from sklearn.linear_model import LogisticRegression \n",
    "from sklearn.tree import DecisionTreeClassifier , plot_tree\n",
    "from sklearn.metrics import (confusion_matrix, ConfusionMatrixDisplay , classification_report, precision_recall_curve,\n",
    "                             roc_curve, roc_auc_score, precision_score, recall_score, f1_score,\n",
    "                             average_precision_score)\n",
    "\n",
    "from imblearn.over_sampling import SMOTE\n",
    "from imblearn.pipeline import Pipeline as ImbPipeline"
   ]
  },
  {
   "cell_type": "markdown",
   "id": "097de22f",
   "metadata": {},
   "source": [
    "### Loading the dataset and creating its dataframe"
   ]
  },
  {
   "cell_type": "code",
   "execution_count": 116,
   "id": "c6754c43",
   "metadata": {},
   "outputs": [],
   "source": [
    "filepath = \"D:\\\\Datasets\\\\Loam Approval Prediction Dataset\\\\loan_approval_dataset.csv\"\n",
    "\n",
    "df = pd.read_csv(filepath)"
   ]
  },
  {
   "cell_type": "code",
   "execution_count": 117,
   "id": "d4380438",
   "metadata": {},
   "outputs": [
    {
     "data": {
      "application/vnd.microsoft.datawrangler.viewer.v0+json": {
       "columns": [
        {
         "name": "index",
         "rawType": "int64",
         "type": "integer"
        },
        {
         "name": "loan_id",
         "rawType": "int64",
         "type": "integer"
        },
        {
         "name": " no_of_dependents",
         "rawType": "int64",
         "type": "integer"
        },
        {
         "name": " education",
         "rawType": "object",
         "type": "string"
        },
        {
         "name": " self_employed",
         "rawType": "object",
         "type": "string"
        },
        {
         "name": " income_annum",
         "rawType": "int64",
         "type": "integer"
        },
        {
         "name": " loan_amount",
         "rawType": "int64",
         "type": "integer"
        },
        {
         "name": " loan_term",
         "rawType": "int64",
         "type": "integer"
        },
        {
         "name": " cibil_score",
         "rawType": "int64",
         "type": "integer"
        },
        {
         "name": " residential_assets_value",
         "rawType": "int64",
         "type": "integer"
        },
        {
         "name": " commercial_assets_value",
         "rawType": "int64",
         "type": "integer"
        },
        {
         "name": " luxury_assets_value",
         "rawType": "int64",
         "type": "integer"
        },
        {
         "name": " bank_asset_value",
         "rawType": "int64",
         "type": "integer"
        },
        {
         "name": " loan_status",
         "rawType": "object",
         "type": "string"
        }
       ],
       "ref": "73bb1008-3473-4ea5-8889-b4d8c52041d3",
       "rows": [
        [
         "0",
         "1",
         "2",
         " Graduate",
         " No",
         "9600000",
         "29900000",
         "12",
         "778",
         "2400000",
         "17600000",
         "22700000",
         "8000000",
         " Approved"
        ],
        [
         "1",
         "2",
         "0",
         " Not Graduate",
         " Yes",
         "4100000",
         "12200000",
         "8",
         "417",
         "2700000",
         "2200000",
         "8800000",
         "3300000",
         " Rejected"
        ],
        [
         "2",
         "3",
         "3",
         " Graduate",
         " No",
         "9100000",
         "29700000",
         "20",
         "506",
         "7100000",
         "4500000",
         "33300000",
         "12800000",
         " Rejected"
        ],
        [
         "3",
         "4",
         "3",
         " Graduate",
         " No",
         "8200000",
         "30700000",
         "8",
         "467",
         "18200000",
         "3300000",
         "23300000",
         "7900000",
         " Rejected"
        ],
        [
         "4",
         "5",
         "5",
         " Not Graduate",
         " Yes",
         "9800000",
         "24200000",
         "20",
         "382",
         "12400000",
         "8200000",
         "29400000",
         "5000000",
         " Rejected"
        ]
       ],
       "shape": {
        "columns": 13,
        "rows": 5
       }
      },
      "text/html": [
       "<div>\n",
       "<style scoped>\n",
       "    .dataframe tbody tr th:only-of-type {\n",
       "        vertical-align: middle;\n",
       "    }\n",
       "\n",
       "    .dataframe tbody tr th {\n",
       "        vertical-align: top;\n",
       "    }\n",
       "\n",
       "    .dataframe thead th {\n",
       "        text-align: right;\n",
       "    }\n",
       "</style>\n",
       "<table border=\"1\" class=\"dataframe\">\n",
       "  <thead>\n",
       "    <tr style=\"text-align: right;\">\n",
       "      <th></th>\n",
       "      <th>loan_id</th>\n",
       "      <th>no_of_dependents</th>\n",
       "      <th>education</th>\n",
       "      <th>self_employed</th>\n",
       "      <th>income_annum</th>\n",
       "      <th>loan_amount</th>\n",
       "      <th>loan_term</th>\n",
       "      <th>cibil_score</th>\n",
       "      <th>residential_assets_value</th>\n",
       "      <th>commercial_assets_value</th>\n",
       "      <th>luxury_assets_value</th>\n",
       "      <th>bank_asset_value</th>\n",
       "      <th>loan_status</th>\n",
       "    </tr>\n",
       "  </thead>\n",
       "  <tbody>\n",
       "    <tr>\n",
       "      <th>0</th>\n",
       "      <td>1</td>\n",
       "      <td>2</td>\n",
       "      <td>Graduate</td>\n",
       "      <td>No</td>\n",
       "      <td>9600000</td>\n",
       "      <td>29900000</td>\n",
       "      <td>12</td>\n",
       "      <td>778</td>\n",
       "      <td>2400000</td>\n",
       "      <td>17600000</td>\n",
       "      <td>22700000</td>\n",
       "      <td>8000000</td>\n",
       "      <td>Approved</td>\n",
       "    </tr>\n",
       "    <tr>\n",
       "      <th>1</th>\n",
       "      <td>2</td>\n",
       "      <td>0</td>\n",
       "      <td>Not Graduate</td>\n",
       "      <td>Yes</td>\n",
       "      <td>4100000</td>\n",
       "      <td>12200000</td>\n",
       "      <td>8</td>\n",
       "      <td>417</td>\n",
       "      <td>2700000</td>\n",
       "      <td>2200000</td>\n",
       "      <td>8800000</td>\n",
       "      <td>3300000</td>\n",
       "      <td>Rejected</td>\n",
       "    </tr>\n",
       "    <tr>\n",
       "      <th>2</th>\n",
       "      <td>3</td>\n",
       "      <td>3</td>\n",
       "      <td>Graduate</td>\n",
       "      <td>No</td>\n",
       "      <td>9100000</td>\n",
       "      <td>29700000</td>\n",
       "      <td>20</td>\n",
       "      <td>506</td>\n",
       "      <td>7100000</td>\n",
       "      <td>4500000</td>\n",
       "      <td>33300000</td>\n",
       "      <td>12800000</td>\n",
       "      <td>Rejected</td>\n",
       "    </tr>\n",
       "    <tr>\n",
       "      <th>3</th>\n",
       "      <td>4</td>\n",
       "      <td>3</td>\n",
       "      <td>Graduate</td>\n",
       "      <td>No</td>\n",
       "      <td>8200000</td>\n",
       "      <td>30700000</td>\n",
       "      <td>8</td>\n",
       "      <td>467</td>\n",
       "      <td>18200000</td>\n",
       "      <td>3300000</td>\n",
       "      <td>23300000</td>\n",
       "      <td>7900000</td>\n",
       "      <td>Rejected</td>\n",
       "    </tr>\n",
       "    <tr>\n",
       "      <th>4</th>\n",
       "      <td>5</td>\n",
       "      <td>5</td>\n",
       "      <td>Not Graduate</td>\n",
       "      <td>Yes</td>\n",
       "      <td>9800000</td>\n",
       "      <td>24200000</td>\n",
       "      <td>20</td>\n",
       "      <td>382</td>\n",
       "      <td>12400000</td>\n",
       "      <td>8200000</td>\n",
       "      <td>29400000</td>\n",
       "      <td>5000000</td>\n",
       "      <td>Rejected</td>\n",
       "    </tr>\n",
       "  </tbody>\n",
       "</table>\n",
       "</div>"
      ],
      "text/plain": [
       "   loan_id   no_of_dependents  ...  bank_asset_value  loan_status\n",
       "0        1                  2  ...           8000000     Approved\n",
       "1        2                  0  ...           3300000     Rejected\n",
       "2        3                  3  ...          12800000     Rejected\n",
       "3        4                  3  ...           7900000     Rejected\n",
       "4        5                  5  ...           5000000     Rejected\n",
       "\n",
       "[5 rows x 13 columns]"
      ]
     },
     "execution_count": 117,
     "metadata": {},
     "output_type": "execute_result"
    }
   ],
   "source": [
    "df.head()"
   ]
  },
  {
   "cell_type": "markdown",
   "id": "26647ac7",
   "metadata": {},
   "source": [
    "### Exploratory Data Analysis"
   ]
  },
  {
   "cell_type": "code",
   "execution_count": 118,
   "id": "96c18e82",
   "metadata": {},
   "outputs": [
    {
     "name": "stdout",
     "output_type": "stream",
     "text": [
      "<class 'pandas.core.frame.DataFrame'>\n",
      "RangeIndex: 4269 entries, 0 to 4268\n",
      "Data columns (total 13 columns):\n",
      " #   Column                     Non-Null Count  Dtype \n",
      "---  ------                     --------------  ----- \n",
      " 0   loan_id                    4269 non-null   int64 \n",
      " 1    no_of_dependents          4269 non-null   int64 \n",
      " 2    education                 4269 non-null   object\n",
      " 3    self_employed             4269 non-null   object\n",
      " 4    income_annum              4269 non-null   int64 \n",
      " 5    loan_amount               4269 non-null   int64 \n",
      " 6    loan_term                 4269 non-null   int64 \n",
      " 7    cibil_score               4269 non-null   int64 \n",
      " 8    residential_assets_value  4269 non-null   int64 \n",
      " 9    commercial_assets_value   4269 non-null   int64 \n",
      " 10   luxury_assets_value       4269 non-null   int64 \n",
      " 11   bank_asset_value          4269 non-null   int64 \n",
      " 12   loan_status               4269 non-null   object\n",
      "dtypes: int64(10), object(3)\n",
      "memory usage: 433.7+ KB\n"
     ]
    }
   ],
   "source": [
    "df.info()"
   ]
  },
  {
   "cell_type": "code",
   "execution_count": 119,
   "id": "3f9546cb",
   "metadata": {},
   "outputs": [
    {
     "name": "stdout",
     "output_type": "stream",
     "text": [
      "Rows:  4269 \n",
      "Columns:  13\n"
     ]
    }
   ],
   "source": [
    "rows , columns = df.shape\n",
    "\n",
    "print(\"Rows: \" , rows , \"\\nColumns: \" , columns)"
   ]
  },
  {
   "cell_type": "code",
   "execution_count": 120,
   "id": "f4c2b343",
   "metadata": {},
   "outputs": [
    {
     "data": {
      "application/vnd.microsoft.datawrangler.viewer.v0+json": {
       "columns": [
        {
         "name": "index",
         "rawType": "object",
         "type": "string"
        },
        {
         "name": "loan_id",
         "rawType": "float64",
         "type": "float"
        },
        {
         "name": " no_of_dependents",
         "rawType": "float64",
         "type": "float"
        },
        {
         "name": " income_annum",
         "rawType": "float64",
         "type": "float"
        },
        {
         "name": " loan_amount",
         "rawType": "float64",
         "type": "float"
        },
        {
         "name": " loan_term",
         "rawType": "float64",
         "type": "float"
        },
        {
         "name": " cibil_score",
         "rawType": "float64",
         "type": "float"
        },
        {
         "name": " residential_assets_value",
         "rawType": "float64",
         "type": "float"
        },
        {
         "name": " commercial_assets_value",
         "rawType": "float64",
         "type": "float"
        },
        {
         "name": " luxury_assets_value",
         "rawType": "float64",
         "type": "float"
        },
        {
         "name": " bank_asset_value",
         "rawType": "float64",
         "type": "float"
        }
       ],
       "ref": "ab3188e0-9b38-4a37-8d61-64088006b485",
       "rows": [
        [
         "count",
         "4269.0",
         "4269.0",
         "4269.0",
         "4269.0",
         "4269.0",
         "4269.0",
         "4269.0",
         "4269.0",
         "4269.0",
         "4269.0"
        ],
        [
         "mean",
         "2135.0",
         "2.4987116420707425",
         "5059123.9166081045",
         "15133450.456781447",
         "10.900445069102835",
         "599.9360505973295",
         "7472616.537830873",
         "4973155.3056922",
         "15126305.926446475",
         "4976692.433825252"
        ],
        [
         "std",
         "1232.4984787008866",
         "1.695910160711101",
         "2806839.831818462",
         "9043362.984842854",
         "5.7091872792452",
         "172.43040073575904",
         "6503636.587664101",
         "4388966.089638461",
         "9103753.665256497",
         "3250185.3056957023"
        ],
        [
         "min",
         "1.0",
         "0.0",
         "200000.0",
         "300000.0",
         "2.0",
         "300.0",
         "-100000.0",
         "0.0",
         "300000.0",
         "0.0"
        ],
        [
         "25%",
         "1068.0",
         "1.0",
         "2700000.0",
         "7700000.0",
         "6.0",
         "453.0",
         "2200000.0",
         "1300000.0",
         "7500000.0",
         "2300000.0"
        ],
        [
         "50%",
         "2135.0",
         "3.0",
         "5100000.0",
         "14500000.0",
         "10.0",
         "600.0",
         "5600000.0",
         "3700000.0",
         "14600000.0",
         "4600000.0"
        ],
        [
         "75%",
         "3202.0",
         "4.0",
         "7500000.0",
         "21500000.0",
         "16.0",
         "748.0",
         "11300000.0",
         "7600000.0",
         "21700000.0",
         "7100000.0"
        ],
        [
         "max",
         "4269.0",
         "5.0",
         "9900000.0",
         "39500000.0",
         "20.0",
         "900.0",
         "29100000.0",
         "19400000.0",
         "39200000.0",
         "14700000.0"
        ]
       ],
       "shape": {
        "columns": 10,
        "rows": 8
       }
      },
      "text/html": [
       "<div>\n",
       "<style scoped>\n",
       "    .dataframe tbody tr th:only-of-type {\n",
       "        vertical-align: middle;\n",
       "    }\n",
       "\n",
       "    .dataframe tbody tr th {\n",
       "        vertical-align: top;\n",
       "    }\n",
       "\n",
       "    .dataframe thead th {\n",
       "        text-align: right;\n",
       "    }\n",
       "</style>\n",
       "<table border=\"1\" class=\"dataframe\">\n",
       "  <thead>\n",
       "    <tr style=\"text-align: right;\">\n",
       "      <th></th>\n",
       "      <th>loan_id</th>\n",
       "      <th>no_of_dependents</th>\n",
       "      <th>income_annum</th>\n",
       "      <th>loan_amount</th>\n",
       "      <th>loan_term</th>\n",
       "      <th>cibil_score</th>\n",
       "      <th>residential_assets_value</th>\n",
       "      <th>commercial_assets_value</th>\n",
       "      <th>luxury_assets_value</th>\n",
       "      <th>bank_asset_value</th>\n",
       "    </tr>\n",
       "  </thead>\n",
       "  <tbody>\n",
       "    <tr>\n",
       "      <th>count</th>\n",
       "      <td>4269.000000</td>\n",
       "      <td>4269.000000</td>\n",
       "      <td>4.269000e+03</td>\n",
       "      <td>4.269000e+03</td>\n",
       "      <td>4269.000000</td>\n",
       "      <td>4269.000000</td>\n",
       "      <td>4.269000e+03</td>\n",
       "      <td>4.269000e+03</td>\n",
       "      <td>4.269000e+03</td>\n",
       "      <td>4.269000e+03</td>\n",
       "    </tr>\n",
       "    <tr>\n",
       "      <th>mean</th>\n",
       "      <td>2135.000000</td>\n",
       "      <td>2.498712</td>\n",
       "      <td>5.059124e+06</td>\n",
       "      <td>1.513345e+07</td>\n",
       "      <td>10.900445</td>\n",
       "      <td>599.936051</td>\n",
       "      <td>7.472617e+06</td>\n",
       "      <td>4.973155e+06</td>\n",
       "      <td>1.512631e+07</td>\n",
       "      <td>4.976692e+06</td>\n",
       "    </tr>\n",
       "    <tr>\n",
       "      <th>std</th>\n",
       "      <td>1232.498479</td>\n",
       "      <td>1.695910</td>\n",
       "      <td>2.806840e+06</td>\n",
       "      <td>9.043363e+06</td>\n",
       "      <td>5.709187</td>\n",
       "      <td>172.430401</td>\n",
       "      <td>6.503637e+06</td>\n",
       "      <td>4.388966e+06</td>\n",
       "      <td>9.103754e+06</td>\n",
       "      <td>3.250185e+06</td>\n",
       "    </tr>\n",
       "    <tr>\n",
       "      <th>min</th>\n",
       "      <td>1.000000</td>\n",
       "      <td>0.000000</td>\n",
       "      <td>2.000000e+05</td>\n",
       "      <td>3.000000e+05</td>\n",
       "      <td>2.000000</td>\n",
       "      <td>300.000000</td>\n",
       "      <td>-1.000000e+05</td>\n",
       "      <td>0.000000e+00</td>\n",
       "      <td>3.000000e+05</td>\n",
       "      <td>0.000000e+00</td>\n",
       "    </tr>\n",
       "    <tr>\n",
       "      <th>25%</th>\n",
       "      <td>1068.000000</td>\n",
       "      <td>1.000000</td>\n",
       "      <td>2.700000e+06</td>\n",
       "      <td>7.700000e+06</td>\n",
       "      <td>6.000000</td>\n",
       "      <td>453.000000</td>\n",
       "      <td>2.200000e+06</td>\n",
       "      <td>1.300000e+06</td>\n",
       "      <td>7.500000e+06</td>\n",
       "      <td>2.300000e+06</td>\n",
       "    </tr>\n",
       "    <tr>\n",
       "      <th>50%</th>\n",
       "      <td>2135.000000</td>\n",
       "      <td>3.000000</td>\n",
       "      <td>5.100000e+06</td>\n",
       "      <td>1.450000e+07</td>\n",
       "      <td>10.000000</td>\n",
       "      <td>600.000000</td>\n",
       "      <td>5.600000e+06</td>\n",
       "      <td>3.700000e+06</td>\n",
       "      <td>1.460000e+07</td>\n",
       "      <td>4.600000e+06</td>\n",
       "    </tr>\n",
       "    <tr>\n",
       "      <th>75%</th>\n",
       "      <td>3202.000000</td>\n",
       "      <td>4.000000</td>\n",
       "      <td>7.500000e+06</td>\n",
       "      <td>2.150000e+07</td>\n",
       "      <td>16.000000</td>\n",
       "      <td>748.000000</td>\n",
       "      <td>1.130000e+07</td>\n",
       "      <td>7.600000e+06</td>\n",
       "      <td>2.170000e+07</td>\n",
       "      <td>7.100000e+06</td>\n",
       "    </tr>\n",
       "    <tr>\n",
       "      <th>max</th>\n",
       "      <td>4269.000000</td>\n",
       "      <td>5.000000</td>\n",
       "      <td>9.900000e+06</td>\n",
       "      <td>3.950000e+07</td>\n",
       "      <td>20.000000</td>\n",
       "      <td>900.000000</td>\n",
       "      <td>2.910000e+07</td>\n",
       "      <td>1.940000e+07</td>\n",
       "      <td>3.920000e+07</td>\n",
       "      <td>1.470000e+07</td>\n",
       "    </tr>\n",
       "  </tbody>\n",
       "</table>\n",
       "</div>"
      ],
      "text/plain": [
       "           loan_id   no_of_dependents  ...   luxury_assets_value   bank_asset_value\n",
       "count  4269.000000        4269.000000  ...          4.269000e+03       4.269000e+03\n",
       "mean   2135.000000           2.498712  ...          1.512631e+07       4.976692e+06\n",
       "std    1232.498479           1.695910  ...          9.103754e+06       3.250185e+06\n",
       "min       1.000000           0.000000  ...          3.000000e+05       0.000000e+00\n",
       "25%    1068.000000           1.000000  ...          7.500000e+06       2.300000e+06\n",
       "50%    2135.000000           3.000000  ...          1.460000e+07       4.600000e+06\n",
       "75%    3202.000000           4.000000  ...          2.170000e+07       7.100000e+06\n",
       "max    4269.000000           5.000000  ...          3.920000e+07       1.470000e+07\n",
       "\n",
       "[8 rows x 10 columns]"
      ]
     },
     "execution_count": 120,
     "metadata": {},
     "output_type": "execute_result"
    }
   ],
   "source": [
    "df.describe()"
   ]
  },
  {
   "cell_type": "code",
   "execution_count": 121,
   "id": "783c187f",
   "metadata": {},
   "outputs": [
    {
     "data": {
      "application/vnd.microsoft.datawrangler.viewer.v0+json": {
       "columns": [
        {
         "name": "index",
         "rawType": "object",
         "type": "string"
        },
        {
         "name": " education",
         "rawType": "object",
         "type": "unknown"
        },
        {
         "name": " self_employed",
         "rawType": "object",
         "type": "unknown"
        },
        {
         "name": " loan_status",
         "rawType": "object",
         "type": "unknown"
        }
       ],
       "ref": "52bbdee0-d57e-415e-ad15-4afda7327c1e",
       "rows": [
        [
         "count",
         "4269",
         "4269",
         "4269"
        ],
        [
         "unique",
         "2",
         "2",
         "2"
        ],
        [
         "top",
         " Graduate",
         " Yes",
         " Approved"
        ],
        [
         "freq",
         "2144",
         "2150",
         "2656"
        ]
       ],
       "shape": {
        "columns": 3,
        "rows": 4
       }
      },
      "text/html": [
       "<div>\n",
       "<style scoped>\n",
       "    .dataframe tbody tr th:only-of-type {\n",
       "        vertical-align: middle;\n",
       "    }\n",
       "\n",
       "    .dataframe tbody tr th {\n",
       "        vertical-align: top;\n",
       "    }\n",
       "\n",
       "    .dataframe thead th {\n",
       "        text-align: right;\n",
       "    }\n",
       "</style>\n",
       "<table border=\"1\" class=\"dataframe\">\n",
       "  <thead>\n",
       "    <tr style=\"text-align: right;\">\n",
       "      <th></th>\n",
       "      <th>education</th>\n",
       "      <th>self_employed</th>\n",
       "      <th>loan_status</th>\n",
       "    </tr>\n",
       "  </thead>\n",
       "  <tbody>\n",
       "    <tr>\n",
       "      <th>count</th>\n",
       "      <td>4269</td>\n",
       "      <td>4269</td>\n",
       "      <td>4269</td>\n",
       "    </tr>\n",
       "    <tr>\n",
       "      <th>unique</th>\n",
       "      <td>2</td>\n",
       "      <td>2</td>\n",
       "      <td>2</td>\n",
       "    </tr>\n",
       "    <tr>\n",
       "      <th>top</th>\n",
       "      <td>Graduate</td>\n",
       "      <td>Yes</td>\n",
       "      <td>Approved</td>\n",
       "    </tr>\n",
       "    <tr>\n",
       "      <th>freq</th>\n",
       "      <td>2144</td>\n",
       "      <td>2150</td>\n",
       "      <td>2656</td>\n",
       "    </tr>\n",
       "  </tbody>\n",
       "</table>\n",
       "</div>"
      ],
      "text/plain": [
       "        education self_employed loan_status\n",
       "count        4269          4269        4269\n",
       "unique          2             2           2\n",
       "top      Graduate           Yes    Approved\n",
       "freq         2144          2150        2656"
      ]
     },
     "execution_count": 121,
     "metadata": {},
     "output_type": "execute_result"
    }
   ],
   "source": [
    "df.describe(include=['object'])"
   ]
  },
  {
   "cell_type": "code",
   "execution_count": 122,
   "id": "6f14f9e1",
   "metadata": {},
   "outputs": [
    {
     "data": {
      "application/vnd.microsoft.datawrangler.viewer.v0+json": {
       "columns": [
        {
         "name": "index",
         "rawType": "object",
         "type": "string"
        },
        {
         "name": "0",
         "rawType": "int64",
         "type": "integer"
        }
       ],
       "ref": "efb35d58-6691-40cc-9259-aa618f3d1fe9",
       "rows": [
        [
         "loan_id",
         "0"
        ],
        [
         " no_of_dependents",
         "0"
        ],
        [
         " education",
         "0"
        ],
        [
         " self_employed",
         "0"
        ],
        [
         " income_annum",
         "0"
        ],
        [
         " loan_amount",
         "0"
        ],
        [
         " loan_term",
         "0"
        ],
        [
         " cibil_score",
         "0"
        ],
        [
         " residential_assets_value",
         "0"
        ],
        [
         " commercial_assets_value",
         "0"
        ],
        [
         " luxury_assets_value",
         "0"
        ],
        [
         " bank_asset_value",
         "0"
        ],
        [
         " loan_status",
         "0"
        ]
       ],
       "shape": {
        "columns": 1,
        "rows": 13
       }
      },
      "text/plain": [
       "loan_id                      0\n",
       " no_of_dependents            0\n",
       " education                   0\n",
       " self_employed               0\n",
       " income_annum                0\n",
       " loan_amount                 0\n",
       " loan_term                   0\n",
       " cibil_score                 0\n",
       " residential_assets_value    0\n",
       " commercial_assets_value     0\n",
       " luxury_assets_value         0\n",
       " bank_asset_value            0\n",
       " loan_status                 0\n",
       "dtype: int64"
      ]
     },
     "execution_count": 122,
     "metadata": {},
     "output_type": "execute_result"
    }
   ],
   "source": [
    "df.isnull().sum()"
   ]
  },
  {
   "cell_type": "code",
   "execution_count": 123,
   "id": "b45c994f",
   "metadata": {},
   "outputs": [
    {
     "data": {
      "text/plain": [
       "Index(['loan_id', ' no_of_dependents', ' education', ' self_employed',\n",
       "       ' income_annum', ' loan_amount', ' loan_term', ' cibil_score',\n",
       "       ' residential_assets_value', ' commercial_assets_value',\n",
       "       ' luxury_assets_value', ' bank_asset_value', ' loan_status'],\n",
       "      dtype='object')"
      ]
     },
     "execution_count": 123,
     "metadata": {},
     "output_type": "execute_result"
    }
   ],
   "source": [
    "df.columns"
   ]
  },
  {
   "cell_type": "code",
   "execution_count": 124,
   "id": "66586b48",
   "metadata": {},
   "outputs": [],
   "source": [
    "df.columns = df.columns.str.strip()"
   ]
  },
  {
   "cell_type": "code",
   "execution_count": 125,
   "id": "41e1f7e2",
   "metadata": {},
   "outputs": [
    {
     "data": {
      "text/plain": [
       "Index(['loan_id', 'no_of_dependents', 'education', 'self_employed',\n",
       "       'income_annum', 'loan_amount', 'loan_term', 'cibil_score',\n",
       "       'residential_assets_value', 'commercial_assets_value',\n",
       "       'luxury_assets_value', 'bank_asset_value', 'loan_status'],\n",
       "      dtype='object')"
      ]
     },
     "execution_count": 125,
     "metadata": {},
     "output_type": "execute_result"
    }
   ],
   "source": [
    "df.columns"
   ]
  },
  {
   "cell_type": "code",
   "execution_count": 107,
   "id": "952cc3d4",
   "metadata": {},
   "outputs": [
    {
     "data": {
      "text/plain": [
       "Text(0.5, 1.0, 'Loan Status Distribution')"
      ]
     },
     "execution_count": 107,
     "metadata": {},
     "output_type": "execute_result"
    },
    {
     "data": {
      "image/png": "[encoded data removed]",
      "text/plain": [
       "<Figure size 640x480 with 1 Axes>"
      ]
     },
     "metadata": {},
     "output_type": "display_data"
    }
   ],
   "source": [
    "df['loan_status'].value_counts(normalize=True) \n",
    "sns.countplot(data=df, x='loan_status')\n",
    "plt.title('Loan Status Distribution')\n"
   ]
  },
  {
   "cell_type": "code",
   "execution_count": 76,
   "id": "8ef3a06c",
   "metadata": {},
   "outputs": [
    {
     "data": {
      "image/png": "[encoded data removed]",
      "text/plain": [
       "<Figure size 1200x600 with 4 Axes>"
      ]
     },
     "metadata": {},
     "output_type": "display_data"
    }
   ],
   "source": [
    "num_cols = ['income_annum','cibil_score','loan_amount','loan_term']\n",
    "df[num_cols].hist(bins=30, figsize=(12,6))\n",
    "plt.tight_layout()\n"
   ]
  },
  {
   "cell_type": "code",
   "execution_count": 77,
   "id": "aca34733",
   "metadata": {},
   "outputs": [
    {
     "data": {
      "application/vnd.plotly.v1+json": {
       "config": {
        "plotlyServerURL": "https://plot.ly"
       },
       "data": [
        {
         "hovertemplate": "no_of_dependents=%{marker.color}<br>count=%{text}<extra></extra>",
         "legendgroup": "",
         "marker": {
          "color": {
           "bdata": "BAMAAgEF",
           "dtype": "i1"
          },
          "coloraxis": "coloraxis",
          "pattern": {
           "shape": ""
          }
         },
         "name": "",
         "orientation": "v",
         "showlegend": false,
         "text": {
          "bdata": "AAAAAACAh0AAAAAAALiGQAAAAAAAQIZAAAAAAAAghkAAAAAAAMiFQAAAAAAACIVA",
          "dtype": "f8"
         },
         "textposition": "outside",
         "type": "bar",
         "x": {
          "bdata": "BAMAAgEF",
          "dtype": "i1"
         },
         "xaxis": "x",
         "y": {
          "bdata": "8ALXAsgCxAK5AqEC",
          "dtype": "i2"
         },
         "yaxis": "y"
        }
       ],
       "layout": {
        "barmode": "relative",
        "coloraxis": {
         "colorbar": {
          "title": {
           "text": "no_of_dependents"
          }
         },
         "colorscale": [
          [
           0,
           "#0d0887"
          ],
          [
           0.1111111111111111,
           "#46039f"
          ],
          [
           0.2222222222222222,
           "#7201a8"
          ],
          [
           0.3333333333333333,
           "#9c179e"
          ],
          [
           0.4444444444444444,
           "#bd3786"
          ],
          [
           0.5555555555555556,
           "#d8576b"
          ],
          [
           0.6666666666666666,
           "#ed7953"
          ],
          [
           0.7777777777777778,
           "#fb9f3a"
          ],
          [
           0.8888888888888888,
           "#fdca26"
          ],
          [
           1,
           "#f0f921"
          ]
         ]
        },
        "legend": {
         "tracegroupgap": 0
        },
        "template": {
         "data": {
          "bar": [
           {
            "error_x": {
             "color": "#2a3f5f"
            },
            "error_y": {
             "color": "#2a3f5f"
            },
            "marker": {
             "line": {
              "color": "#E5ECF6",
              "width": 0.5
             },
             "pattern": {
              "fillmode": "overlay",
              "size": 10,
              "solidity": 0.2
             }
            },
            "type": "bar"
           }
          ],
          "barpolar": [
           {
            "marker": {
             "line": {
              "color": "#E5ECF6",
              "width": 0.5
             },
             "pattern": {
              "fillmode": "overlay",
              "size": 10,
              "solidity": 0.2
             }
            },
            "type": "barpolar"
           }
          ],
          "carpet": [
           {
            "aaxis": {
             "endlinecolor": "#2a3f5f",
             "gridcolor": "white",
             "linecolor": "white",
             "minorgridcolor": "white",
             "startlinecolor": "#2a3f5f"
            },
            "baxis": {
             "endlinecolor": "#2a3f5f",
             "gridcolor": "white",
             "linecolor": "white",
             "minorgridcolor": "white",
             "startlinecolor": "#2a3f5f"
            },
            "type": "carpet"
           }
          ],
          "choropleth": [
           {
            "colorbar": {
             "outlinewidth": 0,
             "ticks": ""
            },
            "type": "choropleth"
           }
          ],
          "contour": [
           {
            "colorbar": {
             "outlinewidth": 0,
             "ticks": ""
            },
            "colorscale": [
             [
              0,
              "#0d0887"
             ],
             [
              0.1111111111111111,
              "#46039f"
             ],
             [
              0.2222222222222222,
              "#7201a8"
             ],
             [
              0.3333333333333333,
              "#9c179e"
             ],
             [
              0.4444444444444444,
              "#bd3786"
             ],
             [
              0.5555555555555556,
              "#d8576b"
             ],
             [
              0.6666666666666666,
              "#ed7953"
             ],
             [
              0.7777777777777778,
              "#fb9f3a"
             ],
             [
              0.8888888888888888,
              "#fdca26"
             ],
             [
              1,
              "#f0f921"
             ]
            ],
            "type": "contour"
           }
          ],
          "contourcarpet": [
           {
            "colorbar": {
             "outlinewidth": 0,
             "ticks": ""
            },
            "type": "contourcarpet"
           }
          ],
          "heatmap": [
           {
            "colorbar": {
             "outlinewidth": 0,
             "ticks": ""
            },
            "colorscale": [
             [
              0,
              "#0d0887"
             ],
             [
              0.1111111111111111,
              "#46039f"
             ],
             [
              0.2222222222222222,
              "#7201a8"
             ],
             [
              0.3333333333333333,
              "#9c179e"
             ],
             [
              0.4444444444444444,
              "#bd3786"
             ],
             [
              0.5555555555555556,
              "#d8576b"
             ],
             [
              0.6666666666666666,
              "#ed7953"
             ],
             [
              0.7777777777777778,
              "#fb9f3a"
             ],
             [
              0.8888888888888888,
              "#fdca26"
             ],
             [
              1,
              "#f0f921"
             ]
            ],
            "type": "heatmap"
           }
          ],
          "histogram": [
           {
            "marker": {
             "pattern": {
              "fillmode": "overlay",
              "size": 10,
              "solidity": 0.2
             }
            },
            "type": "histogram"
           }
          ],
          "histogram2d": [
           {
            "colorbar": {
             "outlinewidth": 0,
             "ticks": ""
            },
            "colorscale": [
             [
              0,
              "#0d0887"
             ],
             [
              0.1111111111111111,
              "#46039f"
             ],
             [
              0.2222222222222222,
              "#7201a8"
             ],
             [
              0.3333333333333333,
              "#9c179e"
             ],
             [
              0.4444444444444444,
              "#bd3786"
             ],
             [
              0.5555555555555556,
              "#d8576b"
             ],
             [
              0.6666666666666666,
              "#ed7953"
             ],
             [
              0.7777777777777778,
              "#fb9f3a"
             ],
             [
              0.8888888888888888,
              "#fdca26"
             ],
             [
              1,
              "#f0f921"
             ]
            ],
            "type": "histogram2d"
           }
          ],
          "histogram2dcontour": [
           {
            "colorbar": {
             "outlinewidth": 0,
             "ticks": ""
            },
            "colorscale": [
             [
              0,
              "#0d0887"
             ],
             [
              0.1111111111111111,
              "#46039f"
             ],
             [
              0.2222222222222222,
              "#7201a8"
             ],
             [
              0.3333333333333333,
              "#9c179e"
             ],
             [
              0.4444444444444444,
              "#bd3786"
             ],
             [
              0.5555555555555556,
              "#d8576b"
             ],
             [
              0.6666666666666666,
              "#ed7953"
             ],
             [
              0.7777777777777778,
              "#fb9f3a"
             ],
             [
              0.8888888888888888,
              "#fdca26"
             ],
             [
              1,
              "#f0f921"
             ]
            ],
            "type": "histogram2dcontour"
           }
          ],
          "mesh3d": [
           {
            "colorbar": {
             "outlinewidth": 0,
             "ticks": ""
            },
            "type": "mesh3d"
           }
          ],
          "parcoords": [
           {
            "line": {
             "colorbar": {
              "outlinewidth": 0,
              "ticks": ""
             }
            },
            "type": "parcoords"
           }
          ],
          "pie": [
           {
            "automargin": true,
            "type": "pie"
           }
          ],
          "scatter": [
           {
            "fillpattern": {
             "fillmode": "overlay",
             "size": 10,
             "solidity": 0.2
            },
            "type": "scatter"
           }
          ],
          "scatter3d": [
           {
            "line": {
             "colorbar": {
              "outlinewidth": 0,
              "ticks": ""
             }
            },
            "marker": {
             "colorbar": {
              "outlinewidth": 0,
              "ticks": ""
             }
            },
            "type": "scatter3d"
           }
          ],
          "scattercarpet": [
           {
            "marker": {
             "colorbar": {
              "outlinewidth": 0,
              "ticks": ""
             }
            },
            "type": "scattercarpet"
           }
          ],
          "scattergeo": [
           {
            "marker": {
             "colorbar": {
              "outlinewidth": 0,
              "ticks": ""
             }
            },
            "type": "scattergeo"
           }
          ],
          "scattergl": [
           {
            "marker": {
             "colorbar": {
              "outlinewidth": 0,
              "ticks": ""
             }
            },
            "type": "scattergl"
           }
          ],
          "scattermap": [
           {
            "marker": {
             "colorbar": {
              "outlinewidth": 0,
              "ticks": ""
             }
            },
            "type": "scattermap"
           }
          ],
          "scattermapbox": [
           {
            "marker": {
             "colorbar": {
              "outlinewidth": 0,
              "ticks": ""
             }
            },
            "type": "scattermapbox"
           }
          ],
          "scatterpolar": [
           {
            "marker": {
             "colorbar": {
              "outlinewidth": 0,
              "ticks": ""
             }
            },
            "type": "scatterpolar"
           }
          ],
          "scatterpolargl": [
           {
            "marker": {
             "colorbar": {
              "outlinewidth": 0,
              "ticks": ""
             }
            },
            "type": "scatterpolargl"
           }
          ],
          "scatterternary": [
           {
            "marker": {
             "colorbar": {
              "outlinewidth": 0,
              "ticks": ""
             }
            },
            "type": "scatterternary"
           }
          ],
          "surface": [
           {
            "colorbar": {
             "outlinewidth": 0,
             "ticks": ""
            },
            "colorscale": [
             [
              0,
              "#0d0887"
             ],
             [
              0.1111111111111111,
              "#46039f"
             ],
             [
              0.2222222222222222,
              "#7201a8"
             ],
             [
              0.3333333333333333,
              "#9c179e"
             ],
             [
              0.4444444444444444,
              "#bd3786"
             ],
             [
              0.5555555555555556,
              "#d8576b"
             ],
             [
              0.6666666666666666,
              "#ed7953"
             ],
             [
              0.7777777777777778,
              "#fb9f3a"
             ],
             [
              0.8888888888888888,
              "#fdca26"
             ],
             [
              1,
              "#f0f921"
             ]
            ],
            "type": "surface"
           }
          ],
          "table": [
           {
            "cells": {
             "fill": {
              "color": "#EBF0F8"
             },
             "line": {
              "color": "white"
             }
            },
            "header": {
             "fill": {
              "color": "#C8D4E3"
             },
             "line": {
              "color": "white"
             }
            },
            "type": "table"
           }
          ]
         },
         "layout": {
          "annotationdefaults": {
           "arrowcolor": "#2a3f5f",
           "arrowhead": 0,
           "arrowwidth": 1
          },
          "autotypenumbers": "strict",
          "coloraxis": {
           "colorbar": {
            "outlinewidth": 0,
            "ticks": ""
           }
          },
          "colorscale": {
           "diverging": [
            [
             0,
             "#8e0152"
            ],
            [
             0.1,
             "#c51b7d"
            ],
            [
             0.2,
             "#de77ae"
            ],
            [
             0.3,
             "#f1b6da"
            ],
            [
             0.4,
             "#fde0ef"
            ],
            [
             0.5,
             "#f7f7f7"
            ],
            [
             0.6,
             "#e6f5d0"
            ],
            [
             0.7,
             "#b8e186"
            ],
            [
             0.8,
             "#7fbc41"
            ],
            [
             0.9,
             "#4d9221"
            ],
            [
             1,
             "#276419"
            ]
           ],
           "sequential": [
            [
             0,
             "#0d0887"
            ],
            [
             0.1111111111111111,
             "#46039f"
            ],
            [
             0.2222222222222222,
             "#7201a8"
            ],
            [
             0.3333333333333333,
             "#9c179e"
            ],
            [
             0.4444444444444444,
             "#bd3786"
            ],
            [
             0.5555555555555556,
             "#d8576b"
            ],
            [
             0.6666666666666666,
             "#ed7953"
            ],
            [
             0.7777777777777778,
             "#fb9f3a"
            ],
            [
             0.8888888888888888,
             "#fdca26"
            ],
            [
             1,
             "#f0f921"
            ]
           ],
           "sequentialminus": [
            [
             0,
             "#0d0887"
            ],
            [
             0.1111111111111111,
             "#46039f"
            ],
            [
             0.2222222222222222,
             "#7201a8"
            ],
            [
             0.3333333333333333,
             "#9c179e"
            ],
            [
             0.4444444444444444,
             "#bd3786"
            ],
            [
             0.5555555555555556,
             "#d8576b"
            ],
            [
             0.6666666666666666,
             "#ed7953"
            ],
            [
             0.7777777777777778,
             "#fb9f3a"
            ],
            [
             0.8888888888888888,
             "#fdca26"
            ],
            [
             1,
             "#f0f921"
            ]
           ]
          },
          "colorway": [
           "#636efa",
           "#EF553B",
           "#00cc96",
           "#ab63fa",
           "#FFA15A",
           "#19d3f3",
           "#FF6692",
           "#B6E880",
           "#FF97FF",
           "#FECB52"
          ],
          "font": {
           "color": "#2a3f5f"
          },
          "geo": {
           "bgcolor": "white",
           "lakecolor": "white",
           "landcolor": "#E5ECF6",
           "showlakes": true,
           "showland": true,
           "subunitcolor": "white"
          },
          "hoverlabel": {
           "align": "left"
          },
          "hovermode": "closest",
          "mapbox": {
           "style": "light"
          },
          "paper_bgcolor": "white",
          "plot_bgcolor": "#E5ECF6",
          "polar": {
           "angularaxis": {
            "gridcolor": "white",
            "linecolor": "white",
            "ticks": ""
           },
           "bgcolor": "#E5ECF6",
           "radialaxis": {
            "gridcolor": "white",
            "linecolor": "white",
            "ticks": ""
           }
          },
          "scene": {
           "xaxis": {
            "backgroundcolor": "#E5ECF6",
            "gridcolor": "white",
            "gridwidth": 2,
            "linecolor": "white",
            "showbackground": true,
            "ticks": "",
            "zerolinecolor": "white"
           },
           "yaxis": {
            "backgroundcolor": "#E5ECF6",
            "gridcolor": "white",
            "gridwidth": 2,
            "linecolor": "white",
            "showbackground": true,
            "ticks": "",
            "zerolinecolor": "white"
           },
           "zaxis": {
            "backgroundcolor": "#E5ECF6",
            "gridcolor": "white",
            "gridwidth": 2,
            "linecolor": "white",
            "showbackground": true,
            "ticks": "",
            "zerolinecolor": "white"
           }
          },
          "shapedefaults": {
           "line": {
            "color": "#2a3f5f"
           }
          },
          "ternary": {
           "aaxis": {
            "gridcolor": "white",
            "linecolor": "white",
            "ticks": ""
           },
           "baxis": {
            "gridcolor": "white",
            "linecolor": "white",
            "ticks": ""
           },
           "bgcolor": "#E5ECF6",
           "caxis": {
            "gridcolor": "white",
            "linecolor": "white",
            "ticks": ""
           }
          },
          "title": {
           "x": 0.05
          },
          "xaxis": {
           "automargin": true,
           "gridcolor": "white",
           "linecolor": "white",
           "ticks": "",
           "title": {
            "standoff": 15
           },
           "zerolinecolor": "white",
           "zerolinewidth": 2
          },
          "yaxis": {
           "automargin": true,
           "gridcolor": "white",
           "linecolor": "white",
           "ticks": "",
           "title": {
            "standoff": 15
           },
           "zerolinecolor": "white",
           "zerolinewidth": 2
          }
         }
        },
        "title": {
         "text": "Distribution of no_of_dependents"
        },
        "xaxis": {
         "anchor": "y",
         "domain": [
          0,
          1
         ],
         "title": {
          "text": "no_of_dependents"
         }
        },
        "yaxis": {
         "anchor": "x",
         "domain": [
          0,
          1
         ],
         "title": {
          "text": "count"
         }
        }
       }
      }
     },
     "metadata": {},
     "output_type": "display_data"
    },
    {
     "data": {
      "application/vnd.plotly.v1+json": {
       "config": {
        "plotlyServerURL": "https://plot.ly"
       },
       "data": [
        {
         "hovertemplate": "education=%{x}<br>count=%{text}<extra></extra>",
         "legendgroup": " Graduate",
         "marker": {
          "color": "#636efa",
          "pattern": {
           "shape": ""
          }
         },
         "name": " Graduate",
         "orientation": "v",
         "showlegend": true,
         "text": {
          "bdata": "AAAAAADAoEA=",
          "dtype": "f8"
         },
         "textposition": "outside",
         "type": "bar",
         "x": [
          " Graduate"
         ],
         "xaxis": "x",
         "y": {
          "bdata": "YAg=",
          "dtype": "i2"
         },
         "yaxis": "y"
        },
        {
         "hovertemplate": "education=%{x}<br>count=%{text}<extra></extra>",
         "legendgroup": " Not Graduate",
         "marker": {
          "color": "#EF553B",
          "pattern": {
           "shape": ""
          }
         },
         "name": " Not Graduate",
         "orientation": "v",
         "showlegend": true,
         "text": {
          "bdata": "AAAAAACaoEA=",
          "dtype": "f8"
         },
         "textposition": "outside",
         "type": "bar",
         "x": [
          " Not Graduate"
         ],
         "xaxis": "x",
         "y": {
          "bdata": "TQg=",
          "dtype": "i2"
         },
         "yaxis": "y"
        }
       ],
       "layout": {
        "barmode": "relative",
        "legend": {
         "title": {
          "text": "education"
         },
         "tracegroupgap": 0
        },
        "template": {
         "data": {
          "bar": [
           {
            "error_x": {
             "color": "#2a3f5f"
            },
            "error_y": {
             "color": "#2a3f5f"
            },
            "marker": {
             "line": {
              "color": "#E5ECF6",
              "width": 0.5
             },
             "pattern": {
              "fillmode": "overlay",
              "size": 10,
              "solidity": 0.2
             }
            },
            "type": "bar"
           }
          ],
          "barpolar": [
           {
            "marker": {
             "line": {
              "color": "#E5ECF6",
              "width": 0.5
             },
             "pattern": {
              "fillmode": "overlay",
              "size": 10,
              "solidity": 0.2
             }
            },
            "type": "barpolar"
           }
          ],
          "carpet": [
           {
            "aaxis": {
             "endlinecolor": "#2a3f5f",
             "gridcolor": "white",
             "linecolor": "white",
             "minorgridcolor": "white",
             "startlinecolor": "#2a3f5f"
            },
            "baxis": {
             "endlinecolor": "#2a3f5f",
             "gridcolor": "white",
             "linecolor": "white",
             "minorgridcolor": "white",
             "startlinecolor": "#2a3f5f"
            },
            "type": "carpet"
           }
          ],
          "choropleth": [
           {
            "colorbar": {
             "outlinewidth": 0,
             "ticks": ""
            },
            "type": "choropleth"
           }
          ],
          "contour": [
           {
            "colorbar": {
             "outlinewidth": 0,
             "ticks": ""
            },
            "colorscale": [
             [
              0,
              "#0d0887"
             ],
             [
              0.1111111111111111,
              "#46039f"
             ],
             [
              0.2222222222222222,
              "#7201a8"
             ],
             [
              0.3333333333333333,
              "#9c179e"
             ],
             [
              0.4444444444444444,
              "#bd3786"
             ],
             [
              0.5555555555555556,
              "#d8576b"
             ],
             [
              0.6666666666666666,
              "#ed7953"
             ],
             [
              0.7777777777777778,
              "#fb9f3a"
             ],
             [
              0.8888888888888888,
              "#fdca26"
             ],
             [
              1,
              "#f0f921"
             ]
            ],
            "type": "contour"
           }
          ],
          "contourcarpet": [
           {
            "colorbar": {
             "outlinewidth": 0,
             "ticks": ""
            },
            "type": "contourcarpet"
           }
          ],
          "heatmap": [
           {
            "colorbar": {
             "outlinewidth": 0,
             "ticks": ""
            },
            "colorscale": [
             [
              0,
              "#0d0887"
             ],
             [
              0.1111111111111111,
              "#46039f"
             ],
             [
              0.2222222222222222,
              "#7201a8"
             ],
             [
              0.3333333333333333,
              "#9c179e"
             ],
             [
              0.4444444444444444,
              "#bd3786"
             ],
             [
              0.5555555555555556,
              "#d8576b"
             ],
             [
              0.6666666666666666,
              "#ed7953"
             ],
             [
              0.7777777777777778,
              "#fb9f3a"
             ],
             [
              0.8888888888888888,
              "#fdca26"
             ],
             [
              1,
              "#f0f921"
             ]
            ],
            "type": "heatmap"
           }
          ],
          "histogram": [
           {
            "marker": {
             "pattern": {
              "fillmode": "overlay",
              "size": 10,
              "solidity": 0.2
             }
            },
            "type": "histogram"
           }
          ],
          "histogram2d": [
           {
            "colorbar": {
             "outlinewidth": 0,
             "ticks": ""
            },
            "colorscale": [
             [
              0,
              "#0d0887"
             ],
             [
              0.1111111111111111,
              "#46039f"
             ],
             [
              0.2222222222222222,
              "#7201a8"
             ],
             [
              0.3333333333333333,
              "#9c179e"
             ],
             [
              0.4444444444444444,
              "#bd3786"
             ],
             [
              0.5555555555555556,
              "#d8576b"
             ],
             [
              0.6666666666666666,
              "#ed7953"
             ],
             [
              0.7777777777777778,
              "#fb9f3a"
             ],
             [
              0.8888888888888888,
              "#fdca26"
             ],
             [
              1,
              "#f0f921"
             ]
            ],
            "type": "histogram2d"
           }
          ],
          "histogram2dcontour": [
           {
            "colorbar": {
             "outlinewidth": 0,
             "ticks": ""
            },
            "colorscale": [
             [
              0,
              "#0d0887"
             ],
             [
              0.1111111111111111,
              "#46039f"
             ],
             [
              0.2222222222222222,
              "#7201a8"
             ],
             [
              0.3333333333333333,
              "#9c179e"
             ],
             [
              0.4444444444444444,
              "#bd3786"
             ],
             [
              0.5555555555555556,
              "#d8576b"
             ],
             [
              0.6666666666666666,
              "#ed7953"
             ],
             [
              0.7777777777777778,
              "#fb9f3a"
             ],
             [
              0.8888888888888888,
              "#fdca26"
             ],
             [
              1,
              "#f0f921"
             ]
            ],
            "type": "histogram2dcontour"
           }
          ],
          "mesh3d": [
           {
            "colorbar": {
             "outlinewidth": 0,
             "ticks": ""
            },
            "type": "mesh3d"
           }
          ],
          "parcoords": [
           {
            "line": {
             "colorbar": {
              "outlinewidth": 0,
              "ticks": ""
             }
            },
            "type": "parcoords"
           }
          ],
          "pie": [
           {
            "automargin": true,
            "type": "pie"
           }
          ],
          "scatter": [
           {
            "fillpattern": {
             "fillmode": "overlay",
             "size": 10,
             "solidity": 0.2
            },
            "type": "scatter"
           }
          ],
          "scatter3d": [
           {
            "line": {
             "colorbar": {
              "outlinewidth": 0,
              "ticks": ""
             }
            },
            "marker": {
             "colorbar": {
              "outlinewidth": 0,
              "ticks": ""
             }
            },
            "type": "scatter3d"
           }
          ],
          "scattercarpet": [
           {
            "marker": {
             "colorbar": {
              "outlinewidth": 0,
              "ticks": ""
             }
            },
            "type": "scattercarpet"
           }
          ],
          "scattergeo": [
           {
            "marker": {
             "colorbar": {
              "outlinewidth": 0,
              "ticks": ""
             }
            },
            "type": "scattergeo"
           }
          ],
          "scattergl": [
           {
            "marker": {
             "colorbar": {
              "outlinewidth": 0,
              "ticks": ""
             }
            },
            "type": "scattergl"
           }
          ],
          "scattermap": [
           {
            "marker": {
             "colorbar": {
              "outlinewidth": 0,
              "ticks": ""
             }
            },
            "type": "scattermap"
           }
          ],
          "scattermapbox": [
           {
            "marker": {
             "colorbar": {
              "outlinewidth": 0,
              "ticks": ""
             }
            },
            "type": "scattermapbox"
           }
          ],
          "scatterpolar": [
           {
            "marker": {
             "colorbar": {
              "outlinewidth": 0,
              "ticks": ""
             }
            },
            "type": "scatterpolar"
           }
          ],
          "scatterpolargl": [
           {
            "marker": {
             "colorbar": {
              "outlinewidth": 0,
              "ticks": ""
             }
            },
            "type": "scatterpolargl"
           }
          ],
          "scatterternary": [
           {
            "marker": {
             "colorbar": {
              "outlinewidth": 0,
              "ticks": ""
             }
            },
            "type": "scatterternary"
           }
          ],
          "surface": [
           {
            "colorbar": {
             "outlinewidth": 0,
             "ticks": ""
            },
            "colorscale": [
             [
              0,
              "#0d0887"
             ],
             [
              0.1111111111111111,
              "#46039f"
             ],
             [
              0.2222222222222222,
              "#7201a8"
             ],
             [
              0.3333333333333333,
              "#9c179e"
             ],
             [
              0.4444444444444444,
              "#bd3786"
             ],
             [
              0.5555555555555556,
              "#d8576b"
             ],
             [
              0.6666666666666666,
              "#ed7953"
             ],
             [
              0.7777777777777778,
              "#fb9f3a"
             ],
             [
              0.8888888888888888,
              "#fdca26"
             ],
             [
              1,
              "#f0f921"
             ]
            ],
            "type": "surface"
           }
          ],
          "table": [
           {
            "cells": {
             "fill": {
              "color": "#EBF0F8"
             },
             "line": {
              "color": "white"
             }
            },
            "header": {
             "fill": {
              "color": "#C8D4E3"
             },
             "line": {
              "color": "white"
             }
            },
            "type": "table"
           }
          ]
         },
         "layout": {
          "annotationdefaults": {
           "arrowcolor": "#2a3f5f",
           "arrowhead": 0,
           "arrowwidth": 1
          },
          "autotypenumbers": "strict",
          "coloraxis": {
           "colorbar": {
            "outlinewidth": 0,
            "ticks": ""
           }
          },
          "colorscale": {
           "diverging": [
            [
             0,
             "#8e0152"
            ],
            [
             0.1,
             "#c51b7d"
            ],
            [
             0.2,
             "#de77ae"
            ],
            [
             0.3,
             "#f1b6da"
            ],
            [
             0.4,
             "#fde0ef"
            ],
            [
             0.5,
             "#f7f7f7"
            ],
            [
             0.6,
             "#e6f5d0"
            ],
            [
             0.7,
             "#b8e186"
            ],
            [
             0.8,
             "#7fbc41"
            ],
            [
             0.9,
             "#4d9221"
            ],
            [
             1,
             "#276419"
            ]
           ],
           "sequential": [
            [
             0,
             "#0d0887"
            ],
            [
             0.1111111111111111,
             "#46039f"
            ],
            [
             0.2222222222222222,
             "#7201a8"
            ],
            [
             0.3333333333333333,
             "#9c179e"
            ],
            [
             0.4444444444444444,
             "#bd3786"
            ],
            [
             0.5555555555555556,
             "#d8576b"
            ],
            [
             0.6666666666666666,
             "#ed7953"
            ],
            [
             0.7777777777777778,
             "#fb9f3a"
            ],
            [
             0.8888888888888888,
             "#fdca26"
            ],
            [
             1,
             "#f0f921"
            ]
           ],
           "sequentialminus": [
            [
             0,
             "#0d0887"
            ],
            [
             0.1111111111111111,
             "#46039f"
            ],
            [
             0.2222222222222222,
             "#7201a8"
            ],
            [
             0.3333333333333333,
             "#9c179e"
            ],
            [
             0.4444444444444444,
             "#bd3786"
            ],
            [
             0.5555555555555556,
             "#d8576b"
            ],
            [
             0.6666666666666666,
             "#ed7953"
            ],
            [
             0.7777777777777778,
             "#fb9f3a"
            ],
            [
             0.8888888888888888,
             "#fdca26"
            ],
            [
             1,
             "#f0f921"
            ]
           ]
          },
          "colorway": [
           "#636efa",
           "#EF553B",
           "#00cc96",
           "#ab63fa",
           "#FFA15A",
           "#19d3f3",
           "#FF6692",
           "#B6E880",
           "#FF97FF",
           "#FECB52"
          ],
          "font": {
           "color": "#2a3f5f"
          },
          "geo": {
           "bgcolor": "white",
           "lakecolor": "white",
           "landcolor": "#E5ECF6",
           "showlakes": true,
           "showland": true,
           "subunitcolor": "white"
          },
          "hoverlabel": {
           "align": "left"
          },
          "hovermode": "closest",
          "mapbox": {
           "style": "light"
          },
          "paper_bgcolor": "white",
          "plot_bgcolor": "#E5ECF6",
          "polar": {
           "angularaxis": {
            "gridcolor": "white",
            "linecolor": "white",
            "ticks": ""
           },
           "bgcolor": "#E5ECF6",
           "radialaxis": {
            "gridcolor": "white",
            "linecolor": "white",
            "ticks": ""
           }
          },
          "scene": {
           "xaxis": {
            "backgroundcolor": "#E5ECF6",
            "gridcolor": "white",
            "gridwidth": 2,
            "linecolor": "white",
            "showbackground": true,
            "ticks": "",
            "zerolinecolor": "white"
           },
           "yaxis": {
            "backgroundcolor": "#E5ECF6",
            "gridcolor": "white",
            "gridwidth": 2,
            "linecolor": "white",
            "showbackground": true,
            "ticks": "",
            "zerolinecolor": "white"
           },
           "zaxis": {
            "backgroundcolor": "#E5ECF6",
            "gridcolor": "white",
            "gridwidth": 2,
            "linecolor": "white",
            "showbackground": true,
            "ticks": "",
            "zerolinecolor": "white"
           }
          },
          "shapedefaults": {
           "line": {
            "color": "#2a3f5f"
           }
          },
          "ternary": {
           "aaxis": {
            "gridcolor": "white",
            "linecolor": "white",
            "ticks": ""
           },
           "baxis": {
            "gridcolor": "white",
            "linecolor": "white",
            "ticks": ""
           },
           "bgcolor": "#E5ECF6",
           "caxis": {
            "gridcolor": "white",
            "linecolor": "white",
            "ticks": ""
           }
          },
          "title": {
           "x": 0.05
          },
          "xaxis": {
           "automargin": true,
           "gridcolor": "white",
           "linecolor": "white",
           "ticks": "",
           "title": {
            "standoff": 15
           },
           "zerolinecolor": "white",
           "zerolinewidth": 2
          },
          "yaxis": {
           "automargin": true,
           "gridcolor": "white",
           "linecolor": "white",
           "ticks": "",
           "title": {
            "standoff": 15
           },
           "zerolinecolor": "white",
           "zerolinewidth": 2
          }
         }
        },
        "title": {
         "text": "Distribution of education"
        },
        "xaxis": {
         "anchor": "y",
         "categoryarray": [
          " Graduate",
          " Not Graduate"
         ],
         "categoryorder": "array",
         "domain": [
          0,
          1
         ],
         "title": {
          "text": "education"
         }
        },
        "yaxis": {
         "anchor": "x",
         "domain": [
          0,
          1
         ],
         "title": {
          "text": "count"
         }
        }
       }
      }
     },
     "metadata": {},
     "output_type": "display_data"
    },
    {
     "data": {
      "application/vnd.plotly.v1+json": {
       "config": {
        "plotlyServerURL": "https://plot.ly"
       },
       "data": [
        {
         "hovertemplate": "self_employed=%{x}<br>count=%{text}<extra></extra>",
         "legendgroup": " Yes",
         "marker": {
          "color": "#636efa",
          "pattern": {
           "shape": ""
          }
         },
         "name": " Yes",
         "orientation": "v",
         "showlegend": true,
         "text": {
          "bdata": "AAAAAADMoEA=",
          "dtype": "f8"
         },
         "textposition": "outside",
         "type": "bar",
         "x": [
          " Yes"
         ],
         "xaxis": "x",
         "y": {
          "bdata": "Zgg=",
          "dtype": "i2"
         },
         "yaxis": "y"
        },
        {
         "hovertemplate": "self_employed=%{x}<br>count=%{text}<extra></extra>",
         "legendgroup": " No",
         "marker": {
          "color": "#EF553B",
          "pattern": {
           "shape": ""
          }
         },
         "name": " No",
         "orientation": "v",
         "showlegend": true,
         "text": {
          "bdata": "AAAAAACOoEA=",
          "dtype": "f8"
         },
         "textposition": "outside",
         "type": "bar",
         "x": [
          " No"
         ],
         "xaxis": "x",
         "y": {
          "bdata": "Rwg=",
          "dtype": "i2"
         },
         "yaxis": "y"
        }
       ],
       "layout": {
        "barmode": "relative",
        "legend": {
         "title": {
          "text": "self_employed"
         },
         "tracegroupgap": 0
        },
        "template": {
         "data": {
          "bar": [
           {
            "error_x": {
             "color": "#2a3f5f"
            },
            "error_y": {
             "color": "#2a3f5f"
            },
            "marker": {
             "line": {
              "color": "#E5ECF6",
              "width": 0.5
             },
             "pattern": {
              "fillmode": "overlay",
              "size": 10,
              "solidity": 0.2
             }
            },
            "type": "bar"
           }
          ],
          "barpolar": [
           {
            "marker": {
             "line": {
              "color": "#E5ECF6",
              "width": 0.5
             },
             "pattern": {
              "fillmode": "overlay",
              "size": 10,
              "solidity": 0.2
             }
            },
            "type": "barpolar"
           }
          ],
          "carpet": [
           {
            "aaxis": {
             "endlinecolor": "#2a3f5f",
             "gridcolor": "white",
             "linecolor": "white",
             "minorgridcolor": "white",
             "startlinecolor": "#2a3f5f"
            },
            "baxis": {
             "endlinecolor": "#2a3f5f",
             "gridcolor": "white",
             "linecolor": "white",
             "minorgridcolor": "white",
             "startlinecolor": "#2a3f5f"
            },
            "type": "carpet"
           }
          ],
          "choropleth": [
           {
            "colorbar": {
             "outlinewidth": 0,
             "ticks": ""
            },
            "type": "choropleth"
           }
          ],
          "contour": [
           {
            "colorbar": {
             "outlinewidth": 0,
             "ticks": ""
            },
            "colorscale": [
             [
              0,
              "#0d0887"
             ],
             [
              0.1111111111111111,
              "#46039f"
             ],
             [
              0.2222222222222222,
              "#7201a8"
             ],
             [
              0.3333333333333333,
              "#9c179e"
             ],
             [
              0.4444444444444444,
              "#bd3786"
             ],
             [
              0.5555555555555556,
              "#d8576b"
             ],
             [
              0.6666666666666666,
              "#ed7953"
             ],
             [
              0.7777777777777778,
              "#fb9f3a"
             ],
             [
              0.8888888888888888,
              "#fdca26"
             ],
             [
              1,
              "#f0f921"
             ]
            ],
            "type": "contour"
           }
          ],
          "contourcarpet": [
           {
            "colorbar": {
             "outlinewidth": 0,
             "ticks": ""
            },
            "type": "contourcarpet"
           }
          ],
          "heatmap": [
           {
            "colorbar": {
             "outlinewidth": 0,
             "ticks": ""
            },
            "colorscale": [
             [
              0,
              "#0d0887"
             ],
             [
              0.1111111111111111,
              "#46039f"
             ],
             [
              0.2222222222222222,
              "#7201a8"
             ],
             [
              0.3333333333333333,
              "#9c179e"
             ],
             [
              0.4444444444444444,
              "#bd3786"
             ],
             [
              0.5555555555555556,
              "#d8576b"
             ],
             [
              0.6666666666666666,
              "#ed7953"
             ],
             [
              0.7777777777777778,
              "#fb9f3a"
             ],
             [
              0.8888888888888888,
              "#fdca26"
             ],
             [
              1,
              "#f0f921"
             ]
            ],
            "type": "heatmap"
           }
          ],
          "histogram": [
           {
            "marker": {
             "pattern": {
              "fillmode": "overlay",
              "size": 10,
              "solidity": 0.2
             }
            },
            "type": "histogram"
           }
          ],
          "histogram2d": [
           {
            "colorbar": {
             "outlinewidth": 0,
             "ticks": ""
            },
            "colorscale": [
             [
              0,
              "#0d0887"
             ],
             [
              0.1111111111111111,
              "#46039f"
             ],
             [
              0.2222222222222222,
              "#7201a8"
             ],
             [
              0.3333333333333333,
              "#9c179e"
             ],
             [
              0.4444444444444444,
              "#bd3786"
             ],
             [
              0.5555555555555556,
              "#d8576b"
             ],
             [
              0.6666666666666666,
              "#ed7953"
             ],
             [
              0.7777777777777778,
              "#fb9f3a"
             ],
             [
              0.8888888888888888,
              "#fdca26"
             ],
             [
              1,
              "#f0f921"
             ]
            ],
            "type": "histogram2d"
           }
          ],
          "histogram2dcontour": [
           {
            "colorbar": {
             "outlinewidth": 0,
             "ticks": ""
            },
            "colorscale": [
             [
              0,
              "#0d0887"
             ],
             [
              0.1111111111111111,
              "#46039f"
             ],
             [
              0.2222222222222222,
              "#7201a8"
             ],
             [
              0.3333333333333333,
              "#9c179e"
             ],
             [
              0.4444444444444444,
              "#bd3786"
             ],
             [
              0.5555555555555556,
              "#d8576b"
             ],
             [
              0.6666666666666666,
              "#ed7953"
             ],
             [
              0.7777777777777778,
              "#fb9f3a"
             ],
             [
              0.8888888888888888,
              "#fdca26"
             ],
             [
              1,
              "#f0f921"
             ]
            ],
            "type": "histogram2dcontour"
           }
          ],
          "mesh3d": [
           {
            "colorbar": {
             "outlinewidth": 0,
             "ticks": ""
            },
            "type": "mesh3d"
           }
          ],
          "parcoords": [
           {
            "line": {
             "colorbar": {
              "outlinewidth": 0,
              "ticks": ""
             }
            },
            "type": "parcoords"
           }
          ],
          "pie": [
           {
            "automargin": true,
            "type": "pie"
           }
          ],
          "scatter": [
           {
            "fillpattern": {
             "fillmode": "overlay",
             "size": 10,
             "solidity": 0.2
            },
            "type": "scatter"
           }
          ],
          "scatter3d": [
           {
            "line": {
             "colorbar": {
              "outlinewidth": 0,
              "ticks": ""
             }
            },
            "marker": {
             "colorbar": {
              "outlinewidth": 0,
              "ticks": ""
             }
            },
            "type": "scatter3d"
           }
          ],
          "scattercarpet": [
           {
            "marker": {
             "colorbar": {
              "outlinewidth": 0,
              "ticks": ""
             }
            },
            "type": "scattercarpet"
           }
          ],
          "scattergeo": [
           {
            "marker": {
             "colorbar": {
              "outlinewidth": 0,
              "ticks": ""
             }
            },
            "type": "scattergeo"
           }
          ],
          "scattergl": [
           {
            "marker": {
             "colorbar": {
              "outlinewidth": 0,
              "ticks": ""
             }
            },
            "type": "scattergl"
           }
          ],
          "scattermap": [
           {
            "marker": {
             "colorbar": {
              "outlinewidth": 0,
              "ticks": ""
             }
            },
            "type": "scattermap"
           }
          ],
          "scattermapbox": [
           {
            "marker": {
             "colorbar": {
              "outlinewidth": 0,
              "ticks": ""
             }
            },
            "type": "scattermapbox"
           }
          ],
          "scatterpolar": [
           {
            "marker": {
             "colorbar": {
              "outlinewidth": 0,
              "ticks": ""
             }
            },
            "type": "scatterpolar"
           }
          ],
          "scatterpolargl": [
           {
            "marker": {
             "colorbar": {
              "outlinewidth": 0,
              "ticks": ""
             }
            },
            "type": "scatterpolargl"
           }
          ],
          "scatterternary": [
           {
            "marker": {
             "colorbar": {
              "outlinewidth": 0,
              "ticks": ""
             }
            },
            "type": "scatterternary"
           }
          ],
          "surface": [
           {
            "colorbar": {
             "outlinewidth": 0,
             "ticks": ""
            },
            "colorscale": [
             [
              0,
              "#0d0887"
             ],
             [
              0.1111111111111111,
              "#46039f"
             ],
             [
              0.2222222222222222,
              "#7201a8"
             ],
             [
              0.3333333333333333,
              "#9c179e"
             ],
             [
              0.4444444444444444,
              "#bd3786"
             ],
             [
              0.5555555555555556,
              "#d8576b"
             ],
             [
              0.6666666666666666,
              "#ed7953"
             ],
             [
              0.7777777777777778,
              "#fb9f3a"
             ],
             [
              0.8888888888888888,
              "#fdca26"
             ],
             [
              1,
              "#f0f921"
             ]
            ],
            "type": "surface"
           }
          ],
          "table": [
           {
            "cells": {
             "fill": {
              "color": "#EBF0F8"
             },
             "line": {
              "color": "white"
             }
            },
            "header": {
             "fill": {
              "color": "#C8D4E3"
             },
             "line": {
              "color": "white"
             }
            },
            "type": "table"
           }
          ]
         },
         "layout": {
          "annotationdefaults": {
           "arrowcolor": "#2a3f5f",
           "arrowhead": 0,
           "arrowwidth": 1
          },
          "autotypenumbers": "strict",
          "coloraxis": {
           "colorbar": {
            "outlinewidth": 0,
            "ticks": ""
           }
          },
          "colorscale": {
           "diverging": [
            [
             0,
             "#8e0152"
            ],
            [
             0.1,
             "#c51b7d"
            ],
            [
             0.2,
             "#de77ae"
            ],
            [
             0.3,
             "#f1b6da"
            ],
            [
             0.4,
             "#fde0ef"
            ],
            [
             0.5,
             "#f7f7f7"
            ],
            [
             0.6,
             "#e6f5d0"
            ],
            [
             0.7,
             "#b8e186"
            ],
            [
             0.8,
             "#7fbc41"
            ],
            [
             0.9,
             "#4d9221"
            ],
            [
             1,
             "#276419"
            ]
           ],
           "sequential": [
            [
             0,
             "#0d0887"
            ],
            [
             0.1111111111111111,
             "#46039f"
            ],
            [
             0.2222222222222222,
             "#7201a8"
            ],
            [
             0.3333333333333333,
             "#9c179e"
            ],
            [
             0.4444444444444444,
             "#bd3786"
            ],
            [
             0.5555555555555556,
             "#d8576b"
            ],
            [
             0.6666666666666666,
             "#ed7953"
            ],
            [
             0.7777777777777778,
             "#fb9f3a"
            ],
            [
             0.8888888888888888,
             "#fdca26"
            ],
            [
             1,
             "#f0f921"
            ]
           ],
           "sequentialminus": [
            [
             0,
             "#0d0887"
            ],
            [
             0.1111111111111111,
             "#46039f"
            ],
            [
             0.2222222222222222,
             "#7201a8"
            ],
            [
             0.3333333333333333,
             "#9c179e"
            ],
            [
             0.4444444444444444,
             "#bd3786"
            ],
            [
             0.5555555555555556,
             "#d8576b"
            ],
            [
             0.6666666666666666,
             "#ed7953"
            ],
            [
             0.7777777777777778,
             "#fb9f3a"
            ],
            [
             0.8888888888888888,
             "#fdca26"
            ],
            [
             1,
             "#f0f921"
            ]
           ]
          },
          "colorway": [
           "#636efa",
           "#EF553B",
           "#00cc96",
           "#ab63fa",
           "#FFA15A",
           "#19d3f3",
           "#FF6692",
           "#B6E880",
           "#FF97FF",
           "#FECB52"
          ],
          "font": {
           "color": "#2a3f5f"
          },
          "geo": {
           "bgcolor": "white",
           "lakecolor": "white",
           "landcolor": "#E5ECF6",
           "showlakes": true,
           "showland": true,
           "subunitcolor": "white"
          },
          "hoverlabel": {
           "align": "left"
          },
          "hovermode": "closest",
          "mapbox": {
           "style": "light"
          },
          "paper_bgcolor": "white",
          "plot_bgcolor": "#E5ECF6",
          "polar": {
           "angularaxis": {
            "gridcolor": "white",
            "linecolor": "white",
            "ticks": ""
           },
           "bgcolor": "#E5ECF6",
           "radialaxis": {
            "gridcolor": "white",
            "linecolor": "white",
            "ticks": ""
           }
          },
          "scene": {
           "xaxis": {
            "backgroundcolor": "#E5ECF6",
            "gridcolor": "white",
            "gridwidth": 2,
            "linecolor": "white",
            "showbackground": true,
            "ticks": "",
            "zerolinecolor": "white"
           },
           "yaxis": {
            "backgroundcolor": "#E5ECF6",
            "gridcolor": "white",
            "gridwidth": 2,
            "linecolor": "white",
            "showbackground": true,
            "ticks": "",
            "zerolinecolor": "white"
           },
           "zaxis": {
            "backgroundcolor": "#E5ECF6",
            "gridcolor": "white",
            "gridwidth": 2,
            "linecolor": "white",
            "showbackground": true,
            "ticks": "",
            "zerolinecolor": "white"
           }
          },
          "shapedefaults": {
           "line": {
            "color": "#2a3f5f"
           }
          },
          "ternary": {
           "aaxis": {
            "gridcolor": "white",
            "linecolor": "white",
            "ticks": ""
           },
           "baxis": {
            "gridcolor": "white",
            "linecolor": "white",
            "ticks": ""
           },
           "bgcolor": "#E5ECF6",
           "caxis": {
            "gridcolor": "white",
            "linecolor": "white",
            "ticks": ""
           }
          },
          "title": {
           "x": 0.05
          },
          "xaxis": {
           "automargin": true,
           "gridcolor": "white",
           "linecolor": "white",
           "ticks": "",
           "title": {
            "standoff": 15
           },
           "zerolinecolor": "white",
           "zerolinewidth": 2
          },
          "yaxis": {
           "automargin": true,
           "gridcolor": "white",
           "linecolor": "white",
           "ticks": "",
           "title": {
            "standoff": 15
           },
           "zerolinecolor": "white",
           "zerolinewidth": 2
          }
         }
        },
        "title": {
         "text": "Distribution of self_employed"
        },
        "xaxis": {
         "anchor": "y",
         "categoryarray": [
          " Yes",
          " No"
         ],
         "categoryorder": "array",
         "domain": [
          0,
          1
         ],
         "title": {
          "text": "self_employed"
         }
        },
        "yaxis": {
         "anchor": "x",
         "domain": [
          0,
          1
         ],
         "title": {
          "text": "count"
         }
        }
       }
      }
     },
     "metadata": {},
     "output_type": "display_data"
    },
    {
     "data": {
      "application/vnd.plotly.v1+json": {
       "config": {
        "plotlyServerURL": "https://plot.ly"
       },
       "data": [
        {
         "hovertemplate": "residential_assets_value=%{marker.color}<br>count=%{text}<extra></extra>",
         "legendgroup": "",
         "marker": {
          "color": {
           "bdata": "gBoGACChBwCghgEAQEIPAMAnCQAg1hMAYK4KAOCTBAAA1DAAQA0DAKC7DQAANQwAAAAAAMBcFQDAkSEAgE8SAABqGADg/RwAgO42AKDwGQAAnyQAYOMWAODIEABgt0cAwPs5AICEHgBgGCMAQOEzACBALACgJSYAQBZAAOBnNQCAuSoAQHcbACALIACgjz4AwMYtAKBaMgBggjsAIHU4AODRTQDgMikAoMRKAECAWAAg31AAgMJnAECsJwDgBloAgCNDAAAJPQBgTS8AYHn+/wCoYQBgIWAA4JxBACAUXQDABHcA4DtmAAA+SQAAR4YAIKpEAEBLTADAMEYA4A+XAICNWwDAZVIAYOxTAECJlQCAWE8AYIt4AEAffQBA6nAAgMukAKAuYwDAml4AYPWQAEC+oQDAz2oAgJaYACB+dQBAtWQAwA20AGBWbACAYYwAoM2HAKA3oACgobgAAHNVAOClfgCg+VYAAOaqAMDYpwBgycEAQF3GAMBCwACgY28AYCqdACBJaQCgmHsAYMCEACDF+wDAd8wAwKObACDojQAgUqYAQPOtAMBujwDg2ooAgCyAAIA1vQAAEnoAIPHKAOAY1AAgh7IAoAKUAED86gAgs4EAgPdzAKBsrACg1sQAYF+pAEBUiQBAx94AAIXPAOB5rwBAktIAAHySAKAL0QDAOYMAwKzYAIDdHgEAsZ4A4E3gAOBwcgDg48cAAFDDAGCUtQBgM9oAoKr1AODsBAGgdekAICbXAIASKwEA3W0AgHMGAYAAsQBgEEgBACT0ACCQ7wAAutsAgLFPAWBo5gAAWQABABu3AKDfAQHgrrsAgAnuACAdmgBg/s0AoBQOAQCODAFgnfIAAO/nAOCC7ADgVh0BwIAJAYDmWwHA4eQAwEv9AKBA3QCgSRoBwBbxAMBUOgEgbV0BILy+AOC3+ADA814BYDwXAQDDGAHgRKMAwLUVAYA++gBAKLoAwOohAaCHYwGAaskAQNAbAWDS/gDAKGsBAMxVAWCmLwGAn9UAIANFASD6BwGgfiYBAPgkAWAZhQFAQ3EBAGI9AWBFVAFAOjQBgNThACCiaQFABSgBIDhRAeAhEQHgKk4BIC8UAQAtMQEgW+MAwIlGAWBxIwEgzjgBwL5SAcBddwEgmSwBADZuAaDoPgGgvG8BQDH3AMCSgwGARzcBQA5lAaAdSwGAfEMBoFJXAeDJcgFAZgMB4F9aAYCoEgFAb0ABQK2JASAMggFA2VgBYNs7AcDHjwGAUHQBQJsPASDXdQHAHy4BAGt6AQABYgFApEwB4JRmAeD+fgFgBwsBIOCyAWBOkQEAl0kB4DOLAQCghgHg9UEBYK9sAeCLKQHA/JsBoPF7AYAkpQFATK4BgIWAAWDkeAEgQY4BYHpgAUAXogFAeH0BIGQgAeCdowHgB7wBYO21ASB2mgEAP6sBQOKVAaCzMgGAWbEBoCaIAeDANQHg0q8BgO+YAaCQoAE=",
           "dtype": "i4"
          },
          "coloraxis": "coloraxis",
          "pattern": {
           "shape": ""
          }
         },
         "name": "",
         "orientation": "v",
         "showlegend": false,
         "text": {
          "bdata": "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",
          "dtype": "f8"
         },
         "textposition": "outside",
         "type": "bar",
         "x": {
          "bdata": "gBoGACChBwCghgEAQEIPAMAnCQAg1hMAYK4KAOCTBAAA1DAAQA0DAKC7DQAANQwAAAAAAMBcFQDAkSEAgE8SAABqGADg/RwAgO42AKDwGQAAnyQAYOMWAODIEABgt0cAwPs5AICEHgBgGCMAQOEzACBALACgJSYAQBZAAOBnNQCAuSoAQHcbACALIACgjz4AwMYtAKBaMgBggjsAIHU4AODRTQDgMikAoMRKAECAWAAg31AAgMJnAECsJwDgBloAgCNDAAAJPQBgTS8AYHn+/wCoYQBgIWAA4JxBACAUXQDABHcA4DtmAAA+SQAAR4YAIKpEAEBLTADAMEYA4A+XAICNWwDAZVIAYOxTAECJlQCAWE8AYIt4AEAffQBA6nAAgMukAKAuYwDAml4AYPWQAEC+oQDAz2oAgJaYACB+dQBAtWQAwA20AGBWbACAYYwAoM2HAKA3oACgobgAAHNVAOClfgCg+VYAAOaqAMDYpwBgycEAQF3GAMBCwACgY28AYCqdACBJaQCgmHsAYMCEACDF+wDAd8wAwKObACDojQAgUqYAQPOtAMBujwDg2ooAgCyAAIA1vQAAEnoAIPHKAOAY1AAgh7IAoAKUAED86gAgs4EAgPdzAKBsrACg1sQAYF+pAEBUiQBAx94AAIXPAOB5rwBAktIAAHySAKAL0QDAOYMAwKzYAIDdHgEAsZ4A4E3gAOBwcgDg48cAAFDDAGCUtQBgM9oAoKr1AODsBAGgdekAICbXAIASKwEA3W0AgHMGAYAAsQBgEEgBACT0ACCQ7wAAutsAgLFPAWBo5gAAWQABABu3AKDfAQHgrrsAgAnuACAdmgBg/s0AoBQOAQCODAFgnfIAAO/nAOCC7ADgVh0BwIAJAYDmWwHA4eQAwEv9AKBA3QCgSRoBwBbxAMBUOgEgbV0BILy+AOC3+ADA814BYDwXAQDDGAHgRKMAwLUVAYA++gBAKLoAwOohAaCHYwGAaskAQNAbAWDS/gDAKGsBAMxVAWCmLwGAn9UAIANFASD6BwGgfiYBAPgkAWAZhQFAQ3EBAGI9AWBFVAFAOjQBgNThACCiaQFABSgBIDhRAeAhEQHgKk4BIC8UAQAtMQEgW+MAwIlGAWBxIwEgzjgBwL5SAcBddwEgmSwBADZuAaDoPgGgvG8BQDH3AMCSgwGARzcBQA5lAaAdSwGAfEMBoFJXAeDJcgFAZgMB4F9aAYCoEgFAb0ABQK2JASAMggFA2VgBYNs7AcDHjwGAUHQBQJsPASDXdQHAHy4BAGt6AQABYgFApEwB4JRmAeD+fgFgBwsBIOCyAWBOkQEAl0kB4DOLAQCghgHg9UEBYK9sAeCLKQHA/JsBoPF7AYAkpQFATK4BgIWAAWDkeAEgQY4BYHpgAUAXogFAeH0BIGQgAeCdowHgB7wBYO21ASB2mgEAP6sBQOKVAaCzMgGAWbEBoCaIAeDANQHg0q8BgO+YAaCQoAE=",
          "dtype": "i4"
         },
         "xaxis": "x",
         "y": {
          "bdata": "Qj88OTg3NDQyMjAtLSsrKiopKSgoKCYmJSQjIiEgICAgHx8fHx8eHh4eHR0dHR0cHBwcHBwbGxsbGxoaGhkZGRkZGBcXFxcXFhYVFRUUFBQUFBMTExMTEhIREREREBAQEBAQDw8PDw8PDw8PDw4ODg4ODg4ODg4ODg4NDQ0NDQ0NDAwMDAwMCwsLCwsLCwsKCgoKCgoKCgoKCQkJCQkJCQkJCQkJCAgICAgICAgICAcHBwcHBwcHBwcHBgYGBgYGBgYGBgYGBgYGBgUFBQUFBQUFBAQEBAQEBAQEBAQEBAQEBAMDAwMDAwMDAwMDAwMDAwMDAgICAgICAgICAgICAgICAgICAQEBAQEBAQEBAQEBAQEBAQE=",
          "dtype": "i1"
         },
         "yaxis": "y"
        }
       ],
       "layout": {
        "barmode": "relative",
        "coloraxis": {
         "colorbar": {
          "title": {
           "text": "residential_assets_value"
          }
         },
         "colorscale": [
          [
           0,
           "#0d0887"
          ],
          [
           0.1111111111111111,
           "#46039f"
          ],
          [
           0.2222222222222222,
           "#7201a8"
          ],
          [
           0.3333333333333333,
           "#9c179e"
          ],
          [
           0.4444444444444444,
           "#bd3786"
          ],
          [
           0.5555555555555556,
           "#d8576b"
          ],
          [
           0.6666666666666666,
           "#ed7953"
          ],
          [
           0.7777777777777778,
           "#fb9f3a"
          ],
          [
           0.8888888888888888,
           "#fdca26"
          ],
          [
           1,
           "#f0f921"
          ]
         ]
        },
        "legend": {
         "tracegroupgap": 0
        },
        "template": {
         "data": {
          "bar": [
           {
            "error_x": {
             "color": "#2a3f5f"
            },
            "error_y": {
             "color": "#2a3f5f"
            },
            "marker": {
             "line": {
              "color": "#E5ECF6",
              "width": 0.5
             },
             "pattern": {
              "fillmode": "overlay",
              "size": 10,
              "solidity": 0.2
             }
            },
            "type": "bar"
           }
          ],
          "barpolar": [
           {
            "marker": {
             "line": {
              "color": "#E5ECF6",
              "width": 0.5
             },
             "pattern": {
              "fillmode": "overlay",
              "size": 10,
              "solidity": 0.2
             }
            },
            "type": "barpolar"
           }
          ],
          "carpet": [
           {
            "aaxis": {
             "endlinecolor": "#2a3f5f",
             "gridcolor": "white",
             "linecolor": "white",
             "minorgridcolor": "white",
             "startlinecolor": "#2a3f5f"
            },
            "baxis": {
             "endlinecolor": "#2a3f5f",
             "gridcolor": "white",
             "linecolor": "white",
             "minorgridcolor": "white",
             "startlinecolor": "#2a3f5f"
            },
            "type": "carpet"
           }
          ],
          "choropleth": [
           {
            "colorbar": {
             "outlinewidth": 0,
             "ticks": ""
            },
            "type": "choropleth"
           }
          ],
          "contour": [
           {
            "colorbar": {
             "outlinewidth": 0,
             "ticks": ""
            },
            "colorscale": [
             [
              0,
              "#0d0887"
             ],
             [
              0.1111111111111111,
              "#46039f"
             ],
             [
              0.2222222222222222,
              "#7201a8"
             ],
             [
              0.3333333333333333,
              "#9c179e"
             ],
             [
              0.4444444444444444,
              "#bd3786"
             ],
             [
              0.5555555555555556,
              "#d8576b"
             ],
             [
              0.6666666666666666,
              "#ed7953"
             ],
             [
              0.7777777777777778,
              "#fb9f3a"
             ],
             [
              0.8888888888888888,
              "#fdca26"
             ],
             [
              1,
              "#f0f921"
             ]
            ],
            "type": "contour"
           }
          ],
          "contourcarpet": [
           {
            "colorbar": {
             "outlinewidth": 0,
             "ticks": ""
            },
            "type": "contourcarpet"
           }
          ],
          "heatmap": [
           {
            "colorbar": {
             "outlinewidth": 0,
             "ticks": ""
            },
            "colorscale": [
             [
              0,
              "#0d0887"
             ],
             [
              0.1111111111111111,
              "#46039f"
             ],
             [
              0.2222222222222222,
              "#7201a8"
             ],
             [
              0.3333333333333333,
              "#9c179e"
             ],
             [
              0.4444444444444444,
              "#bd3786"
             ],
             [
              0.5555555555555556,
              "#d8576b"
             ],
             [
              0.6666666666666666,
              "#ed7953"
             ],
             [
              0.7777777777777778,
              "#fb9f3a"
             ],
             [
              0.8888888888888888,
              "#fdca26"
             ],
             [
              1,
              "#f0f921"
             ]
            ],
            "type": "heatmap"
           }
          ],
          "histogram": [
           {
            "marker": {
             "pattern": {
              "fillmode": "overlay",
              "size": 10,
              "solidity": 0.2
             }
            },
            "type": "histogram"
           }
          ],
          "histogram2d": [
           {
            "colorbar": {
             "outlinewidth": 0,
             "ticks": ""
            },
            "colorscale": [
             [
              0,
              "#0d0887"
             ],
             [
              0.1111111111111111,
              "#46039f"
             ],
             [
              0.2222222222222222,
              "#7201a8"
             ],
             [
              0.3333333333333333,
              "#9c179e"
             ],
             [
              0.4444444444444444,
              "#bd3786"
             ],
             [
              0.5555555555555556,
              "#d8576b"
             ],
             [
              0.6666666666666666,
              "#ed7953"
             ],
             [
              0.7777777777777778,
              "#fb9f3a"
             ],
             [
              0.8888888888888888,
              "#fdca26"
             ],
             [
              1,
              "#f0f921"
             ]
            ],
            "type": "histogram2d"
           }
          ],
          "histogram2dcontour": [
           {
            "colorbar": {
             "outlinewidth": 0,
             "ticks": ""
            },
            "colorscale": [
             [
              0,
              "#0d0887"
             ],
             [
              0.1111111111111111,
              "#46039f"
             ],
             [
              0.2222222222222222,
              "#7201a8"
             ],
             [
              0.3333333333333333,
              "#9c179e"
             ],
             [
              0.4444444444444444,
              "#bd3786"
             ],
             [
              0.5555555555555556,
              "#d8576b"
             ],
             [
              0.6666666666666666,
              "#ed7953"
             ],
             [
              0.7777777777777778,
              "#fb9f3a"
             ],
             [
              0.8888888888888888,
              "#fdca26"
             ],
             [
              1,
              "#f0f921"
             ]
            ],
            "type": "histogram2dcontour"
           }
          ],
          "mesh3d": [
           {
            "colorbar": {
             "outlinewidth": 0,
             "ticks": ""
            },
            "type": "mesh3d"
           }
          ],
          "parcoords": [
           {
            "line": {
             "colorbar": {
              "outlinewidth": 0,
              "ticks": ""
             }
            },
            "type": "parcoords"
           }
          ],
          "pie": [
           {
            "automargin": true,
            "type": "pie"
           }
          ],
          "scatter": [
           {
            "fillpattern": {
             "fillmode": "overlay",
             "size": 10,
             "solidity": 0.2
            },
            "type": "scatter"
           }
          ],
          "scatter3d": [
           {
            "line": {
             "colorbar": {
              "outlinewidth": 0,
              "ticks": ""
             }
            },
            "marker": {
             "colorbar": {
              "outlinewidth": 0,
              "ticks": ""
             }
            },
            "type": "scatter3d"
           }
          ],
          "scattercarpet": [
           {
            "marker": {
             "colorbar": {
              "outlinewidth": 0,
              "ticks": ""
             }
            },
            "type": "scattercarpet"
           }
          ],
          "scattergeo": [
           {
            "marker": {
             "colorbar": {
              "outlinewidth": 0,
              "ticks": ""
             }
            },
            "type": "scattergeo"
           }
          ],
          "scattergl": [
           {
            "marker": {
             "colorbar": {
              "outlinewidth": 0,
              "ticks": ""
             }
            },
            "type": "scattergl"
           }
          ],
          "scattermap": [
           {
            "marker": {
             "colorbar": {
              "outlinewidth": 0,
              "ticks": ""
             }
            },
            "type": "scattermap"
           }
          ],
          "scattermapbox": [
           {
            "marker": {
             "colorbar": {
              "outlinewidth": 0,
              "ticks": ""
             }
            },
            "type": "scattermapbox"
           }
          ],
          "scatterpolar": [
           {
            "marker": {
             "colorbar": {
              "outlinewidth": 0,
              "ticks": ""
             }
            },
            "type": "scatterpolar"
           }
          ],
          "scatterpolargl": [
           {
            "marker": {
             "colorbar": {
              "outlinewidth": 0,
              "ticks": ""
             }
            },
            "type": "scatterpolargl"
           }
          ],
          "scatterternary": [
           {
            "marker": {
             "colorbar": {
              "outlinewidth": 0,
              "ticks": ""
             }
            },
            "type": "scatterternary"
           }
          ],
          "surface": [
           {
            "colorbar": {
             "outlinewidth": 0,
             "ticks": ""
            },
            "colorscale": [
             [
              0,
              "#0d0887"
             ],
             [
              0.1111111111111111,
              "#46039f"
             ],
             [
              0.2222222222222222,
              "#7201a8"
             ],
             [
              0.3333333333333333,
              "#9c179e"
             ],
             [
              0.4444444444444444,
              "#bd3786"
             ],
             [
              0.5555555555555556,
              "#d8576b"
             ],
             [
              0.6666666666666666,
              "#ed7953"
             ],
             [
              0.7777777777777778,
              "#fb9f3a"
             ],
             [
              0.8888888888888888,
              "#fdca26"
             ],
             [
              1,
              "#f0f921"
             ]
            ],
            "type": "surface"
           }
          ],
          "table": [
           {
            "cells": {
             "fill": {
              "color": "#EBF0F8"
             },
             "line": {
              "color": "white"
             }
            },
            "header": {
             "fill": {
              "color": "#C8D4E3"
             },
             "line": {
              "color": "white"
             }
            },
            "type": "table"
           }
          ]
         },
         "layout": {
          "annotationdefaults": {
           "arrowcolor": "#2a3f5f",
           "arrowhead": 0,
           "arrowwidth": 1
          },
          "autotypenumbers": "strict",
          "coloraxis": {
           "colorbar": {
            "outlinewidth": 0,
            "ticks": ""
           }
          },
          "colorscale": {
           "diverging": [
            [
             0,
             "#8e0152"
            ],
            [
             0.1,
             "#c51b7d"
            ],
            [
             0.2,
             "#de77ae"
            ],
            [
             0.3,
             "#f1b6da"
            ],
            [
             0.4,
             "#fde0ef"
            ],
            [
             0.5,
             "#f7f7f7"
            ],
            [
             0.6,
             "#e6f5d0"
            ],
            [
             0.7,
             "#b8e186"
            ],
            [
             0.8,
             "#7fbc41"
            ],
            [
             0.9,
             "#4d9221"
            ],
            [
             1,
             "#276419"
            ]
           ],
           "sequential": [
            [
             0,
             "#0d0887"
            ],
            [
             0.1111111111111111,
             "#46039f"
            ],
            [
             0.2222222222222222,
             "#7201a8"
            ],
            [
             0.3333333333333333,
             "#9c179e"
            ],
            [
             0.4444444444444444,
             "#bd3786"
            ],
            [
             0.5555555555555556,
             "#d8576b"
            ],
            [
             0.6666666666666666,
             "#ed7953"
            ],
            [
             0.7777777777777778,
             "#fb9f3a"
            ],
            [
             0.8888888888888888,
             "#fdca26"
            ],
            [
             1,
             "#f0f921"
            ]
           ],
           "sequentialminus": [
            [
             0,
             "#0d0887"
            ],
            [
             0.1111111111111111,
             "#46039f"
            ],
            [
             0.2222222222222222,
             "#7201a8"
            ],
            [
             0.3333333333333333,
             "#9c179e"
            ],
            [
             0.4444444444444444,
             "#bd3786"
            ],
            [
             0.5555555555555556,
             "#d8576b"
            ],
            [
             0.6666666666666666,
             "#ed7953"
            ],
            [
             0.7777777777777778,
             "#fb9f3a"
            ],
            [
             0.8888888888888888,
             "#fdca26"
            ],
            [
             1,
             "#f0f921"
            ]
           ]
          },
          "colorway": [
           "#636efa",
           "#EF553B",
           "#00cc96",
           "#ab63fa",
           "#FFA15A",
           "#19d3f3",
           "#FF6692",
           "#B6E880",
           "#FF97FF",
           "#FECB52"
          ],
          "font": {
           "color": "#2a3f5f"
          },
          "geo": {
           "bgcolor": "white",
           "lakecolor": "white",
           "landcolor": "#E5ECF6",
           "showlakes": true,
           "showland": true,
           "subunitcolor": "white"
          },
          "hoverlabel": {
           "align": "left"
          },
          "hovermode": "closest",
          "mapbox": {
           "style": "light"
          },
          "paper_bgcolor": "white",
          "plot_bgcolor": "#E5ECF6",
          "polar": {
           "angularaxis": {
            "gridcolor": "white",
            "linecolor": "white",
            "ticks": ""
           },
           "bgcolor": "#E5ECF6",
           "radialaxis": {
            "gridcolor": "white",
            "linecolor": "white",
            "ticks": ""
           }
          },
          "scene": {
           "xaxis": {
            "backgroundcolor": "#E5ECF6",
            "gridcolor": "white",
            "gridwidth": 2,
            "linecolor": "white",
            "showbackground": true,
            "ticks": "",
            "zerolinecolor": "white"
           },
           "yaxis": {
            "backgroundcolor": "#E5ECF6",
            "gridcolor": "white",
            "gridwidth": 2,
            "linecolor": "white",
            "showbackground": true,
            "ticks": "",
            "zerolinecolor": "white"
           },
           "zaxis": {
            "backgroundcolor": "#E5ECF6",
            "gridcolor": "white",
            "gridwidth": 2,
            "linecolor": "white",
            "showbackground": true,
            "ticks": "",
            "zerolinecolor": "white"
           }
          },
          "shapedefaults": {
           "line": {
            "color": "#2a3f5f"
           }
          },
          "ternary": {
           "aaxis": {
            "gridcolor": "white",
            "linecolor": "white",
            "ticks": ""
           },
           "baxis": {
            "gridcolor": "white",
            "linecolor": "white",
            "ticks": ""
           },
           "bgcolor": "#E5ECF6",
           "caxis": {
            "gridcolor": "white",
            "linecolor": "white",
            "ticks": ""
           }
          },
          "title": {
           "x": 0.05
          },
          "xaxis": {
           "automargin": true,
           "gridcolor": "white",
           "linecolor": "white",
           "ticks": "",
           "title": {
            "standoff": 15
           },
           "zerolinecolor": "white",
           "zerolinewidth": 2
          },
          "yaxis": {
           "automargin": true,
           "gridcolor": "white",
           "linecolor": "white",
           "ticks": "",
           "title": {
            "standoff": 15
           },
           "zerolinecolor": "white",
           "zerolinewidth": 2
          }
         }
        },
        "title": {
         "text": "Distribution of residential_assets_value"
        },
        "xaxis": {
         "anchor": "y",
         "domain": [
          0,
          1
         ],
         "title": {
          "text": "residential_assets_value"
         }
        },
        "yaxis": {
         "anchor": "x",
         "domain": [
          0,
          1
         ],
         "title": {
          "text": "count"
         }
        }
       }
      }
     },
     "metadata": {},
     "output_type": "display_data"
    },
    {
     "data": {
      "application/vnd.plotly.v1+json": {
       "config": {
        "plotlyServerURL": "https://plot.ly"
       },
       "data": [
        {
         "hovertemplate": "commercial_assets_value=%{marker.color}<br>count=%{text}<extra></extra>",
         "legendgroup": "",
         "marker": {
          "color": {
           "bdata": "AAAAAEANAwCghgEA4JMEACChBwAANQwAYK4KAIAaBgDAJwkAQEIPAMCRIQCATxIAINYTACBALADgyBAAAJ8kAGDjFgDAXBUAoLsNAEB3GwDg/RwAAGoYACB1OACAhB4A4DIpAAAJPQAgCyAAoPAZAKAlJgBArCcAgLkqAGAYIwBgTS8A4Gc1AKBaMgBA4TMA4NFNAGCCOwBAFkAAwPs5AOCcQQAgqkQAAHNVAMDGLQDAMEYAAD5JAEBLTACA7jYAIBRdAIBYTwBgt0cAgI1bAOAGWgAg31AAoMRKAGDsUwCgjz4AoPlWAEC1ZACgY28AYIt4AACoYQAg6I0AANQwAMA5gwDAml4AgPdzAMDPagCAwmcAYCFgAGD1kABAgFgA4HByAOA7ZgAAR4YAYFZsACBSpgDAZVIAgCNDAODaigAA3W0AoM2HAGDAhADAbo8AILOBAEAffQBAKLoAgMukAIBhjABA6nAAIElpAECJlQCgmHsAoC5jAKAClACAlpgAABJ6AOBEowCgN6AAQPOtAAB8kgDADbQAgCyAACB+dQDAo5sA4A+XAACxngDAQsAAYJS1AOClfgCAaskA4HmvAMAEdwBgycEAYCqdAKChuACAALEAwNinAMB3zABAvqEAoGysAADmqgDAS/0AgNThACAm1wDgrrsAgDW9AGAz2gAAhc8AIIeyACAdmgAAUMMAoNbEACDF+wBAVIkAoAvRAAAbtwBgX6kA4OPHACBb4wBAMfcAgD76AIAJ7gBAx94AACT0ACC8vgDgguwA4BjUACDxygAAutsAAO/nAKCq9QBA/OoAoEDdAKB16QBgnfIAAI4MAUCS0gBAXcYA4E3gAKBJGgFg0v4A4Lf4AMDh5ABgaOYAYP7NAICf1QDArNgAIPoHAaDfAQHgIREBAMMYAcDqIQFgBwsBwBbxAEBmAwGgFA4BQJsPAYBzBgGA3R4B4FYdAcC1FQEAWQABQAUoAWA8FwHAgAkBIJDvACBkIAE=",
           "dtype": "i4"
          },
          "coloraxis": "coloraxis",
          "pattern": {
           "shape": ""
          }
         },
         "name": "",
         "orientation": "v",
         "showlegend": false,
         "text": {
          "bdata": "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",
          "dtype": "f8"
         },
         "textposition": "outside",
         "type": "bar",
         "x": {
          "bdata": "AAAAAEANAwCghgEA4JMEACChBwAANQwAYK4KAIAaBgDAJwkAQEIPAMCRIQCATxIAINYTACBALADgyBAAAJ8kAGDjFgDAXBUAoLsNAEB3GwDg/RwAAGoYACB1OACAhB4A4DIpAAAJPQAgCyAAoPAZAKAlJgBArCcAgLkqAGAYIwBgTS8A4Gc1AKBaMgBA4TMA4NFNAGCCOwBAFkAAwPs5AOCcQQAgqkQAAHNVAMDGLQDAMEYAAD5JAEBLTACA7jYAIBRdAIBYTwBgt0cAgI1bAOAGWgAg31AAoMRKAGDsUwCgjz4AoPlWAEC1ZACgY28AYIt4AACoYQAg6I0AANQwAMA5gwDAml4AgPdzAMDPagCAwmcAYCFgAGD1kABAgFgA4HByAOA7ZgAAR4YAYFZsACBSpgDAZVIAgCNDAODaigAA3W0AoM2HAGDAhADAbo8AILOBAEAffQBAKLoAgMukAIBhjABA6nAAIElpAECJlQCgmHsAoC5jAKAClACAlpgAABJ6AOBEowCgN6AAQPOtAAB8kgDADbQAgCyAACB+dQDAo5sA4A+XAACxngDAQsAAYJS1AOClfgCAaskA4HmvAMAEdwBgycEAYCqdAKChuACAALEAwNinAMB3zABAvqEAoGysAADmqgDAS/0AgNThACAm1wDgrrsAgDW9AGAz2gAAhc8AIIeyACAdmgAAUMMAoNbEACDF+wBAVIkAoAvRAAAbtwBgX6kA4OPHACBb4wBAMfcAgD76AIAJ7gBAx94AACT0ACC8vgDgguwA4BjUACDxygAAutsAAO/nAKCq9QBA/OoAoEDdAKB16QBgnfIAAI4MAUCS0gBAXcYA4E3gAKBJGgFg0v4A4Lf4AMDh5ABgaOYAYP7NAICf1QDArNgAIPoHAaDfAQHgIREBAMMYAcDqIQFgBwsBwBbxAEBmAwGgFA4BQJsPAYBzBgGA3R4B4FYdAcC1FQEAWQABQAUoAWA8FwHAgAkBIJDvACBkIAE=",
          "dtype": "i4"
         },
         "xaxis": "x",
         "y": {
          "bdata": "a2VkWlNMSkdGQz8/Pjw7ODU0NDQyMS4uLi4tLSsrKiopKSgmJSUlIyIiICAfHx8eHh0cHBsbGxsbGhoaGRkZGRgYFxcXFhYWFhUVFRQUFBQUFBMTExMSERERERAQEBAQEBAPDw8PDw8PDw4ODg0NDQ0MDAwLCwsLCwsKCgoKCQkJCQkJCAgICAgICAgHBwcHBwcHBwYGBgYGBgUFBQUFBQQEBAQEBAQDAwMDAwMCAgICAgICAQEBAQEBAQE=",
          "dtype": "i1"
         },
         "yaxis": "y"
        }
       ],
       "layout": {
        "barmode": "relative",
        "coloraxis": {
         "colorbar": {
          "title": {
           "text": "commercial_assets_value"
          }
         },
         "colorscale": [
          [
           0,
           "#0d0887"
          ],
          [
           0.1111111111111111,
           "#46039f"
          ],
          [
           0.2222222222222222,
           "#7201a8"
          ],
          [
           0.3333333333333333,
           "#9c179e"
          ],
          [
           0.4444444444444444,
           "#bd3786"
          ],
          [
           0.5555555555555556,
           "#d8576b"
          ],
          [
           0.6666666666666666,
           "#ed7953"
          ],
          [
           0.7777777777777778,
           "#fb9f3a"
          ],
          [
           0.8888888888888888,
           "#fdca26"
          ],
          [
           1,
           "#f0f921"
          ]
         ]
        },
        "legend": {
         "tracegroupgap": 0
        },
        "template": {
         "data": {
          "bar": [
           {
            "error_x": {
             "color": "#2a3f5f"
            },
            "error_y": {
             "color": "#2a3f5f"
            },
            "marker": {
             "line": {
              "color": "#E5ECF6",
              "width": 0.5
             },
             "pattern": {
              "fillmode": "overlay",
              "size": 10,
              "solidity": 0.2
             }
            },
            "type": "bar"
           }
          ],
          "barpolar": [
           {
            "marker": {
             "line": {
              "color": "#E5ECF6",
              "width": 0.5
             },
             "pattern": {
              "fillmode": "overlay",
              "size": 10,
              "solidity": 0.2
             }
            },
            "type": "barpolar"
           }
          ],
          "carpet": [
           {
            "aaxis": {
             "endlinecolor": "#2a3f5f",
             "gridcolor": "white",
             "linecolor": "white",
             "minorgridcolor": "white",
             "startlinecolor": "#2a3f5f"
            },
            "baxis": {
             "endlinecolor": "#2a3f5f",
             "gridcolor": "white",
             "linecolor": "white",
             "minorgridcolor": "white",
             "startlinecolor": "#2a3f5f"
            },
            "type": "carpet"
           }
          ],
          "choropleth": [
           {
            "colorbar": {
             "outlinewidth": 0,
             "ticks": ""
            },
            "type": "choropleth"
           }
          ],
          "contour": [
           {
            "colorbar": {
             "outlinewidth": 0,
             "ticks": ""
            },
            "colorscale": [
             [
              0,
              "#0d0887"
             ],
             [
              0.1111111111111111,
              "#46039f"
             ],
             [
              0.2222222222222222,
              "#7201a8"
             ],
             [
              0.3333333333333333,
              "#9c179e"
             ],
             [
              0.4444444444444444,
              "#bd3786"
             ],
             [
              0.5555555555555556,
              "#d8576b"
             ],
             [
              0.6666666666666666,
              "#ed7953"
             ],
             [
              0.7777777777777778,
              "#fb9f3a"
             ],
             [
              0.8888888888888888,
              "#fdca26"
             ],
             [
              1,
              "#f0f921"
             ]
            ],
            "type": "contour"
           }
          ],
          "contourcarpet": [
           {
            "colorbar": {
             "outlinewidth": 0,
             "ticks": ""
            },
            "type": "contourcarpet"
           }
          ],
          "heatmap": [
           {
            "colorbar": {
             "outlinewidth": 0,
             "ticks": ""
            },
            "colorscale": [
             [
              0,
              "#0d0887"
             ],
             [
              0.1111111111111111,
              "#46039f"
             ],
             [
              0.2222222222222222,
              "#7201a8"
             ],
             [
              0.3333333333333333,
              "#9c179e"
             ],
             [
              0.4444444444444444,
              "#bd3786"
             ],
             [
              0.5555555555555556,
              "#d8576b"
             ],
             [
              0.6666666666666666,
              "#ed7953"
             ],
             [
              0.7777777777777778,
              "#fb9f3a"
             ],
             [
              0.8888888888888888,
              "#fdca26"
             ],
             [
              1,
              "#f0f921"
             ]
            ],
            "type": "heatmap"
           }
          ],
          "histogram": [
           {
            "marker": {
             "pattern": {
              "fillmode": "overlay",
              "size": 10,
              "solidity": 0.2
             }
            },
            "type": "histogram"
           }
          ],
          "histogram2d": [
           {
            "colorbar": {
             "outlinewidth": 0,
             "ticks": ""
            },
            "colorscale": [
             [
              0,
              "#0d0887"
             ],
             [
              0.1111111111111111,
              "#46039f"
             ],
             [
              0.2222222222222222,
              "#7201a8"
             ],
             [
              0.3333333333333333,
              "#9c179e"
             ],
             [
              0.4444444444444444,
              "#bd3786"
             ],
             [
              0.5555555555555556,
              "#d8576b"
             ],
             [
              0.6666666666666666,
              "#ed7953"
             ],
             [
              0.7777777777777778,
              "#fb9f3a"
             ],
             [
              0.8888888888888888,
              "#fdca26"
             ],
             [
              1,
              "#f0f921"
             ]
            ],
            "type": "histogram2d"
           }
          ],
          "histogram2dcontour": [
           {
            "colorbar": {
             "outlinewidth": 0,
             "ticks": ""
            },
            "colorscale": [
             [
              0,
              "#0d0887"
             ],
             [
              0.1111111111111111,
              "#46039f"
             ],
             [
              0.2222222222222222,
              "#7201a8"
             ],
             [
              0.3333333333333333,
              "#9c179e"
             ],
             [
              0.4444444444444444,
              "#bd3786"
             ],
             [
              0.5555555555555556,
              "#d8576b"
             ],
             [
              0.6666666666666666,
              "#ed7953"
             ],
             [
              0.7777777777777778,
              "#fb9f3a"
             ],
             [
              0.8888888888888888,
              "#fdca26"
             ],
             [
              1,
              "#f0f921"
             ]
            ],
            "type": "histogram2dcontour"
           }
          ],
          "mesh3d": [
           {
            "colorbar": {
             "outlinewidth": 0,
             "ticks": ""
            },
            "type": "mesh3d"
           }
          ],
          "parcoords": [
           {
            "line": {
             "colorbar": {
              "outlinewidth": 0,
              "ticks": ""
             }
            },
            "type": "parcoords"
           }
          ],
          "pie": [
           {
            "automargin": true,
            "type": "pie"
           }
          ],
          "scatter": [
           {
            "fillpattern": {
             "fillmode": "overlay",
             "size": 10,
             "solidity": 0.2
            },
            "type": "scatter"
           }
          ],
          "scatter3d": [
           {
            "line": {
             "colorbar": {
              "outlinewidth": 0,
              "ticks": ""
             }
            },
            "marker": {
             "colorbar": {
              "outlinewidth": 0,
              "ticks": ""
             }
            },
            "type": "scatter3d"
           }
          ],
          "scattercarpet": [
           {
            "marker": {
             "colorbar": {
              "outlinewidth": 0,
              "ticks": ""
             }
            },
            "type": "scattercarpet"
           }
          ],
          "scattergeo": [
           {
            "marker": {
             "colorbar": {
              "outlinewidth": 0,
              "ticks": ""
             }
            },
            "type": "scattergeo"
           }
          ],
          "scattergl": [
           {
            "marker": {
             "colorbar": {
              "outlinewidth": 0,
              "ticks": ""
             }
            },
            "type": "scattergl"
           }
          ],
          "scattermap": [
           {
            "marker": {
             "colorbar": {
              "outlinewidth": 0,
              "ticks": ""
             }
            },
            "type": "scattermap"
           }
          ],
          "scattermapbox": [
           {
            "marker": {
             "colorbar": {
              "outlinewidth": 0,
              "ticks": ""
             }
            },
            "type": "scattermapbox"
           }
          ],
          "scatterpolar": [
           {
            "marker": {
             "colorbar": {
              "outlinewidth": 0,
              "ticks": ""
             }
            },
            "type": "scatterpolar"
           }
          ],
          "scatterpolargl": [
           {
            "marker": {
             "colorbar": {
              "outlinewidth": 0,
              "ticks": ""
             }
            },
            "type": "scatterpolargl"
           }
          ],
          "scatterternary": [
           {
            "marker": {
             "colorbar": {
              "outlinewidth": 0,
              "ticks": ""
             }
            },
            "type": "scatterternary"
           }
          ],
          "surface": [
           {
            "colorbar": {
             "outlinewidth": 0,
             "ticks": ""
            },
            "colorscale": [
             [
              0,
              "#0d0887"
             ],
             [
              0.1111111111111111,
              "#46039f"
             ],
             [
              0.2222222222222222,
              "#7201a8"
             ],
             [
              0.3333333333333333,
              "#9c179e"
             ],
             [
              0.4444444444444444,
              "#bd3786"
             ],
             [
              0.5555555555555556,
              "#d8576b"
             ],
             [
              0.6666666666666666,
              "#ed7953"
             ],
             [
              0.7777777777777778,
              "#fb9f3a"
             ],
             [
              0.8888888888888888,
              "#fdca26"
             ],
             [
              1,
              "#f0f921"
             ]
            ],
            "type": "surface"
           }
          ],
          "table": [
           {
            "cells": {
             "fill": {
              "color": "#EBF0F8"
             },
             "line": {
              "color": "white"
             }
            },
            "header": {
             "fill": {
              "color": "#C8D4E3"
             },
             "line": {
              "color": "white"
             }
            },
            "type": "table"
           }
          ]
         },
         "layout": {
          "annotationdefaults": {
           "arrowcolor": "#2a3f5f",
           "arrowhead": 0,
           "arrowwidth": 1
          },
          "autotypenumbers": "strict",
          "coloraxis": {
           "colorbar": {
            "outlinewidth": 0,
            "ticks": ""
           }
          },
          "colorscale": {
           "diverging": [
            [
             0,
             "#8e0152"
            ],
            [
             0.1,
             "#c51b7d"
            ],
            [
             0.2,
             "#de77ae"
            ],
            [
             0.3,
             "#f1b6da"
            ],
            [
             0.4,
             "#fde0ef"
            ],
            [
             0.5,
             "#f7f7f7"
            ],
            [
             0.6,
             "#e6f5d0"
            ],
            [
             0.7,
             "#b8e186"
            ],
            [
             0.8,
             "#7fbc41"
            ],
            [
             0.9,
             "#4d9221"
            ],
            [
             1,
             "#276419"
            ]
           ],
           "sequential": [
            [
             0,
             "#0d0887"
            ],
            [
             0.1111111111111111,
             "#46039f"
            ],
            [
             0.2222222222222222,
             "#7201a8"
            ],
            [
             0.3333333333333333,
             "#9c179e"
            ],
            [
             0.4444444444444444,
             "#bd3786"
            ],
            [
             0.5555555555555556,
             "#d8576b"
            ],
            [
             0.6666666666666666,
             "#ed7953"
            ],
            [
             0.7777777777777778,
             "#fb9f3a"
            ],
            [
             0.8888888888888888,
             "#fdca26"
            ],
            [
             1,
             "#f0f921"
            ]
           ],
           "sequentialminus": [
            [
             0,
             "#0d0887"
            ],
            [
             0.1111111111111111,
             "#46039f"
            ],
            [
             0.2222222222222222,
             "#7201a8"
            ],
            [
             0.3333333333333333,
             "#9c179e"
            ],
            [
             0.4444444444444444,
             "#bd3786"
            ],
            [
             0.5555555555555556,
             "#d8576b"
            ],
            [
             0.6666666666666666,
             "#ed7953"
            ],
            [
             0.7777777777777778,
             "#fb9f3a"
            ],
            [
             0.8888888888888888,
             "#fdca26"
            ],
            [
             1,
             "#f0f921"
            ]
           ]
          },
          "colorway": [
           "#636efa",
           "#EF553B",
           "#00cc96",
           "#ab63fa",
           "#FFA15A",
           "#19d3f3",
           "#FF6692",
           "#B6E880",
           "#FF97FF",
           "#FECB52"
          ],
          "font": {
           "color": "#2a3f5f"
          },
          "geo": {
           "bgcolor": "white",
           "lakecolor": "white",
           "landcolor": "#E5ECF6",
           "showlakes": true,
           "showland": true,
           "subunitcolor": "white"
          },
          "hoverlabel": {
           "align": "left"
          },
          "hovermode": "closest",
          "mapbox": {
           "style": "light"
          },
          "paper_bgcolor": "white",
          "plot_bgcolor": "#E5ECF6",
          "polar": {
           "angularaxis": {
            "gridcolor": "white",
            "linecolor": "white",
            "ticks": ""
           },
           "bgcolor": "#E5ECF6",
           "radialaxis": {
            "gridcolor": "white",
            "linecolor": "white",
            "ticks": ""
           }
          },
          "scene": {
           "xaxis": {
            "backgroundcolor": "#E5ECF6",
            "gridcolor": "white",
            "gridwidth": 2,
            "linecolor": "white",
            "showbackground": true,
            "ticks": "",
            "zerolinecolor": "white"
           },
           "yaxis": {
            "backgroundcolor": "#E5ECF6",
            "gridcolor": "white",
            "gridwidth": 2,
            "linecolor": "white",
            "showbackground": true,
            "ticks": "",
            "zerolinecolor": "white"
           },
           "zaxis": {
            "backgroundcolor": "#E5ECF6",
            "gridcolor": "white",
            "gridwidth": 2,
            "linecolor": "white",
            "showbackground": true,
            "ticks": "",
            "zerolinecolor": "white"
           }
          },
          "shapedefaults": {
           "line": {
            "color": "#2a3f5f"
           }
          },
          "ternary": {
           "aaxis": {
            "gridcolor": "white",
            "linecolor": "white",
            "ticks": ""
           },
           "baxis": {
            "gridcolor": "white",
            "linecolor": "white",
            "ticks": ""
           },
           "bgcolor": "#E5ECF6",
           "caxis": {
            "gridcolor": "white",
            "linecolor": "white",
            "ticks": ""
           }
          },
          "title": {
           "x": 0.05
          },
          "xaxis": {
           "automargin": true,
           "gridcolor": "white",
           "linecolor": "white",
           "ticks": "",
           "title": {
            "standoff": 15
           },
           "zerolinecolor": "white",
           "zerolinewidth": 2
          },
          "yaxis": {
           "automargin": true,
           "gridcolor": "white",
           "linecolor": "white",
           "ticks": "",
           "title": {
            "standoff": 15
           },
           "zerolinecolor": "white",
           "zerolinewidth": 2
          }
         }
        },
        "title": {
         "text": "Distribution of commercial_assets_value"
        },
        "xaxis": {
         "anchor": "y",
         "domain": [
          0,
          1
         ],
         "title": {
          "text": "commercial_assets_value"
         }
        },
        "yaxis": {
         "anchor": "x",
         "domain": [
          0,
          1
         ],
         "title": {
          "text": "count"
         }
        }
       }
      }
     },
     "metadata": {},
     "output_type": "display_data"
    },
    {
     "data": {
      "application/vnd.plotly.v1+json": {
       "config": {
        "plotlyServerURL": "https://plot.ly"
       },
       "data": [
        {
         "hovertemplate": "luxury_assets_value=%{marker.color}<br>count=%{text}<extra></extra>",
         "legendgroup": "",
         "marker": {
          "color": {
           "bdata": "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",
           "dtype": "i4"
          },
          "coloraxis": "coloraxis",
          "pattern": {
           "shape": ""
          }
         },
         "name": "",
         "orientation": "v",
         "showlegend": false,
         "text": {
          "bdata": "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",
          "dtype": "f8"
         },
         "textposition": "outside",
         "type": "bar",
         "x": {
          "bdata": "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",
          "dtype": "i4"
         },
         "xaxis": "x",
         "y": {
          "bdata": "GhoaGBgYFxcWFhYWFRUVFRQUFBQUFBQUExMTExMTExMTExMTExMSEhISEhISEhISEhIREREREREREREREREREREREREREREQEBAQEBAQEBAQEBAQEBAQEBAQEBAQEBAQEBAQEA8PDw8PDw8PDw8PDw8PDw8PDw8PDw8PDg4ODg4ODg4ODg4ODg4ODg4ODg4ODg4ODg4NDQ0NDQ0NDQ0NDQ0NDQ0NDQ0NDQ0NDQ0NDQ0NDQ0NDAwMDAwMDAwMDAwMDAwMDAwMDAwLCwsLCwsLCwsLCwsLCwsLCwsKCgoKCgoKCgoKCgoKCgoKCgoKCQkJCQkJCQkJCQkJCQkICAgICAgICAgICAgICAcHBwcHBwcHBwcHBwcHBgYGBgYGBgYGBgYGBgYGBgYGBgYGBQUFBQUFBQUFBQUFBQUFBQUFBAQEBAQEBAQEBAQEBAQDAwMDAwMDAwMDAwICAgICAgICAgICAgICAgICAgICAgEBAQEBAQEBAQEBAQEBAQ==",
          "dtype": "i1"
         },
         "yaxis": "y"
        }
       ],
       "layout": {
        "barmode": "relative",
        "coloraxis": {
         "colorbar": {
          "title": {
           "text": "luxury_assets_value"
          }
         },
         "colorscale": [
          [
           0,
           "#0d0887"
          ],
          [
           0.1111111111111111,
           "#46039f"
          ],
          [
           0.2222222222222222,
           "#7201a8"
          ],
          [
           0.3333333333333333,
           "#9c179e"
          ],
          [
           0.4444444444444444,
           "#bd3786"
          ],
          [
           0.5555555555555556,
           "#d8576b"
          ],
          [
           0.6666666666666666,
           "#ed7953"
          ],
          [
           0.7777777777777778,
           "#fb9f3a"
          ],
          [
           0.8888888888888888,
           "#fdca26"
          ],
          [
           1,
           "#f0f921"
          ]
         ]
        },
        "legend": {
         "tracegroupgap": 0
        },
        "template": {
         "data": {
          "bar": [
           {
            "error_x": {
             "color": "#2a3f5f"
            },
            "error_y": {
             "color": "#2a3f5f"
            },
            "marker": {
             "line": {
              "color": "#E5ECF6",
              "width": 0.5
             },
             "pattern": {
              "fillmode": "overlay",
              "size": 10,
              "solidity": 0.2
             }
            },
            "type": "bar"
           }
          ],
          "barpolar": [
           {
            "marker": {
             "line": {
              "color": "#E5ECF6",
              "width": 0.5
             },
             "pattern": {
              "fillmode": "overlay",
              "size": 10,
              "solidity": 0.2
             }
            },
            "type": "barpolar"
           }
          ],
          "carpet": [
           {
            "aaxis": {
             "endlinecolor": "#2a3f5f",
             "gridcolor": "white",
             "linecolor": "white",
             "minorgridcolor": "white",
             "startlinecolor": "#2a3f5f"
            },
            "baxis": {
             "endlinecolor": "#2a3f5f",
             "gridcolor": "white",
             "linecolor": "white",
             "minorgridcolor": "white",
             "startlinecolor": "#2a3f5f"
            },
            "type": "carpet"
           }
          ],
          "choropleth": [
           {
            "colorbar": {
             "outlinewidth": 0,
             "ticks": ""
            },
            "type": "choropleth"
           }
          ],
          "contour": [
           {
            "colorbar": {
             "outlinewidth": 0,
             "ticks": ""
            },
            "colorscale": [
             [
              0,
              "#0d0887"
             ],
             [
              0.1111111111111111,
              "#46039f"
             ],
             [
              0.2222222222222222,
              "#7201a8"
             ],
             [
              0.3333333333333333,
              "#9c179e"
             ],
             [
              0.4444444444444444,
              "#bd3786"
             ],
             [
              0.5555555555555556,
              "#d8576b"
             ],
             [
              0.6666666666666666,
              "#ed7953"
             ],
             [
              0.7777777777777778,
              "#fb9f3a"
             ],
             [
              0.8888888888888888,
              "#fdca26"
             ],
             [
              1,
              "#f0f921"
             ]
            ],
            "type": "contour"
           }
          ],
          "contourcarpet": [
           {
            "colorbar": {
             "outlinewidth": 0,
             "ticks": ""
            },
            "type": "contourcarpet"
           }
          ],
          "heatmap": [
           {
            "colorbar": {
             "outlinewidth": 0,
             "ticks": ""
            },
            "colorscale": [
             [
              0,
              "#0d0887"
             ],
             [
              0.1111111111111111,
              "#46039f"
             ],
             [
              0.2222222222222222,
              "#7201a8"
             ],
             [
              0.3333333333333333,
              "#9c179e"
             ],
             [
              0.4444444444444444,
              "#bd3786"
             ],
             [
              0.5555555555555556,
              "#d8576b"
             ],
             [
              0.6666666666666666,
              "#ed7953"
             ],
             [
              0.7777777777777778,
              "#fb9f3a"
             ],
             [
              0.8888888888888888,
              "#fdca26"
             ],
             [
              1,
              "#f0f921"
             ]
            ],
            "type": "heatmap"
           }
          ],
          "histogram": [
           {
            "marker": {
             "pattern": {
              "fillmode": "overlay",
              "size": 10,
              "solidity": 0.2
             }
            },
            "type": "histogram"
           }
          ],
          "histogram2d": [
           {
            "colorbar": {
             "outlinewidth": 0,
             "ticks": ""
            },
            "colorscale": [
             [
              0,
              "#0d0887"
             ],
             [
              0.1111111111111111,
              "#46039f"
             ],
             [
              0.2222222222222222,
              "#7201a8"
             ],
             [
              0.3333333333333333,
              "#9c179e"
             ],
             [
              0.4444444444444444,
              "#bd3786"
             ],
             [
              0.5555555555555556,
              "#d8576b"
             ],
             [
              0.6666666666666666,
              "#ed7953"
             ],
             [
              0.7777777777777778,
              "#fb9f3a"
             ],
             [
              0.8888888888888888,
              "#fdca26"
             ],
             [
              1,
              "#f0f921"
             ]
            ],
            "type": "histogram2d"
           }
          ],
          "histogram2dcontour": [
           {
            "colorbar": {
             "outlinewidth": 0,
             "ticks": ""
            },
            "colorscale": [
             [
              0,
              "#0d0887"
             ],
             [
              0.1111111111111111,
              "#46039f"
             ],
             [
              0.2222222222222222,
              "#7201a8"
             ],
             [
              0.3333333333333333,
              "#9c179e"
             ],
             [
              0.4444444444444444,
              "#bd3786"
             ],
             [
              0.5555555555555556,
              "#d8576b"
             ],
             [
              0.6666666666666666,
              "#ed7953"
             ],
             [
              0.7777777777777778,
              "#fb9f3a"
             ],
             [
              0.8888888888888888,
              "#fdca26"
             ],
             [
              1,
              "#f0f921"
             ]
            ],
            "type": "histogram2dcontour"
           }
          ],
          "mesh3d": [
           {
            "colorbar": {
             "outlinewidth": 0,
             "ticks": ""
            },
            "type": "mesh3d"
           }
          ],
          "parcoords": [
           {
            "line": {
             "colorbar": {
              "outlinewidth": 0,
              "ticks": ""
             }
            },
            "type": "parcoords"
           }
          ],
          "pie": [
           {
            "automargin": true,
            "type": "pie"
           }
          ],
          "scatter": [
           {
            "fillpattern": {
             "fillmode": "overlay",
             "size": 10,
             "solidity": 0.2
            },
            "type": "scatter"
           }
          ],
          "scatter3d": [
           {
            "line": {
             "colorbar": {
              "outlinewidth": 0,
              "ticks": ""
             }
            },
            "marker": {
             "colorbar": {
              "outlinewidth": 0,
              "ticks": ""
             }
            },
            "type": "scatter3d"
           }
          ],
          "scattercarpet": [
           {
            "marker": {
             "colorbar": {
              "outlinewidth": 0,
              "ticks": ""
             }
            },
            "type": "scattercarpet"
           }
          ],
          "scattergeo": [
           {
            "marker": {
             "colorbar": {
              "outlinewidth": 0,
              "ticks": ""
             }
            },
            "type": "scattergeo"
           }
          ],
          "scattergl": [
           {
            "marker": {
             "colorbar": {
              "outlinewidth": 0,
              "ticks": ""
             }
            },
            "type": "scattergl"
           }
          ],
          "scattermap": [
           {
            "marker": {
             "colorbar": {
              "outlinewidth": 0,
              "ticks": ""
             }
            },
            "type": "scattermap"
           }
          ],
          "scattermapbox": [
           {
            "marker": {
             "colorbar": {
              "outlinewidth": 0,
              "ticks": ""
             }
            },
            "type": "scattermapbox"
           }
          ],
          "scatterpolar": [
           {
            "marker": {
             "colorbar": {
              "outlinewidth": 0,
              "ticks": ""
             }
            },
            "type": "scatterpolar"
           }
          ],
          "scatterpolargl": [
           {
            "marker": {
             "colorbar": {
              "outlinewidth": 0,
              "ticks": ""
             }
            },
            "type": "scatterpolargl"
           }
          ],
          "scatterternary": [
           {
            "marker": {
             "colorbar": {
              "outlinewidth": 0,
              "ticks": ""
             }
            },
            "type": "scatterternary"
           }
          ],
          "surface": [
           {
            "colorbar": {
             "outlinewidth": 0,
             "ticks": ""
            },
            "colorscale": [
             [
              0,
              "#0d0887"
             ],
             [
              0.1111111111111111,
              "#46039f"
             ],
             [
              0.2222222222222222,
              "#7201a8"
             ],
             [
              0.3333333333333333,
              "#9c179e"
             ],
             [
              0.4444444444444444,
              "#bd3786"
             ],
             [
              0.5555555555555556,
              "#d8576b"
             ],
             [
              0.6666666666666666,
              "#ed7953"
             ],
             [
              0.7777777777777778,
              "#fb9f3a"
             ],
             [
              0.8888888888888888,
              "#fdca26"
             ],
             [
              1,
              "#f0f921"
             ]
            ],
            "type": "surface"
           }
          ],
          "table": [
           {
            "cells": {
             "fill": {
              "color": "#EBF0F8"
             },
             "line": {
              "color": "white"
             }
            },
            "header": {
             "fill": {
              "color": "#C8D4E3"
             },
             "line": {
              "color": "white"
             }
            },
            "type": "table"
           }
          ]
         },
         "layout": {
          "annotationdefaults": {
           "arrowcolor": "#2a3f5f",
           "arrowhead": 0,
           "arrowwidth": 1
          },
          "autotypenumbers": "strict",
          "coloraxis": {
           "colorbar": {
            "outlinewidth": 0,
            "ticks": ""
           }
          },
          "colorscale": {
           "diverging": [
            [
             0,
             "#8e0152"
            ],
            [
             0.1,
             "#c51b7d"
            ],
            [
             0.2,
             "#de77ae"
            ],
            [
             0.3,
             "#f1b6da"
            ],
            [
             0.4,
             "#fde0ef"
            ],
            [
             0.5,
             "#f7f7f7"
            ],
            [
             0.6,
             "#e6f5d0"
            ],
            [
             0.7,
             "#b8e186"
            ],
            [
             0.8,
             "#7fbc41"
            ],
            [
             0.9,
             "#4d9221"
            ],
            [
             1,
             "#276419"
            ]
           ],
           "sequential": [
            [
             0,
             "#0d0887"
            ],
            [
             0.1111111111111111,
             "#46039f"
            ],
            [
             0.2222222222222222,
             "#7201a8"
            ],
            [
             0.3333333333333333,
             "#9c179e"
            ],
            [
             0.4444444444444444,
             "#bd3786"
            ],
            [
             0.5555555555555556,
             "#d8576b"
            ],
            [
             0.6666666666666666,
             "#ed7953"
            ],
            [
             0.7777777777777778,
             "#fb9f3a"
            ],
            [
             0.8888888888888888,
             "#fdca26"
            ],
            [
             1,
             "#f0f921"
            ]
           ],
           "sequentialminus": [
            [
             0,
             "#0d0887"
            ],
            [
             0.1111111111111111,
             "#46039f"
            ],
            [
             0.2222222222222222,
             "#7201a8"
            ],
            [
             0.3333333333333333,
             "#9c179e"
            ],
            [
             0.4444444444444444,
             "#bd3786"
            ],
            [
             0.5555555555555556,
             "#d8576b"
            ],
            [
             0.6666666666666666,
             "#ed7953"
            ],
            [
             0.7777777777777778,
             "#fb9f3a"
            ],
            [
             0.8888888888888888,
             "#fdca26"
            ],
            [
             1,
             "#f0f921"
            ]
           ]
          },
          "colorway": [
           "#636efa",
           "#EF553B",
           "#00cc96",
           "#ab63fa",
           "#FFA15A",
           "#19d3f3",
           "#FF6692",
           "#B6E880",
           "#FF97FF",
           "#FECB52"
          ],
          "font": {
           "color": "#2a3f5f"
          },
          "geo": {
           "bgcolor": "white",
           "lakecolor": "white",
           "landcolor": "#E5ECF6",
           "showlakes": true,
           "showland": true,
           "subunitcolor": "white"
          },
          "hoverlabel": {
           "align": "left"
          },
          "hovermode": "closest",
          "mapbox": {
           "style": "light"
          },
          "paper_bgcolor": "white",
          "plot_bgcolor": "#E5ECF6",
          "polar": {
           "angularaxis": {
            "gridcolor": "white",
            "linecolor": "white",
            "ticks": ""
           },
           "bgcolor": "#E5ECF6",
           "radialaxis": {
            "gridcolor": "white",
            "linecolor": "white",
            "ticks": ""
           }
          },
          "scene": {
           "xaxis": {
            "backgroundcolor": "#E5ECF6",
            "gridcolor": "white",
            "gridwidth": 2,
            "linecolor": "white",
            "showbackground": true,
            "ticks": "",
            "zerolinecolor": "white"
           },
           "yaxis": {
            "backgroundcolor": "#E5ECF6",
            "gridcolor": "white",
            "gridwidth": 2,
            "linecolor": "white",
            "showbackground": true,
            "ticks": "",
            "zerolinecolor": "white"
           },
           "zaxis": {
            "backgroundcolor": "#E5ECF6",
            "gridcolor": "white",
            "gridwidth": 2,
            "linecolor": "white",
            "showbackground": true,
            "ticks": "",
            "zerolinecolor": "white"
           }
          },
          "shapedefaults": {
           "line": {
            "color": "#2a3f5f"
           }
          },
          "ternary": {
           "aaxis": {
            "gridcolor": "white",
            "linecolor": "white",
            "ticks": ""
           },
           "baxis": {
            "gridcolor": "white",
            "linecolor": "white",
            "ticks": ""
           },
           "bgcolor": "#E5ECF6",
           "caxis": {
            "gridcolor": "white",
            "linecolor": "white",
            "ticks": ""
           }
          },
          "title": {
           "x": 0.05
          },
          "xaxis": {
           "automargin": true,
           "gridcolor": "white",
           "linecolor": "white",
           "ticks": "",
           "title": {
            "standoff": 15
           },
           "zerolinecolor": "white",
           "zerolinewidth": 2
          },
          "yaxis": {
           "automargin": true,
           "gridcolor": "white",
           "linecolor": "white",
           "ticks": "",
           "title": {
            "standoff": 15
           },
           "zerolinecolor": "white",
           "zerolinewidth": 2
          }
         }
        },
        "title": {
         "text": "Distribution of luxury_assets_value"
        },
        "xaxis": {
         "anchor": "y",
         "domain": [
          0,
          1
         ],
         "title": {
          "text": "luxury_assets_value"
         }
        },
        "yaxis": {
         "anchor": "x",
         "domain": [
          0,
          1
         ],
         "title": {
          "text": "count"
         }
        }
       }
      }
     },
     "metadata": {},
     "output_type": "display_data"
    },
    {
     "data": {
      "application/vnd.plotly.v1+json": {
       "config": {
        "plotlyServerURL": "https://plot.ly"
       },
       "data": [
        {
         "hovertemplate": "bank_asset_value=%{marker.color}<br>count=%{text}<extra></extra>",
         "legendgroup": "",
         "marker": {
          "color": {
           "bdata": "wFwVAKDESgCA7jYAIKpEAABqGADAZVIAoLsNACDWEwBg4xYAQOEzAEANAwCgjz4AAJ8kAKBaMgBg7FMAgIQeAAA+SQBAFkAAIEAsAGC3RwDgkwQAYE0vAIAaBgDAJwkA4DIpAMDGLQAgCyAAIN9QAGCCOwCAuSoAQKwnAECAWADgnEEAAAk9AOBnNQCg8BkAAN1tACAUXQBAtWQAoPlWAODIEACAWE8AgCNDAGCuCgDA+zkA4AZaAADUMADg/RwAAHNVAICNWwAgoQcAYBgjAAA1DADAz2oAgMJnAMCaXgDAkSEAIHU4AMAwRgBAdxsA4DtmAIBPEgAAqGEAQEtMAODRTQDgcHIAYCFgAEBCDwCgJSYAQB99AKAuYwBgVmwAoIYBAID3cwBA6nAAABJ6AAB8kgAgs4EAgCyAAMAEdwCgY28AYIt4AMBujwDg2ooAIElpACB+dQAAR4YAYMCEACDojQCAYYwAQFSJAMA5gwDgD5cAQImVAGD1kACAlpgA4KV+AKDNhwCAy6QAIFKmAKCYewAAsZ4AYF+pAEC+oQDgRKMAYJS1AEDzrQCgN6AAoAKUAMDYpwAgh7IAwKObAGAqnQDgea8AAOaqAKBsrAAAG7cAQCi6ACAdmgCANb0AAAAAAGDJwQCgobgAgACxACC8vgDADbQAgGrJAABQwwDg48cAQF3GAOCuuwCg1sQA4BjUAGD+zQDAd8wAAIXPAICf1QAg8coAICbXAOBN4ABAktIAQMfeAMCs2AAAutsAYDPaAKAL0QA=",
           "dtype": "i4"
          },
          "coloraxis": "coloraxis",
          "pattern": {
           "shape": ""
          }
         },
         "name": "",
         "orientation": "v",
         "showlegend": false,
         "text": {
          "bdata": "AAAAAACAT0AAAAAAAIBPQAAAAAAAgE9AAAAAAACATkAAAAAAAABOQAAAAAAAgE1AAAAAAAAATUAAAAAAAIBMQAAAAAAAAEtAAAAAAAAAS0AAAAAAAABLQAAAAAAAAEtAAAAAAAAAS0AAAAAAAIBKQAAAAAAAAEpAAAAAAAAASkAAAAAAAABKQAAAAAAAgElAAAAAAACASUAAAAAAAABJQAAAAAAAAElAAAAAAAAASUAAAAAAAABJQAAAAAAAAElAAAAAAACASEAAAAAAAIBIQAAAAAAAAEhAAAAAAAAASEAAAAAAAABIQAAAAAAAgEdAAAAAAACAR0AAAAAAAIBHQAAAAAAAgEdAAAAAAAAAR0AAAAAAAABHQAAAAAAAAEdAAAAAAAAAR0AAAAAAAIBGQAAAAAAAAEZAAAAAAAAARkAAAAAAAIBFQAAAAAAAgEVAAAAAAAAARUAAAAAAAABFQAAAAAAAgERAAAAAAACAREAAAAAAAIBEQAAAAAAAgERAAAAAAACAREAAAAAAAIBEQAAAAAAAAERAAAAAAAAAREAAAAAAAIBDQAAAAAAAgENAAAAAAAAAQ0AAAAAAAABDQAAAAAAAgEJAAAAAAACAQkAAAAAAAIBCQAAAAAAAAEJAAAAAAAAAQkAAAAAAAABCQAAAAAAAAEJAAAAAAACAQUAAAAAAAABBQAAAAAAAAEFAAAAAAAAAQUAAAAAAAABBQAAAAAAAgEBAAAAAAACAQEAAAAAAAABAQAAAAAAAAEBAAAAAAAAAP0AAAAAAAAA+QAAAAAAAAD5AAAAAAAAAPUAAAAAAAAA8QAAAAAAAADtAAAAAAAAAOkAAAAAAAAA5QAAAAAAAADhAAAAAAAAAOEAAAAAAAAA4QAAAAAAAADdAAAAAAAAAN0AAAAAAAAA3QAAAAAAAADZAAAAAAAAANkAAAAAAAAA2QAAAAAAAADVAAAAAAAAANUAAAAAAAAA1QAAAAAAAADRAAAAAAAAAMkAAAAAAAAAyQAAAAAAAADFAAAAAAAAAMEAAAAAAAAAwQAAAAAAAADBAAAAAAAAAMEAAAAAAAAAwQAAAAAAAADBAAAAAAAAAMEAAAAAAAAAuQAAAAAAAAC5AAAAAAAAALEAAAAAAAAAsQAAAAAAAACxAAAAAAAAALEAAAAAAAAAqQAAAAAAAACpAAAAAAAAAKkAAAAAAAAAoQAAAAAAAAChAAAAAAAAAJkAAAAAAAAAmQAAAAAAAACRAAAAAAAAAIkAAAAAAAAAiQAAAAAAAACJAAAAAAAAAIEAAAAAAAAAgQAAAAAAAACBAAAAAAAAAHEAAAAAAAAAcQAAAAAAAABhAAAAAAAAAGEAAAAAAAAAYQAAAAAAAABhAAAAAAAAAFEAAAAAAAAAUQAAAAAAAABRAAAAAAAAAEEAAAAAAAAAQQAAAAAAAABBAAAAAAAAACEAAAAAAAAAIQAAAAAAAAAhAAAAAAAAACEAAAAAAAAAAQAAAAAAAAABAAAAAAAAAAEAAAAAAAAAAQAAAAAAAAPA/AAAAAAAA8D8AAAAAAADwPw==",
          "dtype": "f8"
         },
         "textposition": "outside",
         "type": "bar",
         "x": {
          "bdata": "wFwVAKDESgCA7jYAIKpEAABqGADAZVIAoLsNACDWEwBg4xYAQOEzAEANAwCgjz4AAJ8kAKBaMgBg7FMAgIQeAAA+SQBAFkAAIEAsAGC3RwDgkwQAYE0vAIAaBgDAJwkA4DIpAMDGLQAgCyAAIN9QAGCCOwCAuSoAQKwnAECAWADgnEEAAAk9AOBnNQCg8BkAAN1tACAUXQBAtWQAoPlWAODIEACAWE8AgCNDAGCuCgDA+zkA4AZaAADUMADg/RwAAHNVAICNWwAgoQcAYBgjAAA1DADAz2oAgMJnAMCaXgDAkSEAIHU4AMAwRgBAdxsA4DtmAIBPEgAAqGEAQEtMAODRTQDgcHIAYCFgAEBCDwCgJSYAQB99AKAuYwBgVmwAoIYBAID3cwBA6nAAABJ6AAB8kgAgs4EAgCyAAMAEdwCgY28AYIt4AMBujwDg2ooAIElpACB+dQAAR4YAYMCEACDojQCAYYwAQFSJAMA5gwDgD5cAQImVAGD1kACAlpgA4KV+AKDNhwCAy6QAIFKmAKCYewAAsZ4AYF+pAEC+oQDgRKMAYJS1AEDzrQCgN6AAoAKUAMDYpwAgh7IAwKObAGAqnQDgea8AAOaqAKBsrAAAG7cAQCi6ACAdmgCANb0AAAAAAGDJwQCgobgAgACxACC8vgDADbQAgGrJAABQwwDg48cAQF3GAOCuuwCg1sQA4BjUAGD+zQDAd8wAAIXPAICf1QAg8coAICbXAOBN4ABAktIAQMfeAMCs2AAAutsAYDPaAKAL0QA=",
          "dtype": "i4"
         },
         "xaxis": "x",
         "y": {
          "bdata": "Pz8/PTw7Ojk2NjY2NjU0NDQzMzIyMjIyMTEwMDAvLy8vLi4uLi0sLCsrKiopKSkpKSkoKCcnJiYlJSUkJCQkIyIiIiIhISAgHx4eHRwbGhkYGBgXFxcWFhYVFRUUEhIREBAQEBAQEA8PDg4ODg0NDQwMCwsKCQkJCAgIBwcGBgYGBQUFBAQEAwMDAwICAgIBAQE=",
          "dtype": "i1"
         },
         "yaxis": "y"
        }
       ],
       "layout": {
        "barmode": "relative",
        "coloraxis": {
         "colorbar": {
          "title": {
           "text": "bank_asset_value"
          }
         },
         "colorscale": [
          [
           0,
           "#0d0887"
          ],
          [
           0.1111111111111111,
           "#46039f"
          ],
          [
           0.2222222222222222,
           "#7201a8"
          ],
          [
           0.3333333333333333,
           "#9c179e"
          ],
          [
           0.4444444444444444,
           "#bd3786"
          ],
          [
           0.5555555555555556,
           "#d8576b"
          ],
          [
           0.6666666666666666,
           "#ed7953"
          ],
          [
           0.7777777777777778,
           "#fb9f3a"
          ],
          [
           0.8888888888888888,
           "#fdca26"
          ],
          [
           1,
           "#f0f921"
          ]
         ]
        },
        "legend": {
         "tracegroupgap": 0
        },
        "template": {
         "data": {
          "bar": [
           {
            "error_x": {
             "color": "#2a3f5f"
            },
            "error_y": {
             "color": "#2a3f5f"
            },
            "marker": {
             "line": {
              "color": "#E5ECF6",
              "width": 0.5
             },
             "pattern": {
              "fillmode": "overlay",
              "size": 10,
              "solidity": 0.2
             }
            },
            "type": "bar"
           }
          ],
          "barpolar": [
           {
            "marker": {
             "line": {
              "color": "#E5ECF6",
              "width": 0.5
             },
             "pattern": {
              "fillmode": "overlay",
              "size": 10,
              "solidity": 0.2
             }
            },
            "type": "barpolar"
           }
          ],
          "carpet": [
           {
            "aaxis": {
             "endlinecolor": "#2a3f5f",
             "gridcolor": "white",
             "linecolor": "white",
             "minorgridcolor": "white",
             "startlinecolor": "#2a3f5f"
            },
            "baxis": {
             "endlinecolor": "#2a3f5f",
             "gridcolor": "white",
             "linecolor": "white",
             "minorgridcolor": "white",
             "startlinecolor": "#2a3f5f"
            },
            "type": "carpet"
           }
          ],
          "choropleth": [
           {
            "colorbar": {
             "outlinewidth": 0,
             "ticks": ""
            },
            "type": "choropleth"
           }
          ],
          "contour": [
           {
            "colorbar": {
             "outlinewidth": 0,
             "ticks": ""
            },
            "colorscale": [
             [
              0,
              "#0d0887"
             ],
             [
              0.1111111111111111,
              "#46039f"
             ],
             [
              0.2222222222222222,
              "#7201a8"
             ],
             [
              0.3333333333333333,
              "#9c179e"
             ],
             [
              0.4444444444444444,
              "#bd3786"
             ],
             [
              0.5555555555555556,
              "#d8576b"
             ],
             [
              0.6666666666666666,
              "#ed7953"
             ],
             [
              0.7777777777777778,
              "#fb9f3a"
             ],
             [
              0.8888888888888888,
              "#fdca26"
             ],
             [
              1,
              "#f0f921"
             ]
            ],
            "type": "contour"
           }
          ],
          "contourcarpet": [
           {
            "colorbar": {
             "outlinewidth": 0,
             "ticks": ""
            },
            "type": "contourcarpet"
           }
          ],
          "heatmap": [
           {
            "colorbar": {
             "outlinewidth": 0,
             "ticks": ""
            },
            "colorscale": [
             [
              0,
              "#0d0887"
             ],
             [
              0.1111111111111111,
              "#46039f"
             ],
             [
              0.2222222222222222,
              "#7201a8"
             ],
             [
              0.3333333333333333,
              "#9c179e"
             ],
             [
              0.4444444444444444,
              "#bd3786"
             ],
             [
              0.5555555555555556,
              "#d8576b"
             ],
             [
              0.6666666666666666,
              "#ed7953"
             ],
             [
              0.7777777777777778,
              "#fb9f3a"
             ],
             [
              0.8888888888888888,
              "#fdca26"
             ],
             [
              1,
              "#f0f921"
             ]
            ],
            "type": "heatmap"
           }
          ],
          "histogram": [
           {
            "marker": {
             "pattern": {
              "fillmode": "overlay",
              "size": 10,
              "solidity": 0.2
             }
            },
            "type": "histogram"
           }
          ],
          "histogram2d": [
           {
            "colorbar": {
             "outlinewidth": 0,
             "ticks": ""
            },
            "colorscale": [
             [
              0,
              "#0d0887"
             ],
             [
              0.1111111111111111,
              "#46039f"
             ],
             [
              0.2222222222222222,
              "#7201a8"
             ],
             [
              0.3333333333333333,
              "#9c179e"
             ],
             [
              0.4444444444444444,
              "#bd3786"
             ],
             [
              0.5555555555555556,
              "#d8576b"
             ],
             [
              0.6666666666666666,
              "#ed7953"
             ],
             [
              0.7777777777777778,
              "#fb9f3a"
             ],
             [
              0.8888888888888888,
              "#fdca26"
             ],
             [
              1,
              "#f0f921"
             ]
            ],
            "type": "histogram2d"
           }
          ],
          "histogram2dcontour": [
           {
            "colorbar": {
             "outlinewidth": 0,
             "ticks": ""
            },
            "colorscale": [
             [
              0,
              "#0d0887"
             ],
             [
              0.1111111111111111,
              "#46039f"
             ],
             [
              0.2222222222222222,
              "#7201a8"
             ],
             [
              0.3333333333333333,
              "#9c179e"
             ],
             [
              0.4444444444444444,
              "#bd3786"
             ],
             [
              0.5555555555555556,
              "#d8576b"
             ],
             [
              0.6666666666666666,
              "#ed7953"
             ],
             [
              0.7777777777777778,
              "#fb9f3a"
             ],
             [
              0.8888888888888888,
              "#fdca26"
             ],
             [
              1,
              "#f0f921"
             ]
            ],
            "type": "histogram2dcontour"
           }
          ],
          "mesh3d": [
           {
            "colorbar": {
             "outlinewidth": 0,
             "ticks": ""
            },
            "type": "mesh3d"
           }
          ],
          "parcoords": [
           {
            "line": {
             "colorbar": {
              "outlinewidth": 0,
              "ticks": ""
             }
            },
            "type": "parcoords"
           }
          ],
          "pie": [
           {
            "automargin": true,
            "type": "pie"
           }
          ],
          "scatter": [
           {
            "fillpattern": {
             "fillmode": "overlay",
             "size": 10,
             "solidity": 0.2
            },
            "type": "scatter"
           }
          ],
          "scatter3d": [
           {
            "line": {
             "colorbar": {
              "outlinewidth": 0,
              "ticks": ""
             }
            },
            "marker": {
             "colorbar": {
              "outlinewidth": 0,
              "ticks": ""
             }
            },
            "type": "scatter3d"
           }
          ],
          "scattercarpet": [
           {
            "marker": {
             "colorbar": {
              "outlinewidth": 0,
              "ticks": ""
             }
            },
            "type": "scattercarpet"
           }
          ],
          "scattergeo": [
           {
            "marker": {
             "colorbar": {
              "outlinewidth": 0,
              "ticks": ""
             }
            },
            "type": "scattergeo"
           }
          ],
          "scattergl": [
           {
            "marker": {
             "colorbar": {
              "outlinewidth": 0,
              "ticks": ""
             }
            },
            "type": "scattergl"
           }
          ],
          "scattermap": [
           {
            "marker": {
             "colorbar": {
              "outlinewidth": 0,
              "ticks": ""
             }
            },
            "type": "scattermap"
           }
          ],
          "scattermapbox": [
           {
            "marker": {
             "colorbar": {
              "outlinewidth": 0,
              "ticks": ""
             }
            },
            "type": "scattermapbox"
           }
          ],
          "scatterpolar": [
           {
            "marker": {
             "colorbar": {
              "outlinewidth": 0,
              "ticks": ""
             }
            },
            "type": "scatterpolar"
           }
          ],
          "scatterpolargl": [
           {
            "marker": {
             "colorbar": {
              "outlinewidth": 0,
              "ticks": ""
             }
            },
            "type": "scatterpolargl"
           }
          ],
          "scatterternary": [
           {
            "marker": {
             "colorbar": {
              "outlinewidth": 0,
              "ticks": ""
             }
            },
            "type": "scatterternary"
           }
          ],
          "surface": [
           {
            "colorbar": {
             "outlinewidth": 0,
             "ticks": ""
            },
            "colorscale": [
             [
              0,
              "#0d0887"
             ],
             [
              0.1111111111111111,
              "#46039f"
             ],
             [
              0.2222222222222222,
              "#7201a8"
             ],
             [
              0.3333333333333333,
              "#9c179e"
             ],
             [
              0.4444444444444444,
              "#bd3786"
             ],
             [
              0.5555555555555556,
              "#d8576b"
             ],
             [
              0.6666666666666666,
              "#ed7953"
             ],
             [
              0.7777777777777778,
              "#fb9f3a"
             ],
             [
              0.8888888888888888,
              "#fdca26"
             ],
             [
              1,
              "#f0f921"
             ]
            ],
            "type": "surface"
           }
          ],
          "table": [
           {
            "cells": {
             "fill": {
              "color": "#EBF0F8"
             },
             "line": {
              "color": "white"
             }
            },
            "header": {
             "fill": {
              "color": "#C8D4E3"
             },
             "line": {
              "color": "white"
             }
            },
            "type": "table"
           }
          ]
         },
         "layout": {
          "annotationdefaults": {
           "arrowcolor": "#2a3f5f",
           "arrowhead": 0,
           "arrowwidth": 1
          },
          "autotypenumbers": "strict",
          "coloraxis": {
           "colorbar": {
            "outlinewidth": 0,
            "ticks": ""
           }
          },
          "colorscale": {
           "diverging": [
            [
             0,
             "#8e0152"
            ],
            [
             0.1,
             "#c51b7d"
            ],
            [
             0.2,
             "#de77ae"
            ],
            [
             0.3,
             "#f1b6da"
            ],
            [
             0.4,
             "#fde0ef"
            ],
            [
             0.5,
             "#f7f7f7"
            ],
            [
             0.6,
             "#e6f5d0"
            ],
            [
             0.7,
             "#b8e186"
            ],
            [
             0.8,
             "#7fbc41"
            ],
            [
             0.9,
             "#4d9221"
            ],
            [
             1,
             "#276419"
            ]
           ],
           "sequential": [
            [
             0,
             "#0d0887"
            ],
            [
             0.1111111111111111,
             "#46039f"
            ],
            [
             0.2222222222222222,
             "#7201a8"
            ],
            [
             0.3333333333333333,
             "#9c179e"
            ],
            [
             0.4444444444444444,
             "#bd3786"
            ],
            [
             0.5555555555555556,
             "#d8576b"
            ],
            [
             0.6666666666666666,
             "#ed7953"
            ],
            [
             0.7777777777777778,
             "#fb9f3a"
            ],
            [
             0.8888888888888888,
             "#fdca26"
            ],
            [
             1,
             "#f0f921"
            ]
           ],
           "sequentialminus": [
            [
             0,
             "#0d0887"
            ],
            [
             0.1111111111111111,
             "#46039f"
            ],
            [
             0.2222222222222222,
             "#7201a8"
            ],
            [
             0.3333333333333333,
             "#9c179e"
            ],
            [
             0.4444444444444444,
             "#bd3786"
            ],
            [
             0.5555555555555556,
             "#d8576b"
            ],
            [
             0.6666666666666666,
             "#ed7953"
            ],
            [
             0.7777777777777778,
             "#fb9f3a"
            ],
            [
             0.8888888888888888,
             "#fdca26"
            ],
            [
             1,
             "#f0f921"
            ]
           ]
          },
          "colorway": [
           "#636efa",
           "#EF553B",
           "#00cc96",
           "#ab63fa",
           "#FFA15A",
           "#19d3f3",
           "#FF6692",
           "#B6E880",
           "#FF97FF",
           "#FECB52"
          ],
          "font": {
           "color": "#2a3f5f"
          },
          "geo": {
           "bgcolor": "white",
           "lakecolor": "white",
           "landcolor": "#E5ECF6",
           "showlakes": true,
           "showland": true,
           "subunitcolor": "white"
          },
          "hoverlabel": {
           "align": "left"
          },
          "hovermode": "closest",
          "mapbox": {
           "style": "light"
          },
          "paper_bgcolor": "white",
          "plot_bgcolor": "#E5ECF6",
          "polar": {
           "angularaxis": {
            "gridcolor": "white",
            "linecolor": "white",
            "ticks": ""
           },
           "bgcolor": "#E5ECF6",
           "radialaxis": {
            "gridcolor": "white",
            "linecolor": "white",
            "ticks": ""
           }
          },
          "scene": {
           "xaxis": {
            "backgroundcolor": "#E5ECF6",
            "gridcolor": "white",
            "gridwidth": 2,
            "linecolor": "white",
            "showbackground": true,
            "ticks": "",
            "zerolinecolor": "white"
           },
           "yaxis": {
            "backgroundcolor": "#E5ECF6",
            "gridcolor": "white",
            "gridwidth": 2,
            "linecolor": "white",
            "showbackground": true,
            "ticks": "",
            "zerolinecolor": "white"
           },
           "zaxis": {
            "backgroundcolor": "#E5ECF6",
            "gridcolor": "white",
            "gridwidth": 2,
            "linecolor": "white",
            "showbackground": true,
            "ticks": "",
            "zerolinecolor": "white"
           }
          },
          "shapedefaults": {
           "line": {
            "color": "#2a3f5f"
           }
          },
          "ternary": {
           "aaxis": {
            "gridcolor": "white",
            "linecolor": "white",
            "ticks": ""
           },
           "baxis": {
            "gridcolor": "white",
            "linecolor": "white",
            "ticks": ""
           },
           "bgcolor": "#E5ECF6",
           "caxis": {
            "gridcolor": "white",
            "linecolor": "white",
            "ticks": ""
           }
          },
          "title": {
           "x": 0.05
          },
          "xaxis": {
           "automargin": true,
           "gridcolor": "white",
           "linecolor": "white",
           "ticks": "",
           "title": {
            "standoff": 15
           },
           "zerolinecolor": "white",
           "zerolinewidth": 2
          },
          "yaxis": {
           "automargin": true,
           "gridcolor": "white",
           "linecolor": "white",
           "ticks": "",
           "title": {
            "standoff": 15
           },
           "zerolinecolor": "white",
           "zerolinewidth": 2
          }
         }
        },
        "title": {
         "text": "Distribution of bank_asset_value"
        },
        "xaxis": {
         "anchor": "y",
         "domain": [
          0,
          1
         ],
         "title": {
          "text": "bank_asset_value"
         }
        },
        "yaxis": {
         "anchor": "x",
         "domain": [
          0,
          1
         ],
         "title": {
          "text": "count"
         }
        }
       }
      }
     },
     "metadata": {},
     "output_type": "display_data"
    }
   ],
   "source": [
    "\n",
    "\n",
    "cat_cols = [\n",
    "    'no_of_dependents',\n",
    "    'education',\n",
    "    'self_employed',\n",
    "    'residential_assets_value',\n",
    "    'commercial_assets_value',\n",
    "    'luxury_assets_value',\n",
    "    'bank_asset_value'\n",
    "]\n",
    "\n",
    "for col in cat_cols:\n",
    "    temp_df = df[col].value_counts().reset_index()\n",
    "    temp_df.columns = [col, 'count']  # rename columns properly\n",
    "    fig = px.bar(\n",
    "        temp_df,\n",
    "        x=col,\n",
    "        y='count',\n",
    "        title=f'Distribution of {col}',\n",
    "        color=col,\n",
    "        text='count'\n",
    "    )\n",
    "    fig.update_traces(textposition='outside')\n",
    "    fig.show()\n"
   ]
  },
  {
   "cell_type": "code",
   "execution_count": 78,
   "id": "e2f4281d",
   "metadata": {},
   "outputs": [
    {
     "data": {
      "application/vnd.microsoft.datawrangler.viewer.v0+json": {
       "columns": [
        {
         "name": "no_of_dependents",
         "rawType": "int64",
         "type": "integer"
        },
        {
         "name": " Approved",
         "rawType": "float64",
         "type": "float"
        },
        {
         "name": " Rejected",
         "rawType": "float64",
         "type": "float"
        }
       ],
       "ref": "3c0abebe-a2c9-4163-a944-dd13fb3128cb",
       "rows": [
        [
         "0",
         "0.6418539325842697",
         "0.35814606741573035"
        ],
        [
         "1",
         "0.6169296987087518",
         "0.3830703012912482"
        ],
        [
         "2",
         "0.6228813559322034",
         "0.3771186440677966"
        ],
        [
         "3",
         "0.6286107290233838",
         "0.3713892709766162"
        ],
        [
         "4",
         "0.6183510638297872",
         "0.3816489361702128"
        ],
        [
         "5",
         "0.6032689450222882",
         "0.3967310549777117"
        ]
       ],
       "shape": {
        "columns": 2,
        "rows": 6
       }
      },
      "text/html": [
       "<div>\n",
       "<style scoped>\n",
       "    .dataframe tbody tr th:only-of-type {\n",
       "        vertical-align: middle;\n",
       "    }\n",
       "\n",
       "    .dataframe tbody tr th {\n",
       "        vertical-align: top;\n",
       "    }\n",
       "\n",
       "    .dataframe thead th {\n",
       "        text-align: right;\n",
       "    }\n",
       "</style>\n",
       "<table border=\"1\" class=\"dataframe\">\n",
       "  <thead>\n",
       "    <tr style=\"text-align: right;\">\n",
       "      <th>loan_status</th>\n",
       "      <th>Approved</th>\n",
       "      <th>Rejected</th>\n",
       "    </tr>\n",
       "    <tr>\n",
       "      <th>no_of_dependents</th>\n",
       "      <th></th>\n",
       "      <th></th>\n",
       "    </tr>\n",
       "  </thead>\n",
       "  <tbody>\n",
       "    <tr>\n",
       "      <th>0</th>\n",
       "      <td>0.641854</td>\n",
       "      <td>0.358146</td>\n",
       "    </tr>\n",
       "    <tr>\n",
       "      <th>1</th>\n",
       "      <td>0.616930</td>\n",
       "      <td>0.383070</td>\n",
       "    </tr>\n",
       "    <tr>\n",
       "      <th>2</th>\n",
       "      <td>0.622881</td>\n",
       "      <td>0.377119</td>\n",
       "    </tr>\n",
       "    <tr>\n",
       "      <th>3</th>\n",
       "      <td>0.628611</td>\n",
       "      <td>0.371389</td>\n",
       "    </tr>\n",
       "    <tr>\n",
       "      <th>4</th>\n",
       "      <td>0.618351</td>\n",
       "      <td>0.381649</td>\n",
       "    </tr>\n",
       "    <tr>\n",
       "      <th>5</th>\n",
       "      <td>0.603269</td>\n",
       "      <td>0.396731</td>\n",
       "    </tr>\n",
       "  </tbody>\n",
       "</table>\n",
       "</div>"
      ],
      "text/plain": [
       "loan_status       Approved  Rejected\n",
       "no_of_dependents                    \n",
       "0                 0.641854  0.358146\n",
       "1                 0.616930  0.383070\n",
       "2                 0.622881  0.377119\n",
       "3                 0.628611  0.371389\n",
       "4                 0.618351  0.381649\n",
       "5                 0.603269  0.396731"
      ]
     },
     "metadata": {},
     "output_type": "display_data"
    },
    {
     "data": {
      "image/png": "[encoded data removed]",
      "text/plain": [
       "<Figure size 640x480 with 1 Axes>"
      ]
     },
     "metadata": {},
     "output_type": "display_data"
    },
    {
     "data": {
      "application/vnd.microsoft.datawrangler.viewer.v0+json": {
       "columns": [
        {
         "name": "education",
         "rawType": "object",
         "type": "string"
        },
        {
         "name": " Approved",
         "rawType": "float64",
         "type": "float"
        },
        {
         "name": " Rejected",
         "rawType": "float64",
         "type": "float"
        }
       ],
       "ref": "9f0a02ac-807e-44ea-8faa-c4aa95a8400a",
       "rows": [
        [
         " Graduate",
         "0.6245335820895522",
         "0.37546641791044777"
        ],
        [
         " Not Graduate",
         "0.619764705882353",
         "0.38023529411764706"
        ]
       ],
       "shape": {
        "columns": 2,
        "rows": 2
       }
      },
      "text/html": [
       "<div>\n",
       "<style scoped>\n",
       "    .dataframe tbody tr th:only-of-type {\n",
       "        vertical-align: middle;\n",
       "    }\n",
       "\n",
       "    .dataframe tbody tr th {\n",
       "        vertical-align: top;\n",
       "    }\n",
       "\n",
       "    .dataframe thead th {\n",
       "        text-align: right;\n",
       "    }\n",
       "</style>\n",
       "<table border=\"1\" class=\"dataframe\">\n",
       "  <thead>\n",
       "    <tr style=\"text-align: right;\">\n",
       "      <th>loan_status</th>\n",
       "      <th>Approved</th>\n",
       "      <th>Rejected</th>\n",
       "    </tr>\n",
       "    <tr>\n",
       "      <th>education</th>\n",
       "      <th></th>\n",
       "      <th></th>\n",
       "    </tr>\n",
       "  </thead>\n",
       "  <tbody>\n",
       "    <tr>\n",
       "      <th>Graduate</th>\n",
       "      <td>0.624534</td>\n",
       "      <td>0.375466</td>\n",
       "    </tr>\n",
       "    <tr>\n",
       "      <th>Not Graduate</th>\n",
       "      <td>0.619765</td>\n",
       "      <td>0.380235</td>\n",
       "    </tr>\n",
       "  </tbody>\n",
       "</table>\n",
       "</div>"
      ],
      "text/plain": [
       "loan_status   Approved  Rejected\n",
       "education                       \n",
       "Graduate      0.624534  0.375466\n",
       "Not Graduate  0.619765  0.380235"
      ]
     },
     "metadata": {},
     "output_type": "display_data"
    },
    {
     "data": {
      "image/png": "[encoded data removed]",
      "text/plain": [
       "<Figure size 640x480 with 1 Axes>"
      ]
     },
     "metadata": {},
     "output_type": "display_data"
    },
    {
     "data": {
      "application/vnd.microsoft.datawrangler.viewer.v0+json": {
       "columns": [
        {
         "name": "self_employed",
         "rawType": "object",
         "type": "string"
        },
        {
         "name": " Approved",
         "rawType": "float64",
         "type": "float"
        },
        {
         "name": " Rejected",
         "rawType": "float64",
         "type": "float"
        }
       ],
       "ref": "418df09b-6a69-464c-bf48-6cfee8646e43",
       "rows": [
        [
         " No",
         "0.6219915054270883",
         "0.37800849457291175"
        ],
        [
         " Yes",
         "0.6223255813953489",
         "0.3776744186046512"
        ]
       ],
       "shape": {
        "columns": 2,
        "rows": 2
       }
      },
      "text/html": [
       "<div>\n",
       "<style scoped>\n",
       "    .dataframe tbody tr th:only-of-type {\n",
       "        vertical-align: middle;\n",
       "    }\n",
       "\n",
       "    .dataframe tbody tr th {\n",
       "        vertical-align: top;\n",
       "    }\n",
       "\n",
       "    .dataframe thead th {\n",
       "        text-align: right;\n",
       "    }\n",
       "</style>\n",
       "<table border=\"1\" class=\"dataframe\">\n",
       "  <thead>\n",
       "    <tr style=\"text-align: right;\">\n",
       "      <th>loan_status</th>\n",
       "      <th>Approved</th>\n",
       "      <th>Rejected</th>\n",
       "    </tr>\n",
       "    <tr>\n",
       "      <th>self_employed</th>\n",
       "      <th></th>\n",
       "      <th></th>\n",
       "    </tr>\n",
       "  </thead>\n",
       "  <tbody>\n",
       "    <tr>\n",
       "      <th>No</th>\n",
       "      <td>0.621992</td>\n",
       "      <td>0.378008</td>\n",
       "    </tr>\n",
       "    <tr>\n",
       "      <th>Yes</th>\n",
       "      <td>0.622326</td>\n",
       "      <td>0.377674</td>\n",
       "    </tr>\n",
       "  </tbody>\n",
       "</table>\n",
       "</div>"
      ],
      "text/plain": [
       "loan_status    Approved  Rejected\n",
       "self_employed                    \n",
       "No             0.621992  0.378008\n",
       "Yes            0.622326  0.377674"
      ]
     },
     "metadata": {},
     "output_type": "display_data"
    },
    {
     "data": {
      "image/png": "[encoded data removed]",
      "text/plain": [
       "<Figure size 640x480 with 1 Axes>"
      ]
     },
     "metadata": {},
     "output_type": "display_data"
    },
    {
     "data": {
      "application/vnd.microsoft.datawrangler.viewer.v0+json": {
       "columns": [
        {
         "name": "residential_assets_value",
         "rawType": "int64",
         "type": "integer"
        },
        {
         "name": " Approved",
         "rawType": "float64",
         "type": "float"
        },
        {
         "name": " Rejected",
         "rawType": "float64",
         "type": "float"
        }
       ],
       "ref": "7840bc16-2fe1-48ce-8529-b41c7b089da3",
       "rows": [
        [
         "-100000",
         "0.5714285714285714",
         "0.42857142857142855"
        ],
        [
         "0",
         "0.6222222222222222",
         "0.37777777777777777"
        ],
        [
         "100000",
         "0.55",
         "0.45"
        ],
        [
         "200000",
         "0.64",
         "0.36"
        ],
        [
         "300000",
         "0.6538461538461539",
         "0.34615384615384615"
        ],
        [
         "400000",
         "0.6363636363636364",
         "0.36363636363636365"
        ],
        [
         "500000",
         "0.6507936507936508",
         "0.3492063492063492"
        ],
        [
         "600000",
         "0.6964285714285714",
         "0.30357142857142855"
        ],
        [
         "700000",
         "0.6153846153846154",
         "0.38461538461538464"
        ],
        [
         "800000",
         "0.5555555555555556",
         "0.4444444444444444"
        ],
        [
         "900000",
         "0.6458333333333334",
         "0.3541666666666667"
        ],
        [
         "1000000",
         "0.5789473684210527",
         "0.42105263157894735"
        ],
        [
         "1100000",
         "0.7368421052631579",
         "0.2631578947368421"
        ],
        [
         "1200000",
         "0.6666666666666666",
         "0.3333333333333333"
        ],
        [
         "1300000",
         "0.7090909090909091",
         "0.2909090909090909"
        ],
        [
         "1400000",
         "0.7209302325581395",
         "0.27906976744186046"
        ],
        [
         "1500000",
         "0.475",
         "0.525"
        ],
        [
         "1600000",
         "0.6904761904761905",
         "0.30952380952380953"
        ],
        [
         "1700000",
         "0.575",
         "0.425"
        ],
        [
         "1800000",
         "0.6129032258064516",
         "0.3870967741935484"
        ],
        [
         "1900000",
         "0.6829268292682927",
         "0.3170731707317073"
        ],
        [
         "2000000",
         "0.6111111111111112",
         "0.3888888888888889"
        ],
        [
         "2100000",
         "0.6774193548387096",
         "0.3225806451612903"
        ],
        [
         "2200000",
         "0.627906976744186",
         "0.37209302325581395"
        ],
        [
         "2300000",
         "0.5428571428571428",
         "0.45714285714285713"
        ],
        [
         "2400000",
         "0.675",
         "0.325"
        ],
        [
         "2500000",
         "0.71875",
         "0.28125"
        ],
        [
         "2600000",
         "0.5862068965517241",
         "0.41379310344827586"
        ],
        [
         "2700000",
         "0.5666666666666667",
         "0.43333333333333335"
        ],
        [
         "2800000",
         "0.59375",
         "0.40625"
        ],
        [
         "2900000",
         "0.5757575757575758",
         "0.42424242424242425"
        ],
        [
         "3000000",
         "0.5806451612903226",
         "0.41935483870967744"
        ],
        [
         "3100000",
         "0.6428571428571429",
         "0.35714285714285715"
        ],
        [
         "3200000",
         "0.58",
         "0.42"
        ],
        [
         "3300000",
         "0.5806451612903226",
         "0.41935483870967744"
        ],
        [
         "3400000",
         "0.6470588235294118",
         "0.35294117647058826"
        ],
        [
         "3500000",
         "0.625",
         "0.375"
        ],
        [
         "3600000",
         "0.7073170731707317",
         "0.2926829268292683"
        ],
        [
         "3700000",
         "0.7333333333333333",
         "0.26666666666666666"
        ],
        [
         "3800000",
         "0.6216216216216216",
         "0.3783783783783784"
        ],
        [
         "3900000",
         "0.7666666666666667",
         "0.23333333333333334"
        ],
        [
         "4000000",
         "0.42857142857142855",
         "0.5714285714285714"
        ],
        [
         "4100000",
         "0.6129032258064516",
         "0.3870967741935484"
        ],
        [
         "4200000",
         "0.71875",
         "0.28125"
        ],
        [
         "4300000",
         "0.5925925925925926",
         "0.4074074074074074"
        ],
        [
         "4400000",
         "0.6428571428571429",
         "0.35714285714285715"
        ],
        [
         "4500000",
         "0.6153846153846154",
         "0.38461538461538464"
        ],
        [
         "4600000",
         "0.72",
         "0.28"
        ],
        [
         "4700000",
         "0.7368421052631579",
         "0.2631578947368421"
        ],
        [
         "4800000",
         "0.6923076923076923",
         "0.3076923076923077"
        ]
       ],
       "shape": {
        "columns": 2,
        "rows": 278
       }
      },
      "text/html": [
       "<div>\n",
       "<style scoped>\n",
       "    .dataframe tbody tr th:only-of-type {\n",
       "        vertical-align: middle;\n",
       "    }\n",
       "\n",
       "    .dataframe tbody tr th {\n",
       "        vertical-align: top;\n",
       "    }\n",
       "\n",
       "    .dataframe thead th {\n",
       "        text-align: right;\n",
       "    }\n",
       "</style>\n",
       "<table border=\"1\" class=\"dataframe\">\n",
       "  <thead>\n",
       "    <tr style=\"text-align: right;\">\n",
       "      <th>loan_status</th>\n",
       "      <th>Approved</th>\n",
       "      <th>Rejected</th>\n",
       "    </tr>\n",
       "    <tr>\n",
       "      <th>residential_assets_value</th>\n",
       "      <th></th>\n",
       "      <th></th>\n",
       "    </tr>\n",
       "  </thead>\n",
       "  <tbody>\n",
       "    <tr>\n",
       "      <th>-100000</th>\n",
       "      <td>0.571429</td>\n",
       "      <td>0.428571</td>\n",
       "    </tr>\n",
       "    <tr>\n",
       "      <th>0</th>\n",
       "      <td>0.622222</td>\n",
       "      <td>0.377778</td>\n",
       "    </tr>\n",
       "    <tr>\n",
       "      <th>100000</th>\n",
       "      <td>0.550000</td>\n",
       "      <td>0.450000</td>\n",
       "    </tr>\n",
       "    <tr>\n",
       "      <th>200000</th>\n",
       "      <td>0.640000</td>\n",
       "      <td>0.360000</td>\n",
       "    </tr>\n",
       "    <tr>\n",
       "      <th>300000</th>\n",
       "      <td>0.653846</td>\n",
       "      <td>0.346154</td>\n",
       "    </tr>\n",
       "    <tr>\n",
       "      <th>...</th>\n",
       "      <td>...</td>\n",
       "      <td>...</td>\n",
       "    </tr>\n",
       "    <tr>\n",
       "      <th>28300000</th>\n",
       "      <td>1.000000</td>\n",
       "      <td>0.000000</td>\n",
       "    </tr>\n",
       "    <tr>\n",
       "      <th>28400000</th>\n",
       "      <td>1.000000</td>\n",
       "      <td>0.000000</td>\n",
       "    </tr>\n",
       "    <tr>\n",
       "      <th>28500000</th>\n",
       "      <td>0.500000</td>\n",
       "      <td>0.500000</td>\n",
       "    </tr>\n",
       "    <tr>\n",
       "      <th>28700000</th>\n",
       "      <td>0.000000</td>\n",
       "      <td>1.000000</td>\n",
       "    </tr>\n",
       "    <tr>\n",
       "      <th>29100000</th>\n",
       "      <td>1.000000</td>\n",
       "      <td>0.000000</td>\n",
       "    </tr>\n",
       "  </tbody>\n",
       "</table>\n",
       "<p>278 rows × 2 columns</p>\n",
       "</div>"
      ],
      "text/plain": [
       "loan_status               Approved  Rejected\n",
       "residential_assets_value                    \n",
       "-100000                   0.571429  0.428571\n",
       " 0                        0.622222  0.377778\n",
       " 100000                   0.550000  0.450000\n",
       " 200000                   0.640000  0.360000\n",
       " 300000                   0.653846  0.346154\n",
       "...                            ...       ...\n",
       " 28300000                 1.000000  0.000000\n",
       " 28400000                 1.000000  0.000000\n",
       " 28500000                 0.500000  0.500000\n",
       " 28700000                 0.000000  1.000000\n",
       " 29100000                 1.000000  0.000000\n",
       "\n",
       "[278 rows x 2 columns]"
      ]
     },
     "metadata": {},
     "output_type": "display_data"
    },
    {
     "data": {
      "image/png": "[encoded data removed]",
      "text/plain": [
       "<Figure size 640x480 with 1 Axes>"
      ]
     },
     "metadata": {},
     "output_type": "display_data"
    },
    {
     "data": {
      "application/vnd.microsoft.datawrangler.viewer.v0+json": {
       "columns": [
        {
         "name": "commercial_assets_value",
         "rawType": "int64",
         "type": "integer"
        },
        {
         "name": " Approved",
         "rawType": "float64",
         "type": "float"
        },
        {
         "name": " Rejected",
         "rawType": "float64",
         "type": "float"
        }
       ],
       "ref": "5114ba8c-c2fb-42bd-a777-faf7c287fe81",
       "rows": [
        [
         "0",
         "0.6074766355140186",
         "0.3925233644859813"
        ],
        [
         "100000",
         "0.62",
         "0.38"
        ],
        [
         "200000",
         "0.6336633663366337",
         "0.36633663366336633"
        ],
        [
         "300000",
         "0.5777777777777777",
         "0.4222222222222222"
        ],
        [
         "400000",
         "0.5915492957746479",
         "0.4084507042253521"
        ],
        [
         "500000",
         "0.6024096385542169",
         "0.39759036144578314"
        ],
        [
         "600000",
         "0.6714285714285714",
         "0.32857142857142857"
        ],
        [
         "700000",
         "0.6351351351351351",
         "0.36486486486486486"
        ],
        [
         "800000",
         "0.618421052631579",
         "0.3815789473684211"
        ],
        [
         "900000",
         "0.6538461538461539",
         "0.34615384615384615"
        ],
        [
         "1000000",
         "0.6567164179104478",
         "0.34328358208955223"
        ],
        [
         "1100000",
         "0.559322033898305",
         "0.4406779661016949"
        ],
        [
         "1200000",
         "0.5714285714285714",
         "0.42857142857142855"
        ],
        [
         "1300000",
         "0.6129032258064516",
         "0.3870967741935484"
        ],
        [
         "1400000",
         "0.5192307692307693",
         "0.4807692307692308"
        ],
        [
         "1500000",
         "0.5849056603773585",
         "0.41509433962264153"
        ],
        [
         "1600000",
         "0.7142857142857143",
         "0.2857142857142857"
        ],
        [
         "1700000",
         "0.6666666666666666",
         "0.3333333333333333"
        ],
        [
         "1800000",
         "0.6923076923076923",
         "0.3076923076923077"
        ],
        [
         "1900000",
         "0.7",
         "0.3"
        ],
        [
         "2000000",
         "0.5434782608695652",
         "0.45652173913043476"
        ],
        [
         "2100000",
         "0.5777777777777777",
         "0.4222222222222222"
        ],
        [
         "2200000",
         "0.5714285714285714",
         "0.42857142857142855"
        ],
        [
         "2300000",
         "0.5952380952380952",
         "0.40476190476190477"
        ],
        [
         "2400000",
         "0.6071428571428571",
         "0.39285714285714285"
        ],
        [
         "2500000",
         "0.6046511627906976",
         "0.3953488372093023"
        ],
        [
         "2600000",
         "0.4883720930232558",
         "0.5116279069767442"
        ],
        [
         "2700000",
         "0.7608695652173914",
         "0.2391304347826087"
        ],
        [
         "2800000",
         "0.6666666666666666",
         "0.3333333333333333"
        ],
        [
         "2900000",
         "0.6666666666666666",
         "0.3333333333333333"
        ],
        [
         "3000000",
         "0.6875",
         "0.3125"
        ],
        [
         "3100000",
         "0.7073170731707317",
         "0.2926829268292683"
        ],
        [
         "3200000",
         "0.64",
         "0.36"
        ],
        [
         "3300000",
         "0.575",
         "0.425"
        ],
        [
         "3400000",
         "0.6842105263157895",
         "0.3157894736842105"
        ],
        [
         "3500000",
         "0.6341463414634146",
         "0.36585365853658536"
        ],
        [
         "3600000",
         "0.7333333333333333",
         "0.26666666666666666"
        ],
        [
         "3700000",
         "0.717391304347826",
         "0.2826086956521739"
        ],
        [
         "3800000",
         "0.5142857142857142",
         "0.4857142857142857"
        ],
        [
         "3900000",
         "0.7567567567567568",
         "0.24324324324324326"
        ],
        [
         "4000000",
         "0.6521739130434783",
         "0.34782608695652173"
        ],
        [
         "4100000",
         "0.6296296296296297",
         "0.37037037037037035"
        ],
        [
         "4200000",
         "0.6756756756756757",
         "0.32432432432432434"
        ],
        [
         "4300000",
         "0.5588235294117647",
         "0.4411764705882353"
        ],
        [
         "4400000",
         "0.5",
         "0.5"
        ],
        [
         "4500000",
         "0.5294117647058824",
         "0.47058823529411764"
        ],
        [
         "4600000",
         "0.6451612903225806",
         "0.3548387096774194"
        ],
        [
         "4700000",
         "0.6785714285714286",
         "0.32142857142857145"
        ],
        [
         "4800000",
         "0.5161290322580645",
         "0.4838709677419355"
        ],
        [
         "4900000",
         "0.5555555555555556",
         "0.4444444444444444"
        ]
       ],
       "shape": {
        "columns": 2,
        "rows": 188
       }
      },
      "text/html": [
       "<div>\n",
       "<style scoped>\n",
       "    .dataframe tbody tr th:only-of-type {\n",
       "        vertical-align: middle;\n",
       "    }\n",
       "\n",
       "    .dataframe tbody tr th {\n",
       "        vertical-align: top;\n",
       "    }\n",
       "\n",
       "    .dataframe thead th {\n",
       "        text-align: right;\n",
       "    }\n",
       "</style>\n",
       "<table border=\"1\" class=\"dataframe\">\n",
       "  <thead>\n",
       "    <tr style=\"text-align: right;\">\n",
       "      <th>loan_status</th>\n",
       "      <th>Approved</th>\n",
       "      <th>Rejected</th>\n",
       "    </tr>\n",
       "    <tr>\n",
       "      <th>commercial_assets_value</th>\n",
       "      <th></th>\n",
       "      <th></th>\n",
       "    </tr>\n",
       "  </thead>\n",
       "  <tbody>\n",
       "    <tr>\n",
       "      <th>0</th>\n",
       "      <td>0.607477</td>\n",
       "      <td>0.392523</td>\n",
       "    </tr>\n",
       "    <tr>\n",
       "      <th>100000</th>\n",
       "      <td>0.620000</td>\n",
       "      <td>0.380000</td>\n",
       "    </tr>\n",
       "    <tr>\n",
       "      <th>200000</th>\n",
       "      <td>0.633663</td>\n",
       "      <td>0.366337</td>\n",
       "    </tr>\n",
       "    <tr>\n",
       "      <th>300000</th>\n",
       "      <td>0.577778</td>\n",
       "      <td>0.422222</td>\n",
       "    </tr>\n",
       "    <tr>\n",
       "      <th>400000</th>\n",
       "      <td>0.591549</td>\n",
       "      <td>0.408451</td>\n",
       "    </tr>\n",
       "    <tr>\n",
       "      <th>...</th>\n",
       "      <td>...</td>\n",
       "      <td>...</td>\n",
       "    </tr>\n",
       "    <tr>\n",
       "      <th>18700000</th>\n",
       "      <td>0.000000</td>\n",
       "      <td>1.000000</td>\n",
       "    </tr>\n",
       "    <tr>\n",
       "      <th>18800000</th>\n",
       "      <td>0.000000</td>\n",
       "      <td>1.000000</td>\n",
       "    </tr>\n",
       "    <tr>\n",
       "      <th>18900000</th>\n",
       "      <td>1.000000</td>\n",
       "      <td>0.000000</td>\n",
       "    </tr>\n",
       "    <tr>\n",
       "      <th>19000000</th>\n",
       "      <td>1.000000</td>\n",
       "      <td>0.000000</td>\n",
       "    </tr>\n",
       "    <tr>\n",
       "      <th>19400000</th>\n",
       "      <td>1.000000</td>\n",
       "      <td>0.000000</td>\n",
       "    </tr>\n",
       "  </tbody>\n",
       "</table>\n",
       "<p>188 rows × 2 columns</p>\n",
       "</div>"
      ],
      "text/plain": [
       "loan_status              Approved  Rejected\n",
       "commercial_assets_value                    \n",
       "0                        0.607477  0.392523\n",
       "100000                   0.620000  0.380000\n",
       "200000                   0.633663  0.366337\n",
       "300000                   0.577778  0.422222\n",
       "400000                   0.591549  0.408451\n",
       "...                           ...       ...\n",
       "18700000                 0.000000  1.000000\n",
       "18800000                 0.000000  1.000000\n",
       "18900000                 1.000000  0.000000\n",
       "19000000                 1.000000  0.000000\n",
       "19400000                 1.000000  0.000000\n",
       "\n",
       "[188 rows x 2 columns]"
      ]
     },
     "metadata": {},
     "output_type": "display_data"
    },
    {
     "data": {
      "image/png": "[encoded data removed]",
      "text/plain": [
       "<Figure size 640x480 with 1 Axes>"
      ]
     },
     "metadata": {},
     "output_type": "display_data"
    },
    {
     "data": {
      "application/vnd.microsoft.datawrangler.viewer.v0+json": {
       "columns": [
        {
         "name": "luxury_assets_value",
         "rawType": "int64",
         "type": "integer"
        },
        {
         "name": " Approved",
         "rawType": "float64",
         "type": "float"
        },
        {
         "name": " Rejected",
         "rawType": "float64",
         "type": "float"
        }
       ],
       "ref": "3be5ab7f-558a-432f-80d2-36d72f6abb53",
       "rows": [
        [
         "300000",
         "0.75",
         "0.25"
        ],
        [
         "400000",
         "0.7",
         "0.3"
        ],
        [
         "500000",
         "0.6428571428571429",
         "0.35714285714285715"
        ],
        [
         "600000",
         "0.6428571428571429",
         "0.35714285714285715"
        ],
        [
         "700000",
         "0.5714285714285714",
         "0.42857142857142855"
        ],
        [
         "800000",
         "0.5625",
         "0.4375"
        ],
        [
         "900000",
         "0.7692307692307693",
         "0.23076923076923078"
        ],
        [
         "1000000",
         "0.75",
         "0.25"
        ],
        [
         "1100000",
         "0.7894736842105263",
         "0.21052631578947367"
        ],
        [
         "1200000",
         "0.5",
         "0.5"
        ],
        [
         "1300000",
         "0.8",
         "0.2"
        ],
        [
         "1400000",
         "0.8",
         "0.2"
        ],
        [
         "1500000",
         "0.5714285714285714",
         "0.42857142857142855"
        ],
        [
         "1600000",
         "0.6428571428571429",
         "0.35714285714285715"
        ],
        [
         "1700000",
         "0.5384615384615384",
         "0.46153846153846156"
        ],
        [
         "1800000",
         "0.6111111111111112",
         "0.3888888888888889"
        ],
        [
         "1900000",
         "0.6111111111111112",
         "0.3888888888888889"
        ],
        [
         "2000000",
         "0.6842105263157895",
         "0.3157894736842105"
        ],
        [
         "2100000",
         "0.631578947368421",
         "0.3684210526315789"
        ],
        [
         "2200000",
         "0.6190476190476191",
         "0.38095238095238093"
        ],
        [
         "2300000",
         "0.6666666666666666",
         "0.3333333333333333"
        ],
        [
         "2400000",
         "0.6363636363636364",
         "0.36363636363636365"
        ],
        [
         "2500000",
         "0.7142857142857143",
         "0.2857142857142857"
        ],
        [
         "2600000",
         "0.7692307692307693",
         "0.23076923076923078"
        ],
        [
         "2700000",
         "0.5454545454545454",
         "0.45454545454545453"
        ],
        [
         "2800000",
         "0.6153846153846154",
         "0.38461538461538464"
        ],
        [
         "2900000",
         "0.5",
         "0.5"
        ],
        [
         "3000000",
         "0.46153846153846156",
         "0.5384615384615384"
        ],
        [
         "3100000",
         "0.5384615384615384",
         "0.46153846153846156"
        ],
        [
         "3200000",
         "0.47058823529411764",
         "0.5294117647058824"
        ],
        [
         "3300000",
         "0.6666666666666666",
         "0.3333333333333333"
        ],
        [
         "3400000",
         "0.8",
         "0.2"
        ],
        [
         "3500000",
         "0.5",
         "0.5"
        ],
        [
         "3600000",
         "0.7",
         "0.3"
        ],
        [
         "3700000",
         "0.65",
         "0.35"
        ],
        [
         "3800000",
         "0.75",
         "0.25"
        ],
        [
         "3900000",
         "0.5",
         "0.5"
        ],
        [
         "4000000",
         "0.6666666666666666",
         "0.3333333333333333"
        ],
        [
         "4100000",
         "0.7857142857142857",
         "0.21428571428571427"
        ],
        [
         "4200000",
         "0.6363636363636364",
         "0.36363636363636365"
        ],
        [
         "4300000",
         "0.6111111111111112",
         "0.3888888888888889"
        ],
        [
         "4400000",
         "0.6875",
         "0.3125"
        ],
        [
         "4500000",
         "0.7333333333333333",
         "0.26666666666666666"
        ],
        [
         "4600000",
         "0.8333333333333334",
         "0.16666666666666666"
        ],
        [
         "4700000",
         "0.6153846153846154",
         "0.38461538461538464"
        ],
        [
         "4800000",
         "0.7222222222222222",
         "0.2777777777777778"
        ],
        [
         "4900000",
         "0.6428571428571429",
         "0.35714285714285715"
        ],
        [
         "5000000",
         "0.4166666666666667",
         "0.5833333333333334"
        ],
        [
         "5100000",
         "0.9166666666666666",
         "0.08333333333333333"
        ],
        [
         "5200000",
         "0.5555555555555556",
         "0.4444444444444444"
        ]
       ],
       "shape": {
        "columns": 2,
        "rows": 379
       }
      },
      "text/html": [
       "<div>\n",
       "<style scoped>\n",
       "    .dataframe tbody tr th:only-of-type {\n",
       "        vertical-align: middle;\n",
       "    }\n",
       "\n",
       "    .dataframe tbody tr th {\n",
       "        vertical-align: top;\n",
       "    }\n",
       "\n",
       "    .dataframe thead th {\n",
       "        text-align: right;\n",
       "    }\n",
       "</style>\n",
       "<table border=\"1\" class=\"dataframe\">\n",
       "  <thead>\n",
       "    <tr style=\"text-align: right;\">\n",
       "      <th>loan_status</th>\n",
       "      <th>Approved</th>\n",
       "      <th>Rejected</th>\n",
       "    </tr>\n",
       "    <tr>\n",
       "      <th>luxury_assets_value</th>\n",
       "      <th></th>\n",
       "      <th></th>\n",
       "    </tr>\n",
       "  </thead>\n",
       "  <tbody>\n",
       "    <tr>\n",
       "      <th>300000</th>\n",
       "      <td>0.750000</td>\n",
       "      <td>0.250000</td>\n",
       "    </tr>\n",
       "    <tr>\n",
       "      <th>400000</th>\n",
       "      <td>0.700000</td>\n",
       "      <td>0.300000</td>\n",
       "    </tr>\n",
       "    <tr>\n",
       "      <th>500000</th>\n",
       "      <td>0.642857</td>\n",
       "      <td>0.357143</td>\n",
       "    </tr>\n",
       "    <tr>\n",
       "      <th>600000</th>\n",
       "      <td>0.642857</td>\n",
       "      <td>0.357143</td>\n",
       "    </tr>\n",
       "    <tr>\n",
       "      <th>700000</th>\n",
       "      <td>0.571429</td>\n",
       "      <td>0.428571</td>\n",
       "    </tr>\n",
       "    <tr>\n",
       "      <th>...</th>\n",
       "      <td>...</td>\n",
       "      <td>...</td>\n",
       "    </tr>\n",
       "    <tr>\n",
       "      <th>38100000</th>\n",
       "      <td>1.000000</td>\n",
       "      <td>0.000000</td>\n",
       "    </tr>\n",
       "    <tr>\n",
       "      <th>38200000</th>\n",
       "      <td>0.500000</td>\n",
       "      <td>0.500000</td>\n",
       "    </tr>\n",
       "    <tr>\n",
       "      <th>38600000</th>\n",
       "      <td>1.000000</td>\n",
       "      <td>0.000000</td>\n",
       "    </tr>\n",
       "    <tr>\n",
       "      <th>39100000</th>\n",
       "      <td>0.000000</td>\n",
       "      <td>1.000000</td>\n",
       "    </tr>\n",
       "    <tr>\n",
       "      <th>39200000</th>\n",
       "      <td>0.000000</td>\n",
       "      <td>1.000000</td>\n",
       "    </tr>\n",
       "  </tbody>\n",
       "</table>\n",
       "<p>379 rows × 2 columns</p>\n",
       "</div>"
      ],
      "text/plain": [
       "loan_status          Approved  Rejected\n",
       "luxury_assets_value                    \n",
       "300000               0.750000  0.250000\n",
       "400000               0.700000  0.300000\n",
       "500000               0.642857  0.357143\n",
       "600000               0.642857  0.357143\n",
       "700000               0.571429  0.428571\n",
       "...                       ...       ...\n",
       "38100000             1.000000  0.000000\n",
       "38200000             0.500000  0.500000\n",
       "38600000             1.000000  0.000000\n",
       "39100000             0.000000  1.000000\n",
       "39200000             0.000000  1.000000\n",
       "\n",
       "[379 rows x 2 columns]"
      ]
     },
     "metadata": {},
     "output_type": "display_data"
    },
    {
     "data": {
      "image/png": "[encoded data removed]",
      "text/plain": [
       "<Figure size 640x480 with 1 Axes>"
      ]
     },
     "metadata": {},
     "output_type": "display_data"
    },
    {
     "data": {
      "application/vnd.microsoft.datawrangler.viewer.v0+json": {
       "columns": [
        {
         "name": "bank_asset_value",
         "rawType": "int64",
         "type": "integer"
        },
        {
         "name": " Approved",
         "rawType": "float64",
         "type": "float"
        },
        {
         "name": " Rejected",
         "rawType": "float64",
         "type": "float"
        }
       ],
       "ref": "879ab339-fa01-4107-9d2c-21016221718e",
       "rows": [
        [
         "0",
         "0.625",
         "0.375"
        ],
        [
         "100000",
         "0.5806451612903226",
         "0.41935483870967744"
        ],
        [
         "200000",
         "0.6666666666666666",
         "0.3333333333333333"
        ],
        [
         "300000",
         "0.6",
         "0.4"
        ],
        [
         "400000",
         "0.74",
         "0.26"
        ],
        [
         "500000",
         "0.8",
         "0.2"
        ],
        [
         "600000",
         "0.66",
         "0.34"
        ],
        [
         "700000",
         "0.5476190476190477",
         "0.4523809523809524"
        ],
        [
         "800000",
         "0.48717948717948717",
         "0.5128205128205128"
        ],
        [
         "900000",
         "0.6896551724137931",
         "0.3103448275862069"
        ],
        [
         "1000000",
         "0.5882352941176471",
         "0.4117647058823529"
        ],
        [
         "1100000",
         "0.7209302325581395",
         "0.27906976744186046"
        ],
        [
         "1200000",
         "0.6666666666666666",
         "0.3333333333333333"
        ],
        [
         "1300000",
         "0.6491228070175439",
         "0.3508771929824561"
        ],
        [
         "1400000",
         "0.5714285714285714",
         "0.42857142857142855"
        ],
        [
         "1500000",
         "0.6481481481481481",
         "0.35185185185185186"
        ],
        [
         "1600000",
         "0.7",
         "0.3"
        ],
        [
         "1700000",
         "0.6956521739130435",
         "0.30434782608695654"
        ],
        [
         "1800000",
         "0.6111111111111112",
         "0.3888888888888889"
        ],
        [
         "1900000",
         "0.6097560975609756",
         "0.3902439024390244"
        ],
        [
         "2000000",
         "0.5192307692307693",
         "0.4807692307692308"
        ],
        [
         "2100000",
         "0.625",
         "0.375"
        ],
        [
         "2200000",
         "0.5135135135135135",
         "0.4864864864864865"
        ],
        [
         "2300000",
         "0.675",
         "0.325"
        ],
        [
         "2400000",
         "0.6296296296296297",
         "0.37037037037037035"
        ],
        [
         "2500000",
         "0.6666666666666666",
         "0.3333333333333333"
        ],
        [
         "2600000",
         "0.6382978723404256",
         "0.3617021276595745"
        ],
        [
         "2700000",
         "0.6122448979591837",
         "0.3877551020408163"
        ],
        [
         "2800000",
         "0.6382978723404256",
         "0.3617021276595745"
        ],
        [
         "2900000",
         "0.5882352941176471",
         "0.4117647058823529"
        ],
        [
         "3000000",
         "0.673469387755102",
         "0.32653061224489793"
        ],
        [
         "3100000",
         "0.66",
         "0.34"
        ],
        [
         "3200000",
         "0.5853658536585366",
         "0.4146341463414634"
        ],
        [
         "3300000",
         "0.5660377358490566",
         "0.4339622641509434"
        ],
        [
         "3400000",
         "0.6111111111111112",
         "0.3888888888888889"
        ],
        [
         "3500000",
         "0.6086956521739131",
         "0.391304347826087"
        ],
        [
         "3600000",
         "0.5873015873015873",
         "0.4126984126984127"
        ],
        [
         "3700000",
         "0.5675675675675675",
         "0.43243243243243246"
        ],
        [
         "3800000",
         "0.6097560975609756",
         "0.3902439024390244"
        ],
        [
         "3900000",
         "0.625",
         "0.375"
        ],
        [
         "4000000",
         "0.6304347826086957",
         "0.3695652173913043"
        ],
        [
         "4100000",
         "0.5740740740740741",
         "0.42592592592592593"
        ],
        [
         "4200000",
         "0.7058823529411765",
         "0.29411764705882354"
        ],
        [
         "4300000",
         "0.5106382978723404",
         "0.48936170212765956"
        ],
        [
         "4400000",
         "0.7619047619047619",
         "0.23809523809523808"
        ],
        [
         "4500000",
         "0.5901639344262295",
         "0.4098360655737705"
        ],
        [
         "4600000",
         "0.43243243243243246",
         "0.5675675675675675"
        ],
        [
         "4700000",
         "0.54",
         "0.46"
        ],
        [
         "4800000",
         "0.5961538461538461",
         "0.40384615384615385"
        ],
        [
         "4900000",
         "0.6031746031746031",
         "0.3968253968253968"
        ]
       ],
       "shape": {
        "columns": 2,
        "rows": 146
       }
      },
      "text/html": [
       "<div>\n",
       "<style scoped>\n",
       "    .dataframe tbody tr th:only-of-type {\n",
       "        vertical-align: middle;\n",
       "    }\n",
       "\n",
       "    .dataframe tbody tr th {\n",
       "        vertical-align: top;\n",
       "    }\n",
       "\n",
       "    .dataframe thead th {\n",
       "        text-align: right;\n",
       "    }\n",
       "</style>\n",
       "<table border=\"1\" class=\"dataframe\">\n",
       "  <thead>\n",
       "    <tr style=\"text-align: right;\">\n",
       "      <th>loan_status</th>\n",
       "      <th>Approved</th>\n",
       "      <th>Rejected</th>\n",
       "    </tr>\n",
       "    <tr>\n",
       "      <th>bank_asset_value</th>\n",
       "      <th></th>\n",
       "      <th></th>\n",
       "    </tr>\n",
       "  </thead>\n",
       "  <tbody>\n",
       "    <tr>\n",
       "      <th>0</th>\n",
       "      <td>0.625000</td>\n",
       "      <td>0.375000</td>\n",
       "    </tr>\n",
       "    <tr>\n",
       "      <th>100000</th>\n",
       "      <td>0.580645</td>\n",
       "      <td>0.419355</td>\n",
       "    </tr>\n",
       "    <tr>\n",
       "      <th>200000</th>\n",
       "      <td>0.666667</td>\n",
       "      <td>0.333333</td>\n",
       "    </tr>\n",
       "    <tr>\n",
       "      <th>300000</th>\n",
       "      <td>0.600000</td>\n",
       "      <td>0.400000</td>\n",
       "    </tr>\n",
       "    <tr>\n",
       "      <th>400000</th>\n",
       "      <td>0.740000</td>\n",
       "      <td>0.260000</td>\n",
       "    </tr>\n",
       "    <tr>\n",
       "      <th>...</th>\n",
       "      <td>...</td>\n",
       "      <td>...</td>\n",
       "    </tr>\n",
       "    <tr>\n",
       "      <th>14200000</th>\n",
       "      <td>0.500000</td>\n",
       "      <td>0.500000</td>\n",
       "    </tr>\n",
       "    <tr>\n",
       "      <th>14300000</th>\n",
       "      <td>1.000000</td>\n",
       "      <td>0.000000</td>\n",
       "    </tr>\n",
       "    <tr>\n",
       "      <th>14400000</th>\n",
       "      <td>0.000000</td>\n",
       "      <td>1.000000</td>\n",
       "    </tr>\n",
       "    <tr>\n",
       "      <th>14600000</th>\n",
       "      <td>0.500000</td>\n",
       "      <td>0.500000</td>\n",
       "    </tr>\n",
       "    <tr>\n",
       "      <th>14700000</th>\n",
       "      <td>0.500000</td>\n",
       "      <td>0.500000</td>\n",
       "    </tr>\n",
       "  </tbody>\n",
       "</table>\n",
       "<p>146 rows × 2 columns</p>\n",
       "</div>"
      ],
      "text/plain": [
       "loan_status       Approved  Rejected\n",
       "bank_asset_value                    \n",
       "0                 0.625000  0.375000\n",
       "100000            0.580645  0.419355\n",
       "200000            0.666667  0.333333\n",
       "300000            0.600000  0.400000\n",
       "400000            0.740000  0.260000\n",
       "...                    ...       ...\n",
       "14200000          0.500000  0.500000\n",
       "14300000          1.000000  0.000000\n",
       "14400000          0.000000  1.000000\n",
       "14600000          0.500000  0.500000\n",
       "14700000          0.500000  0.500000\n",
       "\n",
       "[146 rows x 2 columns]"
      ]
     },
     "metadata": {},
     "output_type": "display_data"
    },
    {
     "data": {
      "image/png": "[encoded data removed]",
      "text/plain": [
       "<Figure size 640x480 with 1 Axes>"
      ]
     },
     "metadata": {},
     "output_type": "display_data"
    }
   ],
   "source": [
    "for col in cat_cols:\n",
    "    display(pd.crosstab(df[col], df['loan_status'], normalize='index'))\n",
    "    sns.countplot(data=df, x=col, hue='loan_status')\n",
    "    plt.title(f'{col} vs Loan_Status')\n",
    "    plt.show()\n"
   ]
  },
  {
   "cell_type": "code",
   "execution_count": 79,
   "id": "11be2939",
   "metadata": {},
   "outputs": [
    {
     "data": {
      "text/plain": [
       "Text(0.5, 1.0, 'ApplicantIncome by Loan_Status')"
      ]
     },
     "execution_count": 79,
     "metadata": {},
     "output_type": "execute_result"
    },
    {
     "data": {
      "image/png": "[encoded data removed]",
      "text/plain": [
       "<Figure size 640x480 with 1 Axes>"
      ]
     },
     "metadata": {},
     "output_type": "display_data"
    }
   ],
   "source": [
    "sns.boxplot(data=df, x='loan_status', y='income_annum')\n",
    "plt.title('ApplicantIncome by Loan_Status')\n"
   ]
  },
  {
   "cell_type": "code",
   "execution_count": 80,
   "id": "f8127194",
   "metadata": {},
   "outputs": [
    {
     "data": {
      "text/plain": [
       "<Axes: >"
      ]
     },
     "execution_count": 80,
     "metadata": {},
     "output_type": "execute_result"
    },
    {
     "data": {
      "image/png": "[encoded data removed]",
      "text/plain": [
       "<Figure size 640x480 with 2 Axes>"
      ]
     },
     "metadata": {},
     "output_type": "display_data"
    }
   ],
   "source": [
    "sns.heatmap(df[num_cols].corr(), annot=True, cmap='coolwarm')\n"
   ]
  },
  {
   "cell_type": "markdown",
   "id": "38141d9e",
   "metadata": {},
   "source": [
    "### Preprocessing"
   ]
  },
  {
   "cell_type": "code",
   "execution_count": 126,
   "id": "ffb3314e",
   "metadata": {},
   "outputs": [
    {
     "name": "stdout",
     "output_type": "stream",
     "text": [
      "Possible target columns: ['loan_status']\n"
     ]
    }
   ],
   "source": [
    "print(\"Possible target columns:\", [col for col in df.columns if 'status' in col.lower()])\n"
   ]
  },
  {
   "cell_type": "code",
   "execution_count": 127,
   "id": "4a9a07d8",
   "metadata": {},
   "outputs": [
    {
     "name": "stdout",
     "output_type": "stream",
     "text": [
      "Unique values in loan_status before cleaning:\n",
      "[' Approved' ' Rejected']\n"
     ]
    }
   ],
   "source": [
    "print(\"Unique values in loan_status before cleaning:\")\n",
    "print(df['loan_status'].unique())\n"
   ]
  },
  {
   "cell_type": "code",
   "execution_count": 130,
   "id": "7f5afbe6",
   "metadata": {},
   "outputs": [],
   "source": [
    "# Convert to string, strip spaces, and uppercase\n",
    "df['loan_status'] = df['loan_status'].astype(str).str.strip().str.upper()\n",
    "\n",
    "# Map to Y/N\n",
    "df['loan_status'] = df['loan_status'].replace({\n",
    "    'APPROVED':'Y', 'REJECTED':'N', \n",
    "})\n"
   ]
  },
  {
   "cell_type": "code",
   "execution_count": 131,
   "id": "7785977a",
   "metadata": {},
   "outputs": [
    {
     "data": {
      "application/vnd.microsoft.datawrangler.viewer.v0+json": {
       "columns": [
        {
         "name": "index",
         "rawType": "int64",
         "type": "integer"
        },
        {
         "name": "loan_id",
         "rawType": "int64",
         "type": "integer"
        },
        {
         "name": "no_of_dependents",
         "rawType": "int64",
         "type": "integer"
        },
        {
         "name": "education",
         "rawType": "object",
         "type": "string"
        },
        {
         "name": "self_employed",
         "rawType": "object",
         "type": "string"
        },
        {
         "name": "income_annum",
         "rawType": "int64",
         "type": "integer"
        },
        {
         "name": "loan_amount",
         "rawType": "int64",
         "type": "integer"
        },
        {
         "name": "loan_term",
         "rawType": "int64",
         "type": "integer"
        },
        {
         "name": "cibil_score",
         "rawType": "int64",
         "type": "integer"
        },
        {
         "name": "residential_assets_value",
         "rawType": "int64",
         "type": "integer"
        },
        {
         "name": "commercial_assets_value",
         "rawType": "int64",
         "type": "integer"
        },
        {
         "name": "luxury_assets_value",
         "rawType": "int64",
         "type": "integer"
        },
        {
         "name": "bank_asset_value",
         "rawType": "int64",
         "type": "integer"
        },
        {
         "name": "loan_status",
         "rawType": "object",
         "type": "string"
        }
       ],
       "ref": "d3057936-8d93-40e9-b80e-f0eaa89cc0c4",
       "rows": [
        [
         "0",
         "1",
         "2",
         " Graduate",
         " No",
         "9600000",
         "29900000",
         "12",
         "778",
         "2400000",
         "17600000",
         "22700000",
         "8000000",
         "Y"
        ],
        [
         "1",
         "2",
         "0",
         " Not Graduate",
         " Yes",
         "4100000",
         "12200000",
         "8",
         "417",
         "2700000",
         "2200000",
         "8800000",
         "3300000",
         "N"
        ],
        [
         "2",
         "3",
         "3",
         " Graduate",
         " No",
         "9100000",
         "29700000",
         "20",
         "506",
         "7100000",
         "4500000",
         "33300000",
         "12800000",
         "N"
        ],
        [
         "3",
         "4",
         "3",
         " Graduate",
         " No",
         "8200000",
         "30700000",
         "8",
         "467",
         "18200000",
         "3300000",
         "23300000",
         "7900000",
         "N"
        ],
        [
         "4",
         "5",
         "5",
         " Not Graduate",
         " Yes",
         "9800000",
         "24200000",
         "20",
         "382",
         "12400000",
         "8200000",
         "29400000",
         "5000000",
         "N"
        ]
       ],
       "shape": {
        "columns": 13,
        "rows": 5
       }
      },
      "text/html": [
       "<div>\n",
       "<style scoped>\n",
       "    .dataframe tbody tr th:only-of-type {\n",
       "        vertical-align: middle;\n",
       "    }\n",
       "\n",
       "    .dataframe tbody tr th {\n",
       "        vertical-align: top;\n",
       "    }\n",
       "\n",
       "    .dataframe thead th {\n",
       "        text-align: right;\n",
       "    }\n",
       "</style>\n",
       "<table border=\"1\" class=\"dataframe\">\n",
       "  <thead>\n",
       "    <tr style=\"text-align: right;\">\n",
       "      <th></th>\n",
       "      <th>loan_id</th>\n",
       "      <th>no_of_dependents</th>\n",
       "      <th>education</th>\n",
       "      <th>self_employed</th>\n",
       "      <th>income_annum</th>\n",
       "      <th>loan_amount</th>\n",
       "      <th>loan_term</th>\n",
       "      <th>cibil_score</th>\n",
       "      <th>residential_assets_value</th>\n",
       "      <th>commercial_assets_value</th>\n",
       "      <th>luxury_assets_value</th>\n",
       "      <th>bank_asset_value</th>\n",
       "      <th>loan_status</th>\n",
       "    </tr>\n",
       "  </thead>\n",
       "  <tbody>\n",
       "    <tr>\n",
       "      <th>0</th>\n",
       "      <td>1</td>\n",
       "      <td>2</td>\n",
       "      <td>Graduate</td>\n",
       "      <td>No</td>\n",
       "      <td>9600000</td>\n",
       "      <td>29900000</td>\n",
       "      <td>12</td>\n",
       "      <td>778</td>\n",
       "      <td>2400000</td>\n",
       "      <td>17600000</td>\n",
       "      <td>22700000</td>\n",
       "      <td>8000000</td>\n",
       "      <td>Y</td>\n",
       "    </tr>\n",
       "    <tr>\n",
       "      <th>1</th>\n",
       "      <td>2</td>\n",
       "      <td>0</td>\n",
       "      <td>Not Graduate</td>\n",
       "      <td>Yes</td>\n",
       "      <td>4100000</td>\n",
       "      <td>12200000</td>\n",
       "      <td>8</td>\n",
       "      <td>417</td>\n",
       "      <td>2700000</td>\n",
       "      <td>2200000</td>\n",
       "      <td>8800000</td>\n",
       "      <td>3300000</td>\n",
       "      <td>N</td>\n",
       "    </tr>\n",
       "    <tr>\n",
       "      <th>2</th>\n",
       "      <td>3</td>\n",
       "      <td>3</td>\n",
       "      <td>Graduate</td>\n",
       "      <td>No</td>\n",
       "      <td>9100000</td>\n",
       "      <td>29700000</td>\n",
       "      <td>20</td>\n",
       "      <td>506</td>\n",
       "      <td>7100000</td>\n",
       "      <td>4500000</td>\n",
       "      <td>33300000</td>\n",
       "      <td>12800000</td>\n",
       "      <td>N</td>\n",
       "    </tr>\n",
       "    <tr>\n",
       "      <th>3</th>\n",
       "      <td>4</td>\n",
       "      <td>3</td>\n",
       "      <td>Graduate</td>\n",
       "      <td>No</td>\n",
       "      <td>8200000</td>\n",
       "      <td>30700000</td>\n",
       "      <td>8</td>\n",
       "      <td>467</td>\n",
       "      <td>18200000</td>\n",
       "      <td>3300000</td>\n",
       "      <td>23300000</td>\n",
       "      <td>7900000</td>\n",
       "      <td>N</td>\n",
       "    </tr>\n",
       "    <tr>\n",
       "      <th>4</th>\n",
       "      <td>5</td>\n",
       "      <td>5</td>\n",
       "      <td>Not Graduate</td>\n",
       "      <td>Yes</td>\n",
       "      <td>9800000</td>\n",
       "      <td>24200000</td>\n",
       "      <td>20</td>\n",
       "      <td>382</td>\n",
       "      <td>12400000</td>\n",
       "      <td>8200000</td>\n",
       "      <td>29400000</td>\n",
       "      <td>5000000</td>\n",
       "      <td>N</td>\n",
       "    </tr>\n",
       "  </tbody>\n",
       "</table>\n",
       "</div>"
      ],
      "text/plain": [
       "   loan_id  no_of_dependents  ... bank_asset_value loan_status\n",
       "0        1                 2  ...          8000000           Y\n",
       "1        2                 0  ...          3300000           N\n",
       "2        3                 3  ...         12800000           N\n",
       "3        4                 3  ...          7900000           N\n",
       "4        5                 5  ...          5000000           N\n",
       "\n",
       "[5 rows x 13 columns]"
      ]
     },
     "execution_count": 131,
     "metadata": {},
     "output_type": "execute_result"
    }
   ],
   "source": [
    "df.head()"
   ]
  },
  {
   "cell_type": "code",
   "execution_count": 132,
   "id": "57542c4f",
   "metadata": {},
   "outputs": [
    {
     "name": "stdout",
     "output_type": "stream",
     "text": [
      "Missing values before cleaning:\n",
      "loan_id                     0\n",
      "no_of_dependents            0\n",
      "education                   0\n",
      "self_employed               0\n",
      "income_annum                0\n",
      "loan_amount                 0\n",
      "loan_term                   0\n",
      "cibil_score                 0\n",
      "residential_assets_value    0\n",
      "commercial_assets_value     0\n",
      "luxury_assets_value         0\n",
      "bank_asset_value            0\n",
      "loan_status                 0\n",
      "dtype: int64\n"
     ]
    }
   ],
   "source": [
    "print(\"Missing values before cleaning:\")\n",
    "print(df.isna().sum())\n",
    "\n",
    "# Drop rows where target is missing (if any)\n",
    "df = df.dropna(subset=['loan_status'])\n"
   ]
  },
  {
   "cell_type": "code",
   "execution_count": 133,
   "id": "de7600ca",
   "metadata": {},
   "outputs": [
    {
     "name": "stdout",
     "output_type": "stream",
     "text": [
      "Feature shape: (4269, 11)\n",
      "Target shape: (4269,)\n",
      "Missing values in y: 0\n"
     ]
    }
   ],
   "source": [
    "target = 'loan_status'\n",
    "\n",
    "# Drop unique IDs or unnecessary identifiers\n",
    "drop_cols = [c for c in ['loan_id'] if c in df.columns]\n",
    "X = df.drop(columns=drop_cols + [target])\n",
    "y = df[target].map({'Y':1, 'N':0})\n",
    "\n",
    "print(\"Feature shape:\", X.shape)\n",
    "print(\"Target shape:\", y.shape)\n",
    "print(\"Missing values in y:\", y.isna().sum())\n"
   ]
  },
  {
   "cell_type": "code",
   "execution_count": 134,
   "id": "804ab980",
   "metadata": {},
   "outputs": [],
   "source": [
    "num_pipeline = Pipeline([\n",
    "    ('imputer', SimpleImputer(strategy='median')),\n",
    "    ('scaler', StandardScaler())\n",
    "])\n",
    "\n",
    "cat_pipeline = Pipeline([\n",
    "    ('imputer', SimpleImputer(strategy='most_frequent')),\n",
    "    ('encoder', OneHotEncoder(handle_unknown='ignore', sparse_output=False))\n",
    "])\n",
    "\n",
    "preprocessor = ColumnTransformer([\n",
    "    ('num', num_pipeline, num_cols),\n",
    "    ('cat', cat_pipeline, cat_cols)\n",
    "])\n"
   ]
  },
  {
   "cell_type": "markdown",
   "id": "eda9e40b",
   "metadata": {},
   "source": [
    "### Train_Test_Splitting"
   ]
  },
  {
   "cell_type": "code",
   "execution_count": 135,
   "id": "60df271b",
   "metadata": {},
   "outputs": [
    {
     "name": "stdout",
     "output_type": "stream",
     "text": [
      "Train shape: (3415, 11), Test shape: (854, 11)\n"
     ]
    }
   ],
   "source": [
    "X_train, X_test, y_train, y_test = train_test_split(\n",
    "    X, y, test_size=0.2, stratify=y, random_state=42\n",
    ")\n",
    "\n",
    "print(f\"Train shape: {X_train.shape}, Test shape: {X_test.shape}\")\n",
    "\n"
   ]
  },
  {
   "cell_type": "code",
   "execution_count": 136,
   "id": "5e2fceec",
   "metadata": {},
   "outputs": [],
   "source": [
    "preprocessor.fit(X_train)\n",
    "X_train_prep = preprocessor.transform(X_train)\n",
    "X_test_prep = preprocessor.transform(X_test)"
   ]
  },
  {
   "cell_type": "markdown",
   "id": "cd97307c",
   "metadata": {},
   "source": [
    "### Model Fitting"
   ]
  },
  {
   "cell_type": "code",
   "execution_count": 137,
   "id": "3bbfb5ff",
   "metadata": {},
   "outputs": [],
   "source": [
    "# Logistic Regression baseline\n",
    "lr = LogisticRegression(max_iter=1000, class_weight=None)  # we'll try class_weight later\n",
    "lr.fit(X_train_prep, y_train)\n",
    "y_pred_lr = lr.predict(X_test_prep)\n",
    "y_prob_lr = lr.predict_proba(X_test_prep)[:,1]\n",
    "\n",
    "# Decision Tree baseline\n",
    "dt = DecisionTreeClassifier(random_state=42)\n",
    "dt.fit(X_train_prep, y_train)\n",
    "y_pred_dt = dt.predict(X_test_prep)\n",
    "y_prob_dt = dt.predict_proba(X_test_prep)[:,1]\n"
   ]
  },
  {
   "cell_type": "code",
   "execution_count": 138,
   "id": "d5095e76",
   "metadata": {},
   "outputs": [
    {
     "name": "stdout",
     "output_type": "stream",
     "text": [
      "Logistic Regression\n",
      "              precision    recall  f1-score   support\n",
      "\n",
      "           0     0.8839    0.8483    0.8657       323\n",
      "           1     0.9099    0.9322    0.9209       531\n",
      "\n",
      "    accuracy                         0.9005       854\n",
      "   macro avg     0.8969    0.8903    0.8933       854\n",
      "weighted avg     0.9001    0.9005    0.9000       854\n",
      "\n",
      "[[274  49]\n",
      " [ 36 495]]\n",
      "Decision Tree\n",
      "              precision    recall  f1-score   support\n",
      "\n",
      "           0     1.0000    0.9659    0.9827       323\n",
      "           1     0.9797    1.0000    0.9897       531\n",
      "\n",
      "    accuracy                         0.9871       854\n",
      "   macro avg     0.9899    0.9830    0.9862       854\n",
      "weighted avg     0.9874    0.9871    0.9871       854\n",
      "\n",
      "[[312  11]\n",
      " [  0 531]]\n"
     ]
    }
   ],
   "source": [
    "from sklearn.metrics import classification_report, confusion_matrix\n",
    "print(\"Logistic Regression\")\n",
    "print(classification_report(y_test, y_pred_lr, digits=4))\n",
    "print(confusion_matrix(y_test, y_pred_lr))\n",
    "\n",
    "print(\"Decision Tree\")\n",
    "print(classification_report(y_test, y_pred_dt, digits=4))\n",
    "print(confusion_matrix(y_test, y_pred_dt))\n"
   ]
  },
  {
   "cell_type": "markdown",
   "id": "caedf966",
   "metadata": {},
   "source": [
    "### Handling class imbalance by SMOTE"
   ]
  },
  {
   "cell_type": "code",
   "execution_count": 139,
   "id": "9623ab06",
   "metadata": {},
   "outputs": [],
   "source": [
    "smote = SMOTE(random_state=42, k_neighbors=5)\n",
    "\n",
    "# Use imbalanced-learn Pipeline so SMOTE is only applied on training fold in CV\n",
    "pipeline_lr = ImbPipeline([\n",
    "    ('pre', preprocessor),\n",
    "    ('smote', smote),\n",
    "    ('clf', LogisticRegression(max_iter=2000))\n",
    "])\n",
    "\n",
    "pipeline_dt = ImbPipeline([\n",
    "    ('pre', preprocessor),\n",
    "    ('smote', smote),\n",
    "    ('clf', DecisionTreeClassifier(random_state=42))\n",
    "])\n",
    "\n",
    "pipeline_lr.fit(X_train, y_train)\n",
    "pipeline_dt.fit(X_train, y_train)\n",
    "\n",
    "y_pred_lr_smote = pipeline_lr.predict(X_test)\n",
    "y_prob_lr_smote = pipeline_lr.predict_proba(X_test)[:,1]\n"
   ]
  },
  {
   "cell_type": "markdown",
   "id": "53dfb88e",
   "metadata": {},
   "source": [
    "### Model Tuning"
   ]
  },
  {
   "cell_type": "code",
   "execution_count": 146,
   "id": "df527c5e",
   "metadata": {},
   "outputs": [
    {
     "name": "stdout",
     "output_type": "stream",
     "text": [
      "Best LR params: {'clf__C': 0.01, 'clf__penalty': 'l2', 'clf__solver': 'lbfgs'}\n"
     ]
    }
   ],
   "source": [
    "cv = StratifiedKFold(n_splits=5, shuffle=True, random_state=42)\n",
    "\n",
    "param_grid_lr = {\n",
    "    'clf__C': [0.01, 0.1, 1, 10],\n",
    "    'clf__penalty': ['l2'],\n",
    "    'clf__solver': ['liblinear', 'lbfgs']\n",
    "}\n",
    "\n",
    "gs_lr = GridSearchCV(pipeline_lr, param_grid_lr, scoring='f1', cv=cv, n_jobs=-1)\n",
    "gs_lr.fit(X_train, y_train)\n",
    "\n",
    "print(\"Best LR params:\", gs_lr.best_params_)\n",
    "best_lr = gs_lr.best_estimator_\n"
   ]
  },
  {
   "cell_type": "code",
   "execution_count": 147,
   "id": "a10b5dc0",
   "metadata": {},
   "outputs": [
    {
     "name": "stdout",
     "output_type": "stream",
     "text": [
      "Best DT params: {'clf__criterion': 'entropy', 'clf__max_depth': None, 'clf__min_samples_leaf': 5}\n"
     ]
    }
   ],
   "source": [
    "param_grid_dt = {\n",
    "    'clf__max_depth': [3,5,7,10,None],\n",
    "    'clf__min_samples_leaf': [1,2,5,10],\n",
    "    'clf__criterion': ['gini','entropy']\n",
    "}\n",
    "gs_dt = GridSearchCV(pipeline_dt, param_grid_dt, scoring='f1', cv=cv, n_jobs=-1)\n",
    "gs_dt.fit(X_train, y_train)\n",
    "print(\"Best DT params:\", gs_dt.best_params_)\n",
    "best_dt = gs_dt.best_estimator_\n"
   ]
  },
  {
   "cell_type": "markdown",
   "id": "027ea33c",
   "metadata": {},
   "source": [
    "### Detailed Model Evaluation"
   ]
  },
  {
   "cell_type": "code",
   "execution_count": 150,
   "id": "5427844f",
   "metadata": {},
   "outputs": [
    {
     "data": {
      "image/png": "[encoded data removed]",
      "text/plain": [
       "<Figure size 640x480 with 2 Axes>"
      ]
     },
     "metadata": {},
     "output_type": "display_data"
    }
   ],
   "source": [
    "\n",
    "ConfusionMatrixDisplay.from_estimator(best_lr, X_test, y_test, display_labels=['N','Y'])\n",
    "plt.title(\"Confusion Matrix - Logistic Regression (SMOTE)\")\n",
    "plt.show()\n"
   ]
  },
  {
   "cell_type": "code",
   "execution_count": 151,
   "id": "8f66b2fa",
   "metadata": {},
   "outputs": [
    {
     "name": "stdout",
     "output_type": "stream",
     "text": [
      "              precision    recall  f1-score   support\n",
      "\n",
      "           0     0.8761    0.9628    0.9174       323\n",
      "           1     0.9760    0.9171    0.9456       531\n",
      "\n",
      "    accuracy                         0.9344       854\n",
      "   macro avg     0.9260    0.9400    0.9315       854\n",
      "weighted avg     0.9382    0.9344    0.9350       854\n",
      "\n"
     ]
    }
   ],
   "source": [
    "y_pred = best_lr.predict(X_test)\n",
    "print(classification_report(y_test, y_pred, digits=4))\n"
   ]
  },
  {
   "cell_type": "code",
   "execution_count": 152,
   "id": "e987bf78",
   "metadata": {},
   "outputs": [
    {
     "data": {
      "image/png": "[encoded data removed]",
      "text/plain": [
       "<Figure size 640x480 with 1 Axes>"
      ]
     },
     "metadata": {},
     "output_type": "display_data"
    }
   ],
   "source": [
    "fpr, tpr, _ = roc_curve(y_test, best_lr.predict_proba(X_test)[:,1])\n",
    "auc = roc_auc_score(y_test, best_lr.predict_proba(X_test)[:,1])\n",
    "plt.plot(fpr, tpr, label=f'AUC = {auc:.3f}')\n",
    "plt.plot([0,1],[0,1],'k--')\n",
    "plt.xlabel('FPR'); plt.ylabel('TPR'); plt.legend(); plt.title('ROC Curve')\n",
    "plt.show()\n"
   ]
  },
  {
   "cell_type": "code",
   "execution_count": 153,
   "id": "ec737d99",
   "metadata": {},
   "outputs": [
    {
     "data": {
      "image/png": "[encoded data removed]",
      "text/plain": [
       "<Figure size 640x480 with 1 Axes>"
      ]
     },
     "metadata": {},
     "output_type": "display_data"
    }
   ],
   "source": [
    "precision, recall, thresholds = precision_recall_curve(y_test, best_lr.predict_proba(X_test)[:,1])\n",
    "avg_prec = average_precision_score(y_test, best_lr.predict_proba(X_test)[:,1])\n",
    "plt.plot(recall, precision, label=f'AP = {avg_prec:.3f}')\n",
    "plt.xlabel('Recall'); plt.ylabel('Precision'); plt.title('Precision-Recall Curve')\n",
    "plt.legend(); plt.show()\n"
   ]
  },
  {
   "cell_type": "markdown",
   "id": "5ffcff01",
   "metadata": {},
   "source": [
    "### Threshold Tuning"
   ]
  },
  {
   "cell_type": "code",
   "execution_count": 154,
   "id": "c5c74717",
   "metadata": {},
   "outputs": [
    {
     "name": "stdout",
     "output_type": "stream",
     "text": [
      "threshold=0.25: precision=0.837, recall=0.974, f1=0.900\n",
      "threshold=0.4: precision=0.920, recall=0.951, f1=0.935\n",
      "threshold=0.5: precision=0.976, recall=0.917, f1=0.946\n",
      "threshold=0.6: precision=0.989, recall=0.851, f1=0.915\n"
     ]
    }
   ],
   "source": [
    "probs = best_lr.predict_proba(X_test)[:,1]\n",
    "for thresh in [0.25, 0.4, 0.5, 0.6]:\n",
    "    preds = (probs >= thresh).astype(int)\n",
    "    print(f\"threshold={thresh}: precision={precision_score(y_test,preds):.3f}, recall={recall_score(y_test,preds):.3f}, f1={f1_score(y_test,preds):.3f}\")\n"
   ]
  },
  {
   "cell_type": "code",
   "execution_count": 160,
   "id": "cdf7c7e6",
   "metadata": {},
   "outputs": [
    {
     "data": {
      "application/vnd.plotly.v1+json": {
       "config": {
        "plotlyServerURL": "https://plot.ly"
       },
       "data": [
        {
         "name": "Approved",
         "type": "bar",
         "x": {
          "bdata": "YHn+/wAAAACghgEAQA0DAOCTBACAGgYAIKEHAMAnCQBgrgoAADUMAKC7DQBAQg8A4MgQAIBPEgAg1hMAwFwVAGDjFgAAahgAoPAZAEB3GwDg/RwAgIQeACALIADAkSEAYBgjAACfJACgJSYAQKwnAOAyKQCAuSoAIEAsAMDGLQBgTS8AANQwAKBaMgBA4TMA4Gc1AIDuNgAgdTgAwPs5AGCCOwAACT0AoI8+AEAWQADgnEEAgCNDACCqRADAMEYAYLdHAAA+SQCgxEoAQEtMAODRTQCAWE8AIN9QAMBlUgBg7FMAAHNVAKD5VgBAgFgA4AZaAICNWwAgFF0AwJpeAGAhYAAAqGEAoC5jAEC1ZADgO2YAgMJnACBJaQDAz2oAYFZsAADdbQCgY28AQOpwAOBwcgCA93MAIH51AMAEdwBgi3gAABJ6AKCYewBAH30A4KV+AIAsgAAgs4EAwDmDAGDAhAAAR4YAoM2HAEBUiQDg2ooAgGGMACDojQDAbo8AYPWQAAB8kgCgApQAQImVAOAPlwCAlpgAIB2aAMCjmwBgKp0AALGeAKA3oABAvqEA4ESjAIDLpAAgUqYAwNinAGBfqQAA5qoAoGysAEDzrQDgea8AgACxACCHsgDADbQAYJS1AAAbtwCgobgAQCi6AOCuuwCANb0AILy+AMBCwABgycEAAFDDAKDWxABAXcYA4OPHAIBqyQAg8coAwHfMAGD+zQAAhc8AoAvRAECS0gDgGNQAgJ/VACAm1wDArNgAYDPaAAC62wCgQN0AQMfeAOBN4ACA1OEAIFvjAMDh5ABgaOYAAO/nAKB16QBA/OoA4ILsAIAJ7gAgkO8AwBbxAGCd8gAAJPQAoKr1AEAx9wDgt/gAgD76ACDF+wDAS/0AYNL+AABZAAGg3wEBQGYDAeDsBAGAcwYBIPoHAcCACQFgBwsBAI4MAaAUDgFAmw8B4CERAYCoEgEgLxQBwLUVAWA8FwEAwxgBoEkaAUDQGwHgVh0BgN0eASBkIAHA6iEBYHEjAQD4JAGgfiYBQAUoAeCLKQGAEisBIJksAcAfLgFgpi8BAC0xAaCzMgFAOjQB4MA1AYBHNwEgzjgBwFQ6AWDbOwEAYj0BoOg+AUBvQAHg9UEBgHxDASADRQHAiUYBYBBIAQCXSQGgHUsBQKRMAeAqTgGAsU8BIDhRAcC+UgFgRVQBAMxVAaBSVwFA2VgB4F9aAYDmWwEgbV0BwPNeAWB6YAEAAWIBoIdjAUAOZQHglGYBIKJpAcAoawFgr2wBADZuAaC8bwFAQ3EB4MlyAYBQdAEg13UBwF13AWDkeAEAa3oBoPF7AUB4fQHg/n4BgIWAASAMggHAkoMBYBmFAQCghgGgJogBQK2JAeAziwEgQY4BwMePAWBOkQFA4pUBgO+YASB2mgHA/JsBoJCgAUAXogHgnaMBgCSlAQA/qwFATK4B4NKvAYBZsQEg4LIBYO21AeAHvAE=",
          "dtype": "i4"
         },
         "y": {
          "bdata": "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",
          "dtype": "f8"
         }
        },
        {
         "name": "Rejected",
         "type": "bar",
         "x": {
          "bdata": "YHn+/wAAAACghgEAQA0DAOCTBACAGgYAIKEHAMAnCQBgrgoAADUMAKC7DQBAQg8A4MgQAIBPEgAg1hMAwFwVAGDjFgAAahgAoPAZAEB3GwDg/RwAgIQeACALIADAkSEAYBgjAACfJACgJSYAQKwnAOAyKQCAuSoAIEAsAMDGLQBgTS8AANQwAKBaMgBA4TMA4Gc1AIDuNgAgdTgAwPs5AGCCOwAACT0AoI8+AEAWQADgnEEAgCNDACCqRADAMEYAYLdHAAA+SQCgxEoAQEtMAODRTQCAWE8AIN9QAMBlUgBg7FMAAHNVAKD5VgBAgFgA4AZaAICNWwAgFF0AwJpeAGAhYAAAqGEAoC5jAEC1ZADgO2YAgMJnACBJaQDAz2oAYFZsAADdbQCgY28AQOpwAOBwcgCA93MAIH51AMAEdwBgi3gAABJ6AKCYewBAH30A4KV+AIAsgAAgs4EAwDmDAGDAhAAAR4YAoM2HAEBUiQDg2ooAgGGMACDojQDAbo8AYPWQAAB8kgCgApQAQImVAOAPlwCAlpgAIB2aAMCjmwBgKp0AALGeAKA3oABAvqEA4ESjAIDLpAAgUqYAwNinAGBfqQAA5qoAoGysAEDzrQDgea8AgACxACCHsgDADbQAYJS1AAAbtwCgobgAQCi6AOCuuwCANb0AILy+AMBCwABgycEAAFDDAKDWxABAXcYA4OPHAIBqyQAg8coAwHfMAGD+zQAAhc8AoAvRAECS0gDgGNQAgJ/VACAm1wDArNgAYDPaAAC62wCgQN0AQMfeAOBN4ACA1OEAIFvjAMDh5ABgaOYAAO/nAKB16QBA/OoA4ILsAIAJ7gAgkO8AwBbxAGCd8gAAJPQAoKr1AEAx9wDgt/gAgD76ACDF+wDAS/0AYNL+AABZAAGg3wEBQGYDAeDsBAGAcwYBIPoHAcCACQFgBwsBAI4MAaAUDgFAmw8B4CERAYCoEgEgLxQBwLUVAWA8FwEAwxgBoEkaAUDQGwHgVh0BgN0eASBkIAHA6iEBYHEjAQD4JAGgfiYBQAUoAeCLKQGAEisBIJksAcAfLgFgpi8BAC0xAaCzMgFAOjQB4MA1AYBHNwEgzjgBwFQ6AWDbOwEAYj0BoOg+AUBvQAHg9UEBgHxDASADRQHAiUYBYBBIAQCXSQGgHUsBQKRMAeAqTgGAsU8BIDhRAcC+UgFgRVQBAMxVAaBSVwFA2VgB4F9aAYDmWwEgbV0BwPNeAWB6YAEAAWIBoIdjAUAOZQHglGYBIKJpAcAoawFgr2wBADZuAaC8bwFAQ3EB4MlyAYBQdAEg13UBwF13AWDkeAEAa3oBoPF7AUB4fQHg/n4BgIWAASAMggHAkoMBYBmFAQCghgGgJogBQK2JAeAziwEgQY4BwMePAWBOkQFA4pUBgO+YASB2mgHA/JsBoJCgAUAXogHgnaMBgCSlAQA/qwFATK4B4NKvAYBZsQEg4LIBYO21AeAHvAE=",
          "dtype": "i4"
         },
         "y": {
          "bdata": "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",
          "dtype": "f8"
         }
        }
       ],
       "layout": {
        "barmode": "stack",
        "template": {
         "data": {
          "bar": [
           {
            "error_x": {
             "color": "#2a3f5f"
            },
            "error_y": {
             "color": "#2a3f5f"
            },
            "marker": {
             "line": {
              "color": "#E5ECF6",
              "width": 0.5
             },
             "pattern": {
              "fillmode": "overlay",
              "size": 10,
              "solidity": 0.2
             }
            },
            "type": "bar"
           }
          ],
          "barpolar": [
           {
            "marker": {
             "line": {
              "color": "#E5ECF6",
              "width": 0.5
             },
             "pattern": {
              "fillmode": "overlay",
              "size": 10,
              "solidity": 0.2
             }
            },
            "type": "barpolar"
           }
          ],
          "carpet": [
           {
            "aaxis": {
             "endlinecolor": "#2a3f5f",
             "gridcolor": "white",
             "linecolor": "white",
             "minorgridcolor": "white",
             "startlinecolor": "#2a3f5f"
            },
            "baxis": {
             "endlinecolor": "#2a3f5f",
             "gridcolor": "white",
             "linecolor": "white",
             "minorgridcolor": "white",
             "startlinecolor": "#2a3f5f"
            },
            "type": "carpet"
           }
          ],
          "choropleth": [
           {
            "colorbar": {
             "outlinewidth": 0,
             "ticks": ""
            },
            "type": "choropleth"
           }
          ],
          "contour": [
           {
            "colorbar": {
             "outlinewidth": 0,
             "ticks": ""
            },
            "colorscale": [
             [
              0,
              "#0d0887"
             ],
             [
              0.1111111111111111,
              "#46039f"
             ],
             [
              0.2222222222222222,
              "#7201a8"
             ],
             [
              0.3333333333333333,
              "#9c179e"
             ],
             [
              0.4444444444444444,
              "#bd3786"
             ],
             [
              0.5555555555555556,
              "#d8576b"
             ],
             [
              0.6666666666666666,
              "#ed7953"
             ],
             [
              0.7777777777777778,
              "#fb9f3a"
             ],
             [
              0.8888888888888888,
              "#fdca26"
             ],
             [
              1,
              "#f0f921"
             ]
            ],
            "type": "contour"
           }
          ],
          "contourcarpet": [
           {
            "colorbar": {
             "outlinewidth": 0,
             "ticks": ""
            },
            "type": "contourcarpet"
           }
          ],
          "heatmap": [
           {
            "colorbar": {
             "outlinewidth": 0,
             "ticks": ""
            },
            "colorscale": [
             [
              0,
              "#0d0887"
             ],
             [
              0.1111111111111111,
              "#46039f"
             ],
             [
              0.2222222222222222,
              "#7201a8"
             ],
             [
              0.3333333333333333,
              "#9c179e"
             ],
             [
              0.4444444444444444,
              "#bd3786"
             ],
             [
              0.5555555555555556,
              "#d8576b"
             ],
             [
              0.6666666666666666,
              "#ed7953"
             ],
             [
              0.7777777777777778,
              "#fb9f3a"
             ],
             [
              0.8888888888888888,
              "#fdca26"
             ],
             [
              1,
              "#f0f921"
             ]
            ],
            "type": "heatmap"
           }
          ],
          "histogram": [
           {
            "marker": {
             "pattern": {
              "fillmode": "overlay",
              "size": 10,
              "solidity": 0.2
             }
            },
            "type": "histogram"
           }
          ],
          "histogram2d": [
           {
            "colorbar": {
             "outlinewidth": 0,
             "ticks": ""
            },
            "colorscale": [
             [
              0,
              "#0d0887"
             ],
             [
              0.1111111111111111,
              "#46039f"
             ],
             [
              0.2222222222222222,
              "#7201a8"
             ],
             [
              0.3333333333333333,
              "#9c179e"
             ],
             [
              0.4444444444444444,
              "#bd3786"
             ],
             [
              0.5555555555555556,
              "#d8576b"
             ],
             [
              0.6666666666666666,
              "#ed7953"
             ],
             [
              0.7777777777777778,
              "#fb9f3a"
             ],
             [
              0.8888888888888888,
              "#fdca26"
             ],
             [
              1,
              "#f0f921"
             ]
            ],
            "type": "histogram2d"
           }
          ],
          "histogram2dcontour": [
           {
            "colorbar": {
             "outlinewidth": 0,
             "ticks": ""
            },
            "colorscale": [
             [
              0,
              "#0d0887"
             ],
             [
              0.1111111111111111,
              "#46039f"
             ],
             [
              0.2222222222222222,
              "#7201a8"
             ],
             [
              0.3333333333333333,
              "#9c179e"
             ],
             [
              0.4444444444444444,
              "#bd3786"
             ],
             [
              0.5555555555555556,
              "#d8576b"
             ],
             [
              0.6666666666666666,
              "#ed7953"
             ],
             [
              0.7777777777777778,
              "#fb9f3a"
             ],
             [
              0.8888888888888888,
              "#fdca26"
             ],
             [
              1,
              "#f0f921"
             ]
            ],
            "type": "histogram2dcontour"
           }
          ],
          "mesh3d": [
           {
            "colorbar": {
             "outlinewidth": 0,
             "ticks": ""
            },
            "type": "mesh3d"
           }
          ],
          "parcoords": [
           {
            "line": {
             "colorbar": {
              "outlinewidth": 0,
              "ticks": ""
             }
            },
            "type": "parcoords"
           }
          ],
          "pie": [
           {
            "automargin": true,
            "type": "pie"
           }
          ],
          "scatter": [
           {
            "fillpattern": {
             "fillmode": "overlay",
             "size": 10,
             "solidity": 0.2
            },
            "type": "scatter"
           }
          ],
          "scatter3d": [
           {
            "line": {
             "colorbar": {
              "outlinewidth": 0,
              "ticks": ""
             }
            },
            "marker": {
             "colorbar": {
              "outlinewidth": 0,
              "ticks": ""
             }
            },
            "type": "scatter3d"
           }
          ],
          "scattercarpet": [
           {
            "marker": {
             "colorbar": {
              "outlinewidth": 0,
              "ticks": ""
             }
            },
            "type": "scattercarpet"
           }
          ],
          "scattergeo": [
           {
            "marker": {
             "colorbar": {
              "outlinewidth": 0,
              "ticks": ""
             }
            },
            "type": "scattergeo"
           }
          ],
          "scattergl": [
           {
            "marker": {
             "colorbar": {
              "outlinewidth": 0,
              "ticks": ""
             }
            },
            "type": "scattergl"
           }
          ],
          "scattermap": [
           {
            "marker": {
             "colorbar": {
              "outlinewidth": 0,
              "ticks": ""
             }
            },
            "type": "scattermap"
           }
          ],
          "scattermapbox": [
           {
            "marker": {
             "colorbar": {
              "outlinewidth": 0,
              "ticks": ""
             }
            },
            "type": "scattermapbox"
           }
          ],
          "scatterpolar": [
           {
            "marker": {
             "colorbar": {
              "outlinewidth": 0,
              "ticks": ""
             }
            },
            "type": "scatterpolar"
           }
          ],
          "scatterpolargl": [
           {
            "marker": {
             "colorbar": {
              "outlinewidth": 0,
              "ticks": ""
             }
            },
            "type": "scatterpolargl"
           }
          ],
          "scatterternary": [
           {
            "marker": {
             "colorbar": {
              "outlinewidth": 0,
              "ticks": ""
             }
            },
            "type": "scatterternary"
           }
          ],
          "surface": [
           {
            "colorbar": {
             "outlinewidth": 0,
             "ticks": ""
            },
            "colorscale": [
             [
              0,
              "#0d0887"
             ],
             [
              0.1111111111111111,
              "#46039f"
             ],
             [
              0.2222222222222222,
              "#7201a8"
             ],
             [
              0.3333333333333333,
              "#9c179e"
             ],
             [
              0.4444444444444444,
              "#bd3786"
             ],
             [
              0.5555555555555556,
              "#d8576b"
             ],
             [
              0.6666666666666666,
              "#ed7953"
             ],
             [
              0.7777777777777778,
              "#fb9f3a"
             ],
             [
              0.8888888888888888,
              "#fdca26"
             ],
             [
              1,
              "#f0f921"
             ]
            ],
            "type": "surface"
           }
          ],
          "table": [
           {
            "cells": {
             "fill": {
              "color": "#EBF0F8"
             },
             "line": {
              "color": "white"
             }
            },
            "header": {
             "fill": {
              "color": "#C8D4E3"
             },
             "line": {
              "color": "white"
             }
            },
            "type": "table"
           }
          ]
         },
         "layout": {
          "annotationdefaults": {
           "arrowcolor": "#2a3f5f",
           "arrowhead": 0,
           "arrowwidth": 1
          },
          "autotypenumbers": "strict",
          "coloraxis": {
           "colorbar": {
            "outlinewidth": 0,
            "ticks": ""
           }
          },
          "colorscale": {
           "diverging": [
            [
             0,
             "#8e0152"
            ],
            [
             0.1,
             "#c51b7d"
            ],
            [
             0.2,
             "#de77ae"
            ],
            [
             0.3,
             "#f1b6da"
            ],
            [
             0.4,
             "#fde0ef"
            ],
            [
             0.5,
             "#f7f7f7"
            ],
            [
             0.6,
             "#e6f5d0"
            ],
            [
             0.7,
             "#b8e186"
            ],
            [
             0.8,
             "#7fbc41"
            ],
            [
             0.9,
             "#4d9221"
            ],
            [
             1,
             "#276419"
            ]
           ],
           "sequential": [
            [
             0,
             "#0d0887"
            ],
            [
             0.1111111111111111,
             "#46039f"
            ],
            [
             0.2222222222222222,
             "#7201a8"
            ],
            [
             0.3333333333333333,
             "#9c179e"
            ],
            [
             0.4444444444444444,
             "#bd3786"
            ],
            [
             0.5555555555555556,
             "#d8576b"
            ],
            [
             0.6666666666666666,
             "#ed7953"
            ],
            [
             0.7777777777777778,
             "#fb9f3a"
            ],
            [
             0.8888888888888888,
             "#fdca26"
            ],
            [
             1,
             "#f0f921"
            ]
           ],
           "sequentialminus": [
            [
             0,
             "#0d0887"
            ],
            [
             0.1111111111111111,
             "#46039f"
            ],
            [
             0.2222222222222222,
             "#7201a8"
            ],
            [
             0.3333333333333333,
             "#9c179e"
            ],
            [
             0.4444444444444444,
             "#bd3786"
            ],
            [
             0.5555555555555556,
             "#d8576b"
            ],
            [
             0.6666666666666666,
             "#ed7953"
            ],
            [
             0.7777777777777778,
             "#fb9f3a"
            ],
            [
             0.8888888888888888,
             "#fdca26"
            ],
            [
             1,
             "#f0f921"
            ]
           ]
          },
          "colorway": [
           "#636efa",
           "#EF553B",
           "#00cc96",
           "#ab63fa",
           "#FFA15A",
           "#19d3f3",
           "#FF6692",
           "#B6E880",
           "#FF97FF",
           "#FECB52"
          ],
          "font": {
           "color": "#2a3f5f"
          },
          "geo": {
           "bgcolor": "white",
           "lakecolor": "white",
           "landcolor": "#E5ECF6",
           "showlakes": true,
           "showland": true,
           "subunitcolor": "white"
          },
          "hoverlabel": {
           "align": "left"
          },
          "hovermode": "closest",
          "mapbox": {
           "style": "light"
          },
          "paper_bgcolor": "white",
          "plot_bgcolor": "#E5ECF6",
          "polar": {
           "angularaxis": {
            "gridcolor": "white",
            "linecolor": "white",
            "ticks": ""
           },
           "bgcolor": "#E5ECF6",
           "radialaxis": {
            "gridcolor": "white",
            "linecolor": "white",
            "ticks": ""
           }
          },
          "scene": {
           "xaxis": {
            "backgroundcolor": "#E5ECF6",
            "gridcolor": "white",
            "gridwidth": 2,
            "linecolor": "white",
            "showbackground": true,
            "ticks": "",
            "zerolinecolor": "white"
           },
           "yaxis": {
            "backgroundcolor": "#E5ECF6",
            "gridcolor": "white",
            "gridwidth": 2,
            "linecolor": "white",
            "showbackground": true,
            "ticks": "",
            "zerolinecolor": "white"
           },
           "zaxis": {
            "backgroundcolor": "#E5ECF6",
            "gridcolor": "white",
            "gridwidth": 2,
            "linecolor": "white",
            "showbackground": true,
            "ticks": "",
            "zerolinecolor": "white"
           }
          },
          "shapedefaults": {
           "line": {
            "color": "#2a3f5f"
           }
          },
          "ternary": {
           "aaxis": {
            "gridcolor": "white",
            "linecolor": "white",
            "ticks": ""
           },
           "baxis": {
            "gridcolor": "white",
            "linecolor": "white",
            "ticks": ""
           },
           "bgcolor": "#E5ECF6",
           "caxis": {
            "gridcolor": "white",
            "linecolor": "white",
            "ticks": ""
           }
          },
          "title": {
           "x": 0.05
          },
          "xaxis": {
           "automargin": true,
           "gridcolor": "white",
           "linecolor": "white",
           "ticks": "",
           "title": {
            "standoff": 15
           },
           "zerolinecolor": "white",
           "zerolinewidth": 2
          },
          "yaxis": {
           "automargin": true,
           "gridcolor": "white",
           "linecolor": "white",
           "ticks": "",
           "title": {
            "standoff": 15
           },
           "zerolinecolor": "white",
           "zerolinewidth": 2
          }
         }
        },
        "title": {
         "text": "Approval by Property Area"
        }
       }
      }
     },
     "metadata": {},
     "output_type": "display_data"
    }
   ],
   "source": [
    "ct = pd.crosstab(df['residential_assets_value'], df['loan_status'], normalize='index').reset_index()\n",
    "fig = go.Figure()\n",
    "fig.add_trace(go.Bar(x=ct['residential_assets_value'], y=ct['Y'], name='Approved'))\n",
    "fig.add_trace(go.Bar(x=ct['residential_assets_value'], y=ct['N'], name='Rejected'))\n",
    "fig.update_layout(barmode='stack', title=\"Approval by Property Area\")\n",
    "fig.show()\n"
   ]
  },
  {
   "cell_type": "code",
   "execution_count": 161,
   "id": "6da1196c",
   "metadata": {},
   "outputs": [
    {
     "data": {
      "application/vnd.plotly.v1+json": {
       "config": {
        "plotlyServerURL": "https://plot.ly"
       },
       "data": [
        {
         "text": {
          "bdata": "NwEMACwA5wE=",
          "dtype": "i2",
          "shape": "2, 2"
         },
         "texttemplate": "%{text}",
         "type": "heatmap",
         "x": [
          "Pred N",
          "Pred Y"
         ],
         "y": [
          "True N",
          "True Y"
         ],
         "z": {
          "bdata": "NwEMACwA5wE=",
          "dtype": "i2",
          "shape": "2, 2"
         }
        }
       ],
       "layout": {
        "template": {
         "data": {
          "bar": [
           {
            "error_x": {
             "color": "#2a3f5f"
            },
            "error_y": {
             "color": "#2a3f5f"
            },
            "marker": {
             "line": {
              "color": "#E5ECF6",
              "width": 0.5
             },
             "pattern": {
              "fillmode": "overlay",
              "size": 10,
              "solidity": 0.2
             }
            },
            "type": "bar"
           }
          ],
          "barpolar": [
           {
            "marker": {
             "line": {
              "color": "#E5ECF6",
              "width": 0.5
             },
             "pattern": {
              "fillmode": "overlay",
              "size": 10,
              "solidity": 0.2
             }
            },
            "type": "barpolar"
           }
          ],
          "carpet": [
           {
            "aaxis": {
             "endlinecolor": "#2a3f5f",
             "gridcolor": "white",
             "linecolor": "white",
             "minorgridcolor": "white",
             "startlinecolor": "#2a3f5f"
            },
            "baxis": {
             "endlinecolor": "#2a3f5f",
             "gridcolor": "white",
             "linecolor": "white",
             "minorgridcolor": "white",
             "startlinecolor": "#2a3f5f"
            },
            "type": "carpet"
           }
          ],
          "choropleth": [
           {
            "colorbar": {
             "outlinewidth": 0,
             "ticks": ""
            },
            "type": "choropleth"
           }
          ],
          "contour": [
           {
            "colorbar": {
             "outlinewidth": 0,
             "ticks": ""
            },
            "colorscale": [
             [
              0,
              "#0d0887"
             ],
             [
              0.1111111111111111,
              "#46039f"
             ],
             [
              0.2222222222222222,
              "#7201a8"
             ],
             [
              0.3333333333333333,
              "#9c179e"
             ],
             [
              0.4444444444444444,
              "#bd3786"
             ],
             [
              0.5555555555555556,
              "#d8576b"
             ],
             [
              0.6666666666666666,
              "#ed7953"
             ],
             [
              0.7777777777777778,
              "#fb9f3a"
             ],
             [
              0.8888888888888888,
              "#fdca26"
             ],
             [
              1,
              "#f0f921"
             ]
            ],
            "type": "contour"
           }
          ],
          "contourcarpet": [
           {
            "colorbar": {
             "outlinewidth": 0,
             "ticks": ""
            },
            "type": "contourcarpet"
           }
          ],
          "heatmap": [
           {
            "colorbar": {
             "outlinewidth": 0,
             "ticks": ""
            },
            "colorscale": [
             [
              0,
              "#0d0887"
             ],
             [
              0.1111111111111111,
              "#46039f"
             ],
             [
              0.2222222222222222,
              "#7201a8"
             ],
             [
              0.3333333333333333,
              "#9c179e"
             ],
             [
              0.4444444444444444,
              "#bd3786"
             ],
             [
              0.5555555555555556,
              "#d8576b"
             ],
             [
              0.6666666666666666,
              "#ed7953"
             ],
             [
              0.7777777777777778,
              "#fb9f3a"
             ],
             [
              0.8888888888888888,
              "#fdca26"
             ],
             [
              1,
              "#f0f921"
             ]
            ],
            "type": "heatmap"
           }
          ],
          "histogram": [
           {
            "marker": {
             "pattern": {
              "fillmode": "overlay",
              "size": 10,
              "solidity": 0.2
             }
            },
            "type": "histogram"
           }
          ],
          "histogram2d": [
           {
            "colorbar": {
             "outlinewidth": 0,
             "ticks": ""
            },
            "colorscale": [
             [
              0,
              "#0d0887"
             ],
             [
              0.1111111111111111,
              "#46039f"
             ],
             [
              0.2222222222222222,
              "#7201a8"
             ],
             [
              0.3333333333333333,
              "#9c179e"
             ],
             [
              0.4444444444444444,
              "#bd3786"
             ],
             [
              0.5555555555555556,
              "#d8576b"
             ],
             [
              0.6666666666666666,
              "#ed7953"
             ],
             [
              0.7777777777777778,
              "#fb9f3a"
             ],
             [
              0.8888888888888888,
              "#fdca26"
             ],
             [
              1,
              "#f0f921"
             ]
            ],
            "type": "histogram2d"
           }
          ],
          "histogram2dcontour": [
           {
            "colorbar": {
             "outlinewidth": 0,
             "ticks": ""
            },
            "colorscale": [
             [
              0,
              "#0d0887"
             ],
             [
              0.1111111111111111,
              "#46039f"
             ],
             [
              0.2222222222222222,
              "#7201a8"
             ],
             [
              0.3333333333333333,
              "#9c179e"
             ],
             [
              0.4444444444444444,
              "#bd3786"
             ],
             [
              0.5555555555555556,
              "#d8576b"
             ],
             [
              0.6666666666666666,
              "#ed7953"
             ],
             [
              0.7777777777777778,
              "#fb9f3a"
             ],
             [
              0.8888888888888888,
              "#fdca26"
             ],
             [
              1,
              "#f0f921"
             ]
            ],
            "type": "histogram2dcontour"
           }
          ],
          "mesh3d": [
           {
            "colorbar": {
             "outlinewidth": 0,
             "ticks": ""
            },
            "type": "mesh3d"
           }
          ],
          "parcoords": [
           {
            "line": {
             "colorbar": {
              "outlinewidth": 0,
              "ticks": ""
             }
            },
            "type": "parcoords"
           }
          ],
          "pie": [
           {
            "automargin": true,
            "type": "pie"
           }
          ],
          "scatter": [
           {
            "fillpattern": {
             "fillmode": "overlay",
             "size": 10,
             "solidity": 0.2
            },
            "type": "scatter"
           }
          ],
          "scatter3d": [
           {
            "line": {
             "colorbar": {
              "outlinewidth": 0,
              "ticks": ""
             }
            },
            "marker": {
             "colorbar": {
              "outlinewidth": 0,
              "ticks": ""
             }
            },
            "type": "scatter3d"
           }
          ],
          "scattercarpet": [
           {
            "marker": {
             "colorbar": {
              "outlinewidth": 0,
              "ticks": ""
             }
            },
            "type": "scattercarpet"
           }
          ],
          "scattergeo": [
           {
            "marker": {
             "colorbar": {
              "outlinewidth": 0,
              "ticks": ""
             }
            },
            "type": "scattergeo"
           }
          ],
          "scattergl": [
           {
            "marker": {
             "colorbar": {
              "outlinewidth": 0,
              "ticks": ""
             }
            },
            "type": "scattergl"
           }
          ],
          "scattermap": [
           {
            "marker": {
             "colorbar": {
              "outlinewidth": 0,
              "ticks": ""
             }
            },
            "type": "scattermap"
           }
          ],
          "scattermapbox": [
           {
            "marker": {
             "colorbar": {
              "outlinewidth": 0,
              "ticks": ""
             }
            },
            "type": "scattermapbox"
           }
          ],
          "scatterpolar": [
           {
            "marker": {
             "colorbar": {
              "outlinewidth": 0,
              "ticks": ""
             }
            },
            "type": "scatterpolar"
           }
          ],
          "scatterpolargl": [
           {
            "marker": {
             "colorbar": {
              "outlinewidth": 0,
              "ticks": ""
             }
            },
            "type": "scatterpolargl"
           }
          ],
          "scatterternary": [
           {
            "marker": {
             "colorbar": {
              "outlinewidth": 0,
              "ticks": ""
             }
            },
            "type": "scatterternary"
           }
          ],
          "surface": [
           {
            "colorbar": {
             "outlinewidth": 0,
             "ticks": ""
            },
            "colorscale": [
             [
              0,
              "#0d0887"
             ],
             [
              0.1111111111111111,
              "#46039f"
             ],
             [
              0.2222222222222222,
              "#7201a8"
             ],
             [
              0.3333333333333333,
              "#9c179e"
             ],
             [
              0.4444444444444444,
              "#bd3786"
             ],
             [
              0.5555555555555556,
              "#d8576b"
             ],
             [
              0.6666666666666666,
              "#ed7953"
             ],
             [
              0.7777777777777778,
              "#fb9f3a"
             ],
             [
              0.8888888888888888,
              "#fdca26"
             ],
             [
              1,
              "#f0f921"
             ]
            ],
            "type": "surface"
           }
          ],
          "table": [
           {
            "cells": {
             "fill": {
              "color": "#EBF0F8"
             },
             "line": {
              "color": "white"
             }
            },
            "header": {
             "fill": {
              "color": "#C8D4E3"
             },
             "line": {
              "color": "white"
             }
            },
            "type": "table"
           }
          ]
         },
         "layout": {
          "annotationdefaults": {
           "arrowcolor": "#2a3f5f",
           "arrowhead": 0,
           "arrowwidth": 1
          },
          "autotypenumbers": "strict",
          "coloraxis": {
           "colorbar": {
            "outlinewidth": 0,
            "ticks": ""
           }
          },
          "colorscale": {
           "diverging": [
            [
             0,
             "#8e0152"
            ],
            [
             0.1,
             "#c51b7d"
            ],
            [
             0.2,
             "#de77ae"
            ],
            [
             0.3,
             "#f1b6da"
            ],
            [
             0.4,
             "#fde0ef"
            ],
            [
             0.5,
             "#f7f7f7"
            ],
            [
             0.6,
             "#e6f5d0"
            ],
            [
             0.7,
             "#b8e186"
            ],
            [
             0.8,
             "#7fbc41"
            ],
            [
             0.9,
             "#4d9221"
            ],
            [
             1,
             "#276419"
            ]
           ],
           "sequential": [
            [
             0,
             "#0d0887"
            ],
            [
             0.1111111111111111,
             "#46039f"
            ],
            [
             0.2222222222222222,
             "#7201a8"
            ],
            [
             0.3333333333333333,
             "#9c179e"
            ],
            [
             0.4444444444444444,
             "#bd3786"
            ],
            [
             0.5555555555555556,
             "#d8576b"
            ],
            [
             0.6666666666666666,
             "#ed7953"
            ],
            [
             0.7777777777777778,
             "#fb9f3a"
            ],
            [
             0.8888888888888888,
             "#fdca26"
            ],
            [
             1,
             "#f0f921"
            ]
           ],
           "sequentialminus": [
            [
             0,
             "#0d0887"
            ],
            [
             0.1111111111111111,
             "#46039f"
            ],
            [
             0.2222222222222222,
             "#7201a8"
            ],
            [
             0.3333333333333333,
             "#9c179e"
            ],
            [
             0.4444444444444444,
             "#bd3786"
            ],
            [
             0.5555555555555556,
             "#d8576b"
            ],
            [
             0.6666666666666666,
             "#ed7953"
            ],
            [
             0.7777777777777778,
             "#fb9f3a"
            ],
            [
             0.8888888888888888,
             "#fdca26"
            ],
            [
             1,
             "#f0f921"
            ]
           ]
          },
          "colorway": [
           "#636efa",
           "#EF553B",
           "#00cc96",
           "#ab63fa",
           "#FFA15A",
           "#19d3f3",
           "#FF6692",
           "#B6E880",
           "#FF97FF",
           "#FECB52"
          ],
          "font": {
           "color": "#2a3f5f"
          },
          "geo": {
           "bgcolor": "white",
           "lakecolor": "white",
           "landcolor": "#E5ECF6",
           "showlakes": true,
           "showland": true,
           "subunitcolor": "white"
          },
          "hoverlabel": {
           "align": "left"
          },
          "hovermode": "closest",
          "mapbox": {
           "style": "light"
          },
          "paper_bgcolor": "white",
          "plot_bgcolor": "#E5ECF6",
          "polar": {
           "angularaxis": {
            "gridcolor": "white",
            "linecolor": "white",
            "ticks": ""
           },
           "bgcolor": "#E5ECF6",
           "radialaxis": {
            "gridcolor": "white",
            "linecolor": "white",
            "ticks": ""
           }
          },
          "scene": {
           "xaxis": {
            "backgroundcolor": "#E5ECF6",
            "gridcolor": "white",
            "gridwidth": 2,
            "linecolor": "white",
            "showbackground": true,
            "ticks": "",
            "zerolinecolor": "white"
           },
           "yaxis": {
            "backgroundcolor": "#E5ECF6",
            "gridcolor": "white",
            "gridwidth": 2,
            "linecolor": "white",
            "showbackground": true,
            "ticks": "",
            "zerolinecolor": "white"
           },
           "zaxis": {
            "backgroundcolor": "#E5ECF6",
            "gridcolor": "white",
            "gridwidth": 2,
            "linecolor": "white",
            "showbackground": true,
            "ticks": "",
            "zerolinecolor": "white"
           }
          },
          "shapedefaults": {
           "line": {
            "color": "#2a3f5f"
           }
          },
          "ternary": {
           "aaxis": {
            "gridcolor": "white",
            "linecolor": "white",
            "ticks": ""
           },
           "baxis": {
            "gridcolor": "white",
            "linecolor": "white",
            "ticks": ""
           },
           "bgcolor": "#E5ECF6",
           "caxis": {
            "gridcolor": "white",
            "linecolor": "white",
            "ticks": ""
           }
          },
          "title": {
           "x": 0.05
          },
          "xaxis": {
           "automargin": true,
           "gridcolor": "white",
           "linecolor": "white",
           "ticks": "",
           "title": {
            "standoff": 15
           },
           "zerolinecolor": "white",
           "zerolinewidth": 2
          },
          "yaxis": {
           "automargin": true,
           "gridcolor": "white",
           "linecolor": "white",
           "ticks": "",
           "title": {
            "standoff": 15
           },
           "zerolinecolor": "white",
           "zerolinewidth": 2
          }
         }
        },
        "title": {
         "text": "Confusion Matrix"
        }
       }
      }
     },
     "metadata": {},
     "output_type": "display_data"
    }
   ],
   "source": [
    "cm = confusion_matrix(y_test, y_pred)\n",
    "fig = go.Figure(data=go.Heatmap(z=cm, x=['Pred N','Pred Y'], y=['True N','True Y'], text=cm, texttemplate=\"%{text}\"))\n",
    "fig.update_layout(title=\"Confusion Matrix\")\n",
    "fig.show()\n"
   ]
  },
  {
   "cell_type": "code",
   "execution_count": 162,
   "id": "c0007cf2",
   "metadata": {},
   "outputs": [
    {
     "data": {
      "application/vnd.plotly.v1+json": {
       "config": {
        "plotlyServerURL": "https://plot.ly"
       },
       "data": [
        {
         "mode": "lines",
         "name": "PR curve",
         "type": "scatter",
         "x": {
          "bdata": "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",
          "dtype": "f8"
         },
         "y": {
          "bdata": "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",
          "dtype": "f8"
         }
        }
       ],
       "layout": {
        "template": {
         "data": {
          "bar": [
           {
            "error_x": {
             "color": "#2a3f5f"
            },
            "error_y": {
             "color": "#2a3f5f"
            },
            "marker": {
             "line": {
              "color": "#E5ECF6",
              "width": 0.5
             },
             "pattern": {
              "fillmode": "overlay",
              "size": 10,
              "solidity": 0.2
             }
            },
            "type": "bar"
           }
          ],
          "barpolar": [
           {
            "marker": {
             "line": {
              "color": "#E5ECF6",
              "width": 0.5
             },
             "pattern": {
              "fillmode": "overlay",
              "size": 10,
              "solidity": 0.2
             }
            },
            "type": "barpolar"
           }
          ],
          "carpet": [
           {
            "aaxis": {
             "endlinecolor": "#2a3f5f",
             "gridcolor": "white",
             "linecolor": "white",
             "minorgridcolor": "white",
             "startlinecolor": "#2a3f5f"
            },
            "baxis": {
             "endlinecolor": "#2a3f5f",
             "gridcolor": "white",
             "linecolor": "white",
             "minorgridcolor": "white",
             "startlinecolor": "#2a3f5f"
            },
            "type": "carpet"
           }
          ],
          "choropleth": [
           {
            "colorbar": {
             "outlinewidth": 0,
             "ticks": ""
            },
            "type": "choropleth"
           }
          ],
          "contour": [
           {
            "colorbar": {
             "outlinewidth": 0,
             "ticks": ""
            },
            "colorscale": [
             [
              0,
              "#0d0887"
             ],
             [
              0.1111111111111111,
              "#46039f"
             ],
             [
              0.2222222222222222,
              "#7201a8"
             ],
             [
              0.3333333333333333,
              "#9c179e"
             ],
             [
              0.4444444444444444,
              "#bd3786"
             ],
             [
              0.5555555555555556,
              "#d8576b"
             ],
             [
              0.6666666666666666,
              "#ed7953"
             ],
             [
              0.7777777777777778,
              "#fb9f3a"
             ],
             [
              0.8888888888888888,
              "#fdca26"
             ],
             [
              1,
              "#f0f921"
             ]
            ],
            "type": "contour"
           }
          ],
          "contourcarpet": [
           {
            "colorbar": {
             "outlinewidth": 0,
             "ticks": ""
            },
            "type": "contourcarpet"
           }
          ],
          "heatmap": [
           {
            "colorbar": {
             "outlinewidth": 0,
             "ticks": ""
            },
            "colorscale": [
             [
              0,
              "#0d0887"
             ],
             [
              0.1111111111111111,
              "#46039f"
             ],
             [
              0.2222222222222222,
              "#7201a8"
             ],
             [
              0.3333333333333333,
              "#9c179e"
             ],
             [
              0.4444444444444444,
              "#bd3786"
             ],
             [
              0.5555555555555556,
              "#d8576b"
             ],
             [
              0.6666666666666666,
              "#ed7953"
             ],
             [
              0.7777777777777778,
              "#fb9f3a"
             ],
             [
              0.8888888888888888,
              "#fdca26"
             ],
             [
              1,
              "#f0f921"
             ]
            ],
            "type": "heatmap"
           }
          ],
          "histogram": [
           {
            "marker": {
             "pattern": {
              "fillmode": "overlay",
              "size": 10,
              "solidity": 0.2
             }
            },
            "type": "histogram"
           }
          ],
          "histogram2d": [
           {
            "colorbar": {
             "outlinewidth": 0,
             "ticks": ""
            },
            "colorscale": [
             [
              0,
              "#0d0887"
             ],
             [
              0.1111111111111111,
              "#46039f"
             ],
             [
              0.2222222222222222,
              "#7201a8"
             ],
             [
              0.3333333333333333,
              "#9c179e"
             ],
             [
              0.4444444444444444,
              "#bd3786"
             ],
             [
              0.5555555555555556,
              "#d8576b"
             ],
             [
              0.6666666666666666,
              "#ed7953"
             ],
             [
              0.7777777777777778,
              "#fb9f3a"
             ],
             [
              0.8888888888888888,
              "#fdca26"
             ],
             [
              1,
              "#f0f921"
             ]
            ],
            "type": "histogram2d"
           }
          ],
          "histogram2dcontour": [
           {
            "colorbar": {
             "outlinewidth": 0,
             "ticks": ""
            },
            "colorscale": [
             [
              0,
              "#0d0887"
             ],
             [
              0.1111111111111111,
              "#46039f"
             ],
             [
              0.2222222222222222,
              "#7201a8"
             ],
             [
              0.3333333333333333,
              "#9c179e"
             ],
             [
              0.4444444444444444,
              "#bd3786"
             ],
             [
              0.5555555555555556,
              "#d8576b"
             ],
             [
              0.6666666666666666,
              "#ed7953"
             ],
             [
              0.7777777777777778,
              "#fb9f3a"
             ],
             [
              0.8888888888888888,
              "#fdca26"
             ],
             [
              1,
              "#f0f921"
             ]
            ],
            "type": "histogram2dcontour"
           }
          ],
          "mesh3d": [
           {
            "colorbar": {
             "outlinewidth": 0,
             "ticks": ""
            },
            "type": "mesh3d"
           }
          ],
          "parcoords": [
           {
            "line": {
             "colorbar": {
              "outlinewidth": 0,
              "ticks": ""
             }
            },
            "type": "parcoords"
           }
          ],
          "pie": [
           {
            "automargin": true,
            "type": "pie"
           }
          ],
          "scatter": [
           {
            "fillpattern": {
             "fillmode": "overlay",
             "size": 10,
             "solidity": 0.2
            },
            "type": "scatter"
           }
          ],
          "scatter3d": [
           {
            "line": {
             "colorbar": {
              "outlinewidth": 0,
              "ticks": ""
             }
            },
            "marker": {
             "colorbar": {
              "outlinewidth": 0,
              "ticks": ""
             }
            },
            "type": "scatter3d"
           }
          ],
          "scattercarpet": [
           {
            "marker": {
             "colorbar": {
              "outlinewidth": 0,
              "ticks": ""
             }
            },
            "type": "scattercarpet"
           }
          ],
          "scattergeo": [
           {
            "marker": {
             "colorbar": {
              "outlinewidth": 0,
              "ticks": ""
             }
            },
            "type": "scattergeo"
           }
          ],
          "scattergl": [
           {
            "marker": {
             "colorbar": {
              "outlinewidth": 0,
              "ticks": ""
             }
            },
            "type": "scattergl"
           }
          ],
          "scattermap": [
           {
            "marker": {
             "colorbar": {
              "outlinewidth": 0,
              "ticks": ""
             }
            },
            "type": "scattermap"
           }
          ],
          "scattermapbox": [
           {
            "marker": {
             "colorbar": {
              "outlinewidth": 0,
              "ticks": ""
             }
            },
            "type": "scattermapbox"
           }
          ],
          "scatterpolar": [
           {
            "marker": {
             "colorbar": {
              "outlinewidth": 0,
              "ticks": ""
             }
            },
            "type": "scatterpolar"
           }
          ],
          "scatterpolargl": [
           {
            "marker": {
             "colorbar": {
              "outlinewidth": 0,
              "ticks": ""
             }
            },
            "type": "scatterpolargl"
           }
          ],
          "scatterternary": [
           {
            "marker": {
             "colorbar": {
              "outlinewidth": 0,
              "ticks": ""
             }
            },
            "type": "scatterternary"
           }
          ],
          "surface": [
           {
            "colorbar": {
             "outlinewidth": 0,
             "ticks": ""
            },
            "colorscale": [
             [
              0,
              "#0d0887"
             ],
             [
              0.1111111111111111,
              "#46039f"
             ],
             [
              0.2222222222222222,
              "#7201a8"
             ],
             [
              0.3333333333333333,
              "#9c179e"
             ],
             [
              0.4444444444444444,
              "#bd3786"
             ],
             [
              0.5555555555555556,
              "#d8576b"
             ],
             [
              0.6666666666666666,
              "#ed7953"
             ],
             [
              0.7777777777777778,
              "#fb9f3a"
             ],
             [
              0.8888888888888888,
              "#fdca26"
             ],
             [
              1,
              "#f0f921"
             ]
            ],
            "type": "surface"
           }
          ],
          "table": [
           {
            "cells": {
             "fill": {
              "color": "#EBF0F8"
             },
             "line": {
              "color": "white"
             }
            },
            "header": {
             "fill": {
              "color": "#C8D4E3"
             },
             "line": {
              "color": "white"
             }
            },
            "type": "table"
           }
          ]
         },
         "layout": {
          "annotationdefaults": {
           "arrowcolor": "#2a3f5f",
           "arrowhead": 0,
           "arrowwidth": 1
          },
          "autotypenumbers": "strict",
          "coloraxis": {
           "colorbar": {
            "outlinewidth": 0,
            "ticks": ""
           }
          },
          "colorscale": {
           "diverging": [
            [
             0,
             "#8e0152"
            ],
            [
             0.1,
             "#c51b7d"
            ],
            [
             0.2,
             "#de77ae"
            ],
            [
             0.3,
             "#f1b6da"
            ],
            [
             0.4,
             "#fde0ef"
            ],
            [
             0.5,
             "#f7f7f7"
            ],
            [
             0.6,
             "#e6f5d0"
            ],
            [
             0.7,
             "#b8e186"
            ],
            [
             0.8,
             "#7fbc41"
            ],
            [
             0.9,
             "#4d9221"
            ],
            [
             1,
             "#276419"
            ]
           ],
           "sequential": [
            [
             0,
             "#0d0887"
            ],
            [
             0.1111111111111111,
             "#46039f"
            ],
            [
             0.2222222222222222,
             "#7201a8"
            ],
            [
             0.3333333333333333,
             "#9c179e"
            ],
            [
             0.4444444444444444,
             "#bd3786"
            ],
            [
             0.5555555555555556,
             "#d8576b"
            ],
            [
             0.6666666666666666,
             "#ed7953"
            ],
            [
             0.7777777777777778,
             "#fb9f3a"
            ],
            [
             0.8888888888888888,
             "#fdca26"
            ],
            [
             1,
             "#f0f921"
            ]
           ],
           "sequentialminus": [
            [
             0,
             "#0d0887"
            ],
            [
             0.1111111111111111,
             "#46039f"
            ],
            [
             0.2222222222222222,
             "#7201a8"
            ],
            [
             0.3333333333333333,
             "#9c179e"
            ],
            [
             0.4444444444444444,
             "#bd3786"
            ],
            [
             0.5555555555555556,
             "#d8576b"
            ],
            [
             0.6666666666666666,
             "#ed7953"
            ],
            [
             0.7777777777777778,
             "#fb9f3a"
            ],
            [
             0.8888888888888888,
             "#fdca26"
            ],
            [
             1,
             "#f0f921"
            ]
           ]
          },
          "colorway": [
           "#636efa",
           "#EF553B",
           "#00cc96",
           "#ab63fa",
           "#FFA15A",
           "#19d3f3",
           "#FF6692",
           "#B6E880",
           "#FF97FF",
           "#FECB52"
          ],
          "font": {
           "color": "#2a3f5f"
          },
          "geo": {
           "bgcolor": "white",
           "lakecolor": "white",
           "landcolor": "#E5ECF6",
           "showlakes": true,
           "showland": true,
           "subunitcolor": "white"
          },
          "hoverlabel": {
           "align": "left"
          },
          "hovermode": "closest",
          "mapbox": {
           "style": "light"
          },
          "paper_bgcolor": "white",
          "plot_bgcolor": "#E5ECF6",
          "polar": {
           "angularaxis": {
            "gridcolor": "white",
            "linecolor": "white",
            "ticks": ""
           },
           "bgcolor": "#E5ECF6",
           "radialaxis": {
            "gridcolor": "white",
            "linecolor": "white",
            "ticks": ""
           }
          },
          "scene": {
           "xaxis": {
            "backgroundcolor": "#E5ECF6",
            "gridcolor": "white",
            "gridwidth": 2,
            "linecolor": "white",
            "showbackground": true,
            "ticks": "",
            "zerolinecolor": "white"
           },
           "yaxis": {
            "backgroundcolor": "#E5ECF6",
            "gridcolor": "white",
            "gridwidth": 2,
            "linecolor": "white",
            "showbackground": true,
            "ticks": "",
            "zerolinecolor": "white"
           },
           "zaxis": {
            "backgroundcolor": "#E5ECF6",
            "gridcolor": "white",
            "gridwidth": 2,
            "linecolor": "white",
            "showbackground": true,
            "ticks": "",
            "zerolinecolor": "white"
           }
          },
          "shapedefaults": {
           "line": {
            "color": "#2a3f5f"
           }
          },
          "ternary": {
           "aaxis": {
            "gridcolor": "white",
            "linecolor": "white",
            "ticks": ""
           },
           "baxis": {
            "gridcolor": "white",
            "linecolor": "white",
            "ticks": ""
           },
           "bgcolor": "#E5ECF6",
           "caxis": {
            "gridcolor": "white",
            "linecolor": "white",
            "ticks": ""
           }
          },
          "title": {
           "x": 0.05
          },
          "xaxis": {
           "automargin": true,
           "gridcolor": "white",
           "linecolor": "white",
           "ticks": "",
           "title": {
            "standoff": 15
           },
           "zerolinecolor": "white",
           "zerolinewidth": 2
          },
          "yaxis": {
           "automargin": true,
           "gridcolor": "white",
           "linecolor": "white",
           "ticks": "",
           "title": {
            "standoff": 15
           },
           "zerolinecolor": "white",
           "zerolinewidth": 2
          }
         }
        },
        "title": {
         "text": "PR Curve (AP=0.986)"
        },
        "xaxis": {
         "title": {
          "text": "Recall"
         }
        },
        "yaxis": {
         "title": {
          "text": "Precision"
         }
        }
       }
      }
     },
     "metadata": {},
     "output_type": "display_data"
    }
   ],
   "source": [
    "fig = go.Figure()\n",
    "fig.add_trace(go.Scatter(x=recall, y=precision, mode='lines', name='PR curve'))\n",
    "fig.update_layout(xaxis_title='Recall', yaxis_title='Precision', title=f'PR Curve (AP={avg_prec:.3f})')\n",
    "fig.show()\n"
   ]
  },
  {
   "cell_type": "markdown",
   "id": "7c2dd0a9",
   "metadata": {},
   "source": [
    "### Model Comparison & Selection"
   ]
  },
  {
   "cell_type": "code",
   "execution_count": 163,
   "id": "8fdde988",
   "metadata": {},
   "outputs": [
    {
     "data": {
      "application/vnd.microsoft.datawrangler.viewer.v0+json": {
       "columns": [
        {
         "name": "model",
         "rawType": "object",
         "type": "string"
        },
        {
         "name": "precision",
         "rawType": "float64",
         "type": "float"
        },
        {
         "name": "recall",
         "rawType": "float64",
         "type": "float"
        },
        {
         "name": "f1",
         "rawType": "float64",
         "type": "float"
        },
        {
         "name": "roc_auc",
         "rawType": "float64",
         "type": "float"
        },
        {
         "name": "avg_precision",
         "rawType": "float64",
         "type": "float"
        }
       ],
       "ref": "f515dc24-9d73-45b1-920b-1274185322a3",
       "rows": [
        [
         "LogReg",
         "0.9759519038076152",
         "0.9171374764595104",
         "0.945631067961165",
         "0.9740894276235621",
         "0.9863251507925508"
        ],
        [
         "DecisionTree",
         "0.9868913857677902",
         "0.992467043314501",
         "0.9896713615023475",
         "0.9878784698535972",
         "0.9858708989059497"
        ]
       ],
       "shape": {
        "columns": 5,
        "rows": 2
       }
      },
      "text/html": [
       "<div>\n",
       "<style scoped>\n",
       "    .dataframe tbody tr th:only-of-type {\n",
       "        vertical-align: middle;\n",
       "    }\n",
       "\n",
       "    .dataframe tbody tr th {\n",
       "        vertical-align: top;\n",
       "    }\n",
       "\n",
       "    .dataframe thead th {\n",
       "        text-align: right;\n",
       "    }\n",
       "</style>\n",
       "<table border=\"1\" class=\"dataframe\">\n",
       "  <thead>\n",
       "    <tr style=\"text-align: right;\">\n",
       "      <th></th>\n",
       "      <th>precision</th>\n",
       "      <th>recall</th>\n",
       "      <th>f1</th>\n",
       "      <th>roc_auc</th>\n",
       "      <th>avg_precision</th>\n",
       "    </tr>\n",
       "    <tr>\n",
       "      <th>model</th>\n",
       "      <th></th>\n",
       "      <th></th>\n",
       "      <th></th>\n",
       "      <th></th>\n",
       "      <th></th>\n",
       "    </tr>\n",
       "  </thead>\n",
       "  <tbody>\n",
       "    <tr>\n",
       "      <th>LogReg</th>\n",
       "      <td>0.975952</td>\n",
       "      <td>0.917137</td>\n",
       "      <td>0.945631</td>\n",
       "      <td>0.974089</td>\n",
       "      <td>0.986325</td>\n",
       "    </tr>\n",
       "    <tr>\n",
       "      <th>DecisionTree</th>\n",
       "      <td>0.986891</td>\n",
       "      <td>0.992467</td>\n",
       "      <td>0.989671</td>\n",
       "      <td>0.987878</td>\n",
       "      <td>0.985871</td>\n",
       "    </tr>\n",
       "  </tbody>\n",
       "</table>\n",
       "</div>"
      ],
      "text/plain": [
       "              precision    recall        f1   roc_auc  avg_precision\n",
       "model                                                               \n",
       "LogReg         0.975952  0.917137  0.945631  0.974089       0.986325\n",
       "DecisionTree   0.986891  0.992467  0.989671  0.987878       0.985871"
      ]
     },
     "execution_count": 163,
     "metadata": {},
     "output_type": "execute_result"
    }
   ],
   "source": [
    "models = {'LogReg': best_lr, 'DecisionTree': best_dt}\n",
    "rows = []\n",
    "for name, model in models.items():\n",
    "    probs = model.predict_proba(X_test)[:,1]\n",
    "    preds = model.predict(X_test)\n",
    "    rows.append({\n",
    "        'model': name,\n",
    "        'precision': precision_score(y_test,preds),\n",
    "        'recall': recall_score(y_test,preds),\n",
    "        'f1': f1_score(y_test,preds),\n",
    "        'roc_auc': roc_auc_score(y_test,probs),\n",
    "        'avg_precision': average_precision_score(y_test,probs)\n",
    "    })\n",
    "pd.DataFrame(rows).set_index('model')\n"
   ]
  },
  {
   "cell_type": "code",
   "execution_count": null,
   "id": "6cd77347",
   "metadata": {},
   "outputs": [],
   "source": []
  }
 ],
 "metadata": {
  "kernelspec": {
   "display_name": "datasci",
   "language": "python",
   "name": "python3"
  },
  "language_info": {
   "codemirror_mode": {
    "name": "ipython",
    "version": 3
   },
   "file_extension": ".py",
   "mimetype": "text/x-python",
   "name": "python",
   "nbconvert_exporter": "python",
   "pygments_lexer": "ipython3",
   "version": "3.13.5"
  }
 },
 "nbformat": 4,
 "nbformat_minor": 5
}
